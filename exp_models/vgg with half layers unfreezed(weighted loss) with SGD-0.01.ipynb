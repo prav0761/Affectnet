{
 "cells": [
  {
   "cell_type": "code",
   "execution_count": 1,
   "id": "4d445e0f",
   "metadata": {},
   "outputs": [],
   "source": [
    "import torch\n",
    "from time import time\n",
    "import torch.nn as nn\n",
    "from torch.utils.data import Dataset, DataLoader\n",
    "import torch.optim as optim\n",
    "import torchvision\n",
    "import matplotlib.pyplot as plt\n",
    "from torchvision import datasets\n",
    "from torchvision import transforms\n",
    "from PIL import Image\n",
    "import numpy as np\n",
    "from torchvision.io import read_image\n",
    "from matplotlib import image\n",
    "from prepare_dataset import MyDataset,subset_generator\n",
    "from utils import display_some_images,stats_of_image_and_label,MyCuda_Stats,get_output_features_of_model\n",
    "from vgg_pretrained import vgg_all_freezed,total_trainable_parameters,full_vgg,vgg_layer_freeze\n",
    "from Model import Network,new_model\n",
    "from train_fn import train,validation,image_validation,validation_classes,train_batch\n",
    "from tqdm import tqdm\n"
   ]
  },
  {
   "cell_type": "code",
   "execution_count": 2,
   "id": "a1534e0b",
   "metadata": {},
   "outputs": [
    {
     "name": "stdout",
     "output_type": "stream",
     "text": [
      "\n",
      "Total trainable parameters of VGG is \t 138357544\n",
      "\n",
      "Total trainable parameters of Sequential is \t 14714688\n",
      "\n",
      "Total trainable parameters of Sequential is \t 0\n",
      "\n",
      "Total trainable parameters of Sequential is \t 7079424\n"
     ]
    }
   ],
   "source": [
    "fullvgg=full_vgg()\n",
    "total_trainable_parameters(fullvgg)\n",
    "total_trainable_parameters(fullvgg.features)\n",
    "total_trainable_parameters(vgg_all_freezed())\n",
    "total_trainable_parameters(vgg_layer_freeze(24))"
   ]
  },
  {
   "cell_type": "code",
   "execution_count": 3,
   "id": "ea93a186",
   "metadata": {},
   "outputs": [],
   "source": [
    "# DATA LOADER PARAMETERS\n",
    "batch=16\n",
    "CUDA_LAUNCH_BLOCKING=1 "
   ]
  },
  {
   "cell_type": "code",
   "execution_count": 4,
   "id": "ebe1d7b5",
   "metadata": {},
   "outputs": [
    {
     "name": "stdout",
     "output_type": "stream",
     "text": [
      "No of GPUs i have is 1\n",
      "0\n",
      "My Graphic Card is NVIDIA GeForce GTX 1050 Ti\n",
      "Is Cuda Available True\n"
     ]
    }
   ],
   "source": [
    "MyCuda_Stats()"
   ]
  },
  {
   "cell_type": "code",
   "execution_count": 5,
   "id": "3ac5a171",
   "metadata": {},
   "outputs": [],
   "source": [
    "normalize = transforms.Normalize(mean=[0.485, 0.456, 0.406],\n",
    "                                 std=[0.229, 0.224, 0.225])\n",
    "transform = transforms.Compose([transforms.ToTensor(),normalize])\n",
    "target_transform=transforms.Compose([transforms.ToTensor()])"
   ]
  },
  {
   "cell_type": "code",
   "execution_count": 6,
   "id": "8c998551",
   "metadata": {},
   "outputs": [],
   "source": [
    "anno_dir=r\"F:\\Affectnet\\annotations\"\n",
    "image_dir=r\"F:\\Affectnet\\train_set\\train_set\\images\"\n",
    "train_data=MyDataset(anno_dir,image_dir,transform=transform, target_transform=None)"
   ]
  },
  {
   "cell_type": "code",
   "execution_count": 7,
   "id": "b20ba860",
   "metadata": {},
   "outputs": [],
   "source": [
    "val_anno_dir=r\"F:\\Affectnet\\val_set\\val_set\\annotations\"\n",
    "val_image_dir=r\"F:\\Affectnet\\val_set\\val_set\\images\"\n",
    "val_data=MyDataset(val_anno_dir,val_image_dir,transform=transform, target_transform=None)"
   ]
  },
  {
   "cell_type": "code",
   "execution_count": 8,
   "id": "e624ead2",
   "metadata": {},
   "outputs": [],
   "source": [
    "train_loader=torch.utils.data.DataLoader(train_data,\n",
    "                                         batch_size=batch,\n",
    "                                         shuffle=True,\n",
    "                                         num_workers=4,\n",
    "                                         pin_memory=True,\n",
    "                                         sampler=None)\n",
    "val_loader=torch.utils.data.DataLoader(val_data,\n",
    "                                       batch_size=batch,\n",
    "                                       shuffle=False,\n",
    "                                       num_workers=4,\n",
    "                                       pin_memory=True,\n",
    "                                      sampler=None)\n",
    "val_class_loader=torch.utils.data.DataLoader(val_data,\n",
    "                                       batch_size=1,\n",
    "                                       shuffle=False,\n",
    "                                       num_workers=4,\n",
    "                                       pin_memory=True,\n",
    "                                      sampler=None)"
   ]
  },
  {
   "cell_type": "code",
   "execution_count": 9,
   "id": "4a3ec39b",
   "metadata": {},
   "outputs": [
    {
     "name": "stdout",
     "output_type": "stream",
     "text": [
      "17979\n",
      "250\n"
     ]
    }
   ],
   "source": [
    "print(len(train_loader))\n",
    "print(len(val_loader))\n"
   ]
  },
  {
   "cell_type": "code",
   "execution_count": 10,
   "id": "0e9056ef",
   "metadata": {},
   "outputs": [
    {
     "name": "stdout",
     "output_type": "stream",
     "text": [
      "Using cuda device\n"
     ]
    }
   ],
   "source": [
    "device = \"cuda\" if torch.cuda.is_available() else \"cpu\"\n",
    "print(f\"Using {device} device\")"
   ]
  },
  {
   "cell_type": "code",
   "execution_count": 11,
   "id": "a151cfdd",
   "metadata": {},
   "outputs": [
    {
     "name": "stdout",
     "output_type": "stream",
     "text": [
      "\n",
      "Total trainable parameters of Sequential is \t 12979200\n"
     ]
    }
   ],
   "source": [
    "feature_extractor=vgg_layer_freeze(17)\n",
    "total_trainable_parameters(feature_extractor)\n"
   ]
  },
  {
   "cell_type": "code",
   "execution_count": 12,
   "id": "ed024f3e",
   "metadata": {},
   "outputs": [],
   "source": [
    "\n",
    "#input_features_for_denselayer=get_output_features_of_model(model=feature_extractor,batch_size=32,dataloader=train_loader)\n",
    "input_features_for_denselayer=25088\n"
   ]
  },
  {
   "cell_type": "code",
   "execution_count": 13,
   "id": "8af3f729",
   "metadata": {},
   "outputs": [],
   "source": [
    "model1=new_model(feature_extractor,input_features_for_denselayer).to(device)\n"
   ]
  },
  {
   "cell_type": "code",
   "execution_count": 14,
   "id": "5cbccce6",
   "metadata": {},
   "outputs": [
    {
     "name": "stdout",
     "output_type": "stream",
     "text": [
      "\n",
      "Total trainable parameters of new_model is \t 115776520\n"
     ]
    }
   ],
   "source": [
    "total_trainable_parameters(model1)"
   ]
  },
  {
   "cell_type": "code",
   "execution_count": 15,
   "id": "26ceb2bf",
   "metadata": {},
   "outputs": [],
   "source": [
    "weights=[0.1,0.1,0.5,0.5,0.8,0.99,0.5,0.99]\n",
    "loss1=nn.CrossEntropyLoss(weight=torch.tensor(weights).to(device))\n",
    "loss_plain=nn.CrossEntropyLoss()\n",
    "optimizer=optim.SGD(model1.parameters(),lr=0.0001,momentum=0.9)\n",
    "classes=['Neutral','Happy','Sad','Surprise','Fear','Disgust','Anger','Contempt']"
   ]
  },
  {
   "cell_type": "code",
   "execution_count": 16,
   "id": "636b4f39",
   "metadata": {},
   "outputs": [],
   "source": [
    "#model1.load_state_dict(torch.load(r\"C:\\Users\\DELL\\Desktop\\Python\\Affect_Net\\Affectnet\\models\\modelrecent.pth\"))"
   ]
  },
  {
   "cell_type": "code",
   "execution_count": 17,
   "id": "de708b4c",
   "metadata": {},
   "outputs": [],
   "source": [
    "#optimizer.load_state_dict(torch.load(r\"C:\\Users\\DELL\\Desktop\\Python\\Affect_Net\\Affectnet\\models\\optimizer1.pth\"))"
   ]
  },
  {
   "cell_type": "code",
   "execution_count": null,
   "id": "9b98c617",
   "metadata": {},
   "outputs": [
    {
     "name": "stdout",
     "output_type": "stream",
     "text": [
      "Epoch-0\n"
     ]
    },
    {
     "name": "stderr",
     "output_type": "stream",
     "text": [
      "  0%|                                                                            | 1/17979 [00:23<118:13:42, 23.67s/it]"
     ]
    },
    {
     "name": "stdout",
     "output_type": "stream",
     "text": [
      "loss:2.177055 batch:0/17979\n"
     ]
    },
    {
     "name": "stderr",
     "output_type": "stream",
     "text": [
      "  1%|▋                                                                           | 161/17979 [02:33<4:01:14,  1.23it/s]"
     ]
    },
    {
     "name": "stdout",
     "output_type": "stream",
     "text": [
      "loss:1.798539 batch:160/17979\n"
     ]
    },
    {
     "name": "stderr",
     "output_type": "stream",
     "text": [
      "  2%|█▎                                                                          | 321/17979 [05:22<8:17:27,  1.69s/it]"
     ]
    },
    {
     "name": "stdout",
     "output_type": "stream",
     "text": [
      "loss:1.388859 batch:320/17979\n"
     ]
    },
    {
     "name": "stderr",
     "output_type": "stream",
     "text": [
      "  3%|██                                                                          | 481/17979 [08:11<4:51:25,  1.00it/s]"
     ]
    },
    {
     "name": "stdout",
     "output_type": "stream",
     "text": [
      "loss:1.922681 batch:480/17979\n"
     ]
    },
    {
     "name": "stderr",
     "output_type": "stream",
     "text": [
      "  4%|██▋                                                                        | 641/17979 [14:12<29:36:04,  6.15s/it]"
     ]
    },
    {
     "name": "stdout",
     "output_type": "stream",
     "text": [
      "loss:1.393564 batch:640/17979\n"
     ]
    },
    {
     "name": "stderr",
     "output_type": "stream",
     "text": [
      "  4%|███▍                                                                        | 801/17979 [19:22<7:04:30,  1.48s/it]"
     ]
    },
    {
     "name": "stdout",
     "output_type": "stream",
     "text": [
      "loss:0.802019 batch:800/17979\n"
     ]
    },
    {
     "name": "stderr",
     "output_type": "stream",
     "text": [
      "  5%|████                                                                       | 961/17979 [25:24<43:31:21,  9.21s/it]"
     ]
    },
    {
     "name": "stdout",
     "output_type": "stream",
     "text": [
      "loss:1.177025 batch:960/17979\n"
     ]
    },
    {
     "name": "stderr",
     "output_type": "stream",
     "text": [
      "  6%|████▋                                                                      | 1121/17979 [30:38<4:21:40,  1.07it/s]"
     ]
    },
    {
     "name": "stdout",
     "output_type": "stream",
     "text": [
      "loss:1.808493 batch:1120/17979\n"
     ]
    },
    {
     "name": "stderr",
     "output_type": "stream",
     "text": [
      "  7%|█████▎                                                                    | 1281/17979 [36:16<17:52:02,  3.85s/it]"
     ]
    },
    {
     "name": "stdout",
     "output_type": "stream",
     "text": [
      "loss:1.548084 batch:1280/17979\n"
     ]
    },
    {
     "name": "stderr",
     "output_type": "stream",
     "text": [
      "  8%|██████                                                                     | 1441/17979 [41:20<5:10:03,  1.12s/it]"
     ]
    },
    {
     "name": "stdout",
     "output_type": "stream",
     "text": [
      "loss:1.913453 batch:1440/17979\n"
     ]
    },
    {
     "name": "stderr",
     "output_type": "stream",
     "text": [
      "  9%|██████▋                                                                    | 1601/17979 [46:06<7:22:49,  1.62s/it]"
     ]
    },
    {
     "name": "stdout",
     "output_type": "stream",
     "text": [
      "loss:1.493049 batch:1600/17979\n"
     ]
    },
    {
     "name": "stderr",
     "output_type": "stream",
     "text": [
      " 10%|███████▏                                                                  | 1761/17979 [53:34<63:40:08, 14.13s/it]"
     ]
    },
    {
     "name": "stdout",
     "output_type": "stream",
     "text": [
      "loss:1.180357 batch:1760/17979\n"
     ]
    },
    {
     "name": "stderr",
     "output_type": "stream",
     "text": [
      " 11%|███████▊                                                                 | 1921/17979 [2:38:30<7:22:05,  1.65s/it]"
     ]
    },
    {
     "name": "stdout",
     "output_type": "stream",
     "text": [
      "loss:1.389775 batch:1920/17979\n"
     ]
    },
    {
     "name": "stderr",
     "output_type": "stream",
     "text": [
      " 12%|████████▎                                                               | 2081/17979 [2:44:23<12:04:56,  2.74s/it]"
     ]
    },
    {
     "name": "stdout",
     "output_type": "stream",
     "text": [
      "loss:1.192677 batch:2080/17979\n"
     ]
    },
    {
     "name": "stderr",
     "output_type": "stream",
     "text": [
      " 12%|█████████                                                                | 2241/17979 [2:50:02<3:40:25,  1.19it/s]"
     ]
    },
    {
     "name": "stdout",
     "output_type": "stream",
     "text": [
      "loss:1.480303 batch:2240/17979\n"
     ]
    },
    {
     "name": "stderr",
     "output_type": "stream",
     "text": [
      " 13%|█████████▋                                                               | 2401/17979 [2:54:57<7:00:13,  1.62s/it]"
     ]
    },
    {
     "name": "stdout",
     "output_type": "stream",
     "text": [
      "loss:1.709017 batch:2400/17979\n"
     ]
    },
    {
     "name": "stderr",
     "output_type": "stream",
     "text": [
      " 14%|██████████▎                                                              | 2550/17979 [2:59:47<4:25:35,  1.03s/it]"
     ]
    }
   ],
   "source": [
    "# NO OF EPOCHS IS 5\n",
    "epochs=3\n",
    "for epoch in range(epochs):\n",
    "    print(f'Epoch-{epoch}')\n",
    "    train_batch(train_loader,model1,loss1,optimizer)\n",
    "    validation(val_loader,model1,loss1)\n",
    "    \n",
    "    \n"
   ]
  },
  {
   "cell_type": "code",
   "execution_count": null,
   "id": "4ad263a0",
   "metadata": {},
   "outputs": [],
   "source": [
    "validation_classes(val_class_loader,model1,loss1,0)"
   ]
  },
  {
   "cell_type": "code",
   "execution_count": null,
   "id": "7053c765",
   "metadata": {},
   "outputs": [],
   "source": [
    "validation_classes(val_class_loader,model1,loss1,1)"
   ]
  },
  {
   "cell_type": "code",
   "execution_count": null,
   "id": "0effc546",
   "metadata": {},
   "outputs": [],
   "source": [
    "validation_classes(val_class_loader,model1,loss1,2)"
   ]
  },
  {
   "cell_type": "code",
   "execution_count": null,
   "id": "69f32a19",
   "metadata": {},
   "outputs": [],
   "source": [
    "validation_classes(val_class_loader,model1,loss1,3)"
   ]
  },
  {
   "cell_type": "code",
   "execution_count": null,
   "id": "b78fa682",
   "metadata": {},
   "outputs": [],
   "source": [
    "validation_classes(val_class_loader,model1,loss1,4)"
   ]
  },
  {
   "cell_type": "code",
   "execution_count": null,
   "id": "9b99750e",
   "metadata": {},
   "outputs": [],
   "source": [
    "validation_classes(val_class_loader,model1,loss1,5)"
   ]
  },
  {
   "cell_type": "code",
   "execution_count": null,
   "id": "6b236bee",
   "metadata": {},
   "outputs": [],
   "source": [
    "validation_classes(val_class_loader,model1,loss1,6)"
   ]
  },
  {
   "cell_type": "code",
   "execution_count": null,
   "id": "b6f0f8e6",
   "metadata": {},
   "outputs": [],
   "source": [
    "validation_classes(val_class_loader,model1,loss1,7)"
   ]
  },
  {
   "cell_type": "code",
   "execution_count": null,
   "id": "e032ac8e",
   "metadata": {
    "scrolled": true
   },
   "outputs": [],
   "source": [
    "torch.save(model1.state_dict(), r\"C:\\Users\\DELL\\Desktop\\Python\\Affect_Net\\Affectnet\\models\\model(weightedloss1adam.pth\")"
   ]
  },
  {
   "cell_type": "code",
   "execution_count": null,
   "id": "efbe42a8",
   "metadata": {},
   "outputs": [],
   "source": [
    "\n",
    "\n",
    "torch.save(optimizer.state_dict(), r\"C:\\Users\\DELL\\Desktop\\Python\\Affect_Net\\Affectnet\\models\\optimizer(weightedloss1adam)..pth\")"
   ]
  }
 ],
 "metadata": {
  "kernelspec": {
   "display_name": "praveen",
   "language": "python",
   "name": "praveen"
  },
  "language_info": {
   "codemirror_mode": {
    "name": "ipython",
    "version": 3
   },
   "file_extension": ".py",
   "mimetype": "text/x-python",
   "name": "python",
   "nbconvert_exporter": "python",
   "pygments_lexer": "ipython3",
   "version": "3.8.5"
  }
 },
 "nbformat": 4,
 "nbformat_minor": 5
}
