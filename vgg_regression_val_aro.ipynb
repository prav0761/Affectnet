{
 "cells": [
  {
   "cell_type": "code",
   "execution_count": 1,
   "id": "bde5c7c4",
   "metadata": {},
   "outputs": [],
   "source": [
    "import torch\n",
    "from time import time\n",
    "import torch.nn as nn\n",
    "from torch.utils.data import Dataset, DataLoader\n",
    "import torch.optim as optim\n",
    "from zipfile import ZipFile\n",
    "import numpy as np\n",
    "import pandas as pd\n",
    "from time import time\n",
    "import zipfile\n",
    "import re\n",
    "import os\n",
    "import torchvision\n",
    "from torchvision import datasets\n",
    "from torchvision import transforms\n",
    "import matplotlib.pyplot as plt\n",
    "from PIL import Image\n",
    "from torchvision.io import read_image\n",
    "from matplotlib import image"
   ]
  },
  {
   "cell_type": "code",
   "execution_count": 2,
   "id": "8b352daa",
   "metadata": {},
   "outputs": [],
   "source": [
    "from vgg_pretrained import vgg_all_freezed,total_trainable_parameters,full_vgg,vgg_layer_freeze\n",
    "from prepare_dataset import MyDataset,subset_generator\n",
    "from vgg_pretrained import vgg_all_freezed,total_trainable_parameters,full_vgg,vgg_layer_freeze\n",
    "from train_fn import train,validation,image_validation,validation_classes,train_batch\n",
    "from Model import Network,new_model,new_Regressor\n",
    "from utils import MyCuda_Stats"
   ]
  },
  {
   "cell_type": "code",
   "execution_count": 3,
   "id": "f38383f1",
   "metadata": {},
   "outputs": [
    {
     "name": "stdout",
     "output_type": "stream",
     "text": [
      "No of GPUs i have is 1\n",
      "0\n",
      "My Graphic Card is NVIDIA GeForce RTX 2060 with Max-Q Design\n",
      "Is Cuda Available True\n"
     ]
    }
   ],
   "source": [
    "MyCuda_Stats()"
   ]
  },
  {
   "cell_type": "code",
   "execution_count": 4,
   "id": "86356ae0",
   "metadata": {},
   "outputs": [],
   "source": [
    "fullvgg=full_vgg()\n",
    "\n",
    "normalize = transforms.Normalize(mean=[0.485, 0.456, 0.406],\n",
    "                                 std=[0.229, 0.224, 0.225])\n",
    "transform = transforms.Compose([transforms.ToTensor(),normalize])\n",
    "target_transform=transforms.Compose([transforms.ToTensor()])\n"
   ]
  },
  {
   "cell_type": "code",
   "execution_count": 5,
   "id": "0f74a352",
   "metadata": {},
   "outputs": [
    {
     "name": "stdout",
     "output_type": "stream",
     "text": [
      "This dataset is done\n",
      "\n"
     ]
    }
   ],
   "source": [
    "#will take lot of time due to opening each file and creating the dataframe\n",
    "anno_dir=r\"C:\\Users\\jacob\\Downloads\\Data\\train_set\\annotations\"\n",
    "image_dir=r\"C:\\Users\\jacob\\Downloads\\Data\\train_set\\images\"\n",
    "train_data=MyDataset(anno_dir,image_dir,transform=transform, target_transform=None)\n"
   ]
  },
  {
   "cell_type": "code",
   "execution_count": 6,
   "id": "1e769e7f",
   "metadata": {},
   "outputs": [
    {
     "name": "stdout",
     "output_type": "stream",
     "text": [
      "This dataset is done\n",
      "\n"
     ]
    }
   ],
   "source": [
    "\n",
    "val_anno_dir=r\"C:\\Users\\jacob\\Downloads\\Data\\val_set\\annotations\"\n",
    "val_image_dir=r\"C:\\Users\\jacob\\Downloads\\Data\\val_set\\images\"\n",
    "val_data=MyDataset(val_anno_dir,val_image_dir,transform=transform, target_transform=None)"
   ]
  },
  {
   "cell_type": "code",
   "execution_count": 7,
   "id": "96e99b1f",
   "metadata": {},
   "outputs": [],
   "source": [
    "batch = 4\n",
    "train_loader=torch.utils.data.DataLoader(train_data,\n",
    "                                         batch_size=batch,\n",
    "                                         shuffle=True,\n",
    "                                         num_workers=4,\n",
    "                                         pin_memory=True,\n",
    "                                         sampler=None)\n",
    "val_loader=torch.utils.data.DataLoader(val_data,\n",
    "                                       batch_size=batch,\n",
    "                                       shuffle=False,\n",
    "                                       num_workers=4,\n",
    "                                       pin_memory=True,\n",
    "                                      sampler=None)\n",
    "val_class_loader=torch.utils.data.DataLoader(val_data,\n",
    "                                       batch_size=1,\n",
    "                                       shuffle=False,\n",
    "                                       num_workers=4,\n",
    "                                       pin_memory=True,\n",
    "                                      sampler=None)"
   ]
  },
  {
   "cell_type": "code",
   "execution_count": 8,
   "id": "86113411",
   "metadata": {},
   "outputs": [
    {
     "name": "stdout",
     "output_type": "stream",
     "text": [
      "[]\n",
      "[]\n"
     ]
    }
   ],
   "source": [
    "df = train_data.basis_to_exp()\n",
    "X = np.array(df.loc[:, ~df.columns.isin(['class'])])\n",
    "y = np.array(df['class'])\n",
    "print(X)\n",
    "print(y)"
   ]
  },
  {
   "cell_type": "code",
   "execution_count": 9,
   "id": "192619e4",
   "metadata": {},
   "outputs": [
    {
     "name": "stdout",
     "output_type": "stream",
     "text": [
      "Using cuda device\n"
     ]
    }
   ],
   "source": [
    "device = \"cuda\" if torch.cuda.is_available() else \"cpu\"\n",
    "print(f\"Using {device} device\")"
   ]
  },
  {
   "cell_type": "code",
   "execution_count": 10,
   "id": "adbb6ab3",
   "metadata": {},
   "outputs": [
    {
     "name": "stdout",
     "output_type": "stream",
     "text": [
      "\n",
      "Total trainable parameters of Sequential is \t 12979200\n"
     ]
    }
   ],
   "source": [
    "feature_extractor=vgg_layer_freeze(17)\n",
    "total_trainable_parameters(feature_extractor)"
   ]
  },
  {
   "cell_type": "code",
   "execution_count": 11,
   "id": "ec30a15c",
   "metadata": {},
   "outputs": [],
   "source": [
    "\n",
    "#input_features_for_denselayer=get_output_features_of_model(model=feature_extractor,batch_size=32,dataloader=train_loader)\n",
    "input_features_for_denselayer=25088\n"
   ]
  },
  {
   "cell_type": "code",
   "execution_count": 12,
   "id": "b2ddee07",
   "metadata": {},
   "outputs": [
    {
     "name": "stdout",
     "output_type": "stream",
     "text": [
      "\n",
      "Total trainable parameters of new_Regressor is \t 117842434\n"
     ]
    }
   ],
   "source": [
    "modelReg=new_Regressor(feature_extractor,input_features_for_denselayer).to(device)\n",
    "total_trainable_parameters(modelReg)"
   ]
  },
  {
   "cell_type": "code",
   "execution_count": 13,
   "id": "ee0f1438",
   "metadata": {},
   "outputs": [],
   "source": [
    "loss_plain=nn.L1Loss()\n",
    "optimizer=optim.NAdam(modelReg.parameters(),lr=0.0001)\n",
    "classes = ['Valance', 'Arousal']\n",
    "classes_exp=['Neutral','Happy','Sad','Surprise','Fear','Disgust','Anger','Contempt']"
   ]
  },
  {
   "cell_type": "code",
   "execution_count": null,
   "id": "993fe641",
   "metadata": {},
   "outputs": [
    {
     "name": "stdout",
     "output_type": "stream",
     "text": [
      "Epoch-0\n"
     ]
    },
    {
     "name": "stderr",
     "output_type": "stream",
     "text": [
      "  0%|          | 0/71913 [00:00<?, ?it/s]C:\\Users\\jacob\\anaconda3\\envs\\dl_env\\lib\\site-packages\\torch\\nn\\modules\\loss.py:96: UserWarning: Using a target size (torch.Size([4, 1])) that is different to the input size (torch.Size([2])). This will likely lead to incorrect results due to broadcasting. Please ensure they have the same size.\n",
      "  return F.l1_loss(input, target, reduction=self.reduction)\n",
      "  0%|          | 1/71913 [00:13<279:14:56, 13.98s/it]"
     ]
    },
    {
     "name": "stdout",
     "output_type": "stream",
     "text": [
      "loss:0.078901 batch:0/71913\n",
      "loss:0.023218 batch:0/71913\n"
     ]
    },
    {
     "name": "stderr",
     "output_type": "stream",
     "text": [
      "\r",
      "  0%|          | 3/71913 [00:14<76:13:56,  3.82s/it] "
     ]
    },
    {
     "name": "stdout",
     "output_type": "stream",
     "text": [
      "loss:0.127345 batch:2/71913\n",
      "loss:0.168670 batch:2/71913\n"
     ]
    },
    {
     "name": "stderr",
     "output_type": "stream",
     "text": [
      "\r",
      "  0%|          | 5/71913 [00:15<39:38:20,  1.98s/it]"
     ]
    },
    {
     "name": "stdout",
     "output_type": "stream",
     "text": [
      "loss:0.008048 batch:4/71913\n",
      "loss:0.026280 batch:4/71913\n"
     ]
    },
    {
     "name": "stderr",
     "output_type": "stream",
     "text": [
      "\r",
      "  0%|          | 7/71913 [00:15<25:03:14,  1.25s/it]"
     ]
    },
    {
     "name": "stdout",
     "output_type": "stream",
     "text": [
      "loss:0.014506 batch:6/71913\n",
      "loss:0.080009 batch:6/71913\n"
     ]
    },
    {
     "name": "stderr",
     "output_type": "stream",
     "text": [
      "\r",
      "  0%|          | 9/71913 [00:16<17:33:44,  1.14it/s]"
     ]
    },
    {
     "name": "stdout",
     "output_type": "stream",
     "text": [
      "loss:0.066253 batch:8/71913\n",
      "loss:0.021952 batch:8/71913\n"
     ]
    },
    {
     "name": "stderr",
     "output_type": "stream",
     "text": [
      "\r",
      "  0%|          | 11/71913 [00:16<13:14:43,  1.51it/s]"
     ]
    },
    {
     "name": "stdout",
     "output_type": "stream",
     "text": [
      "loss:0.029692 batch:10/71913\n",
      "loss:0.014366 batch:10/71913\n"
     ]
    },
    {
     "name": "stderr",
     "output_type": "stream",
     "text": [
      "\r",
      "  0%|          | 13/71913 [00:17<10:33:46,  1.89it/s]"
     ]
    },
    {
     "name": "stdout",
     "output_type": "stream",
     "text": [
      "loss:0.066827 batch:12/71913\n",
      "loss:0.026536 batch:12/71913\n"
     ]
    },
    {
     "name": "stderr",
     "output_type": "stream",
     "text": [
      "\r",
      "  0%|          | 15/71913 [00:17<8:48:46,  2.27it/s] "
     ]
    },
    {
     "name": "stdout",
     "output_type": "stream",
     "text": [
      "loss:0.011617 batch:14/71913\n",
      "loss:0.026998 batch:14/71913\n"
     ]
    },
    {
     "name": "stderr",
     "output_type": "stream",
     "text": [
      "\r",
      "  0%|          | 17/71913 [00:18<7:38:17,  2.61it/s]"
     ]
    },
    {
     "name": "stdout",
     "output_type": "stream",
     "text": [
      "loss:0.065746 batch:16/71913\n",
      "loss:0.030493 batch:16/71913\n"
     ]
    },
    {
     "name": "stderr",
     "output_type": "stream",
     "text": [
      "\r",
      "  0%|          | 19/71913 [00:18<6:50:23,  2.92it/s]"
     ]
    },
    {
     "name": "stdout",
     "output_type": "stream",
     "text": [
      "loss:0.021011 batch:18/71913\n",
      "loss:0.019121 batch:18/71913\n"
     ]
    },
    {
     "name": "stderr",
     "output_type": "stream",
     "text": [
      "\r",
      "  0%|          | 21/71913 [00:19<6:22:52,  3.13it/s]"
     ]
    },
    {
     "name": "stdout",
     "output_type": "stream",
     "text": [
      "loss:0.027889 batch:20/71913\n",
      "loss:0.012051 batch:20/71913\n"
     ]
    },
    {
     "name": "stderr",
     "output_type": "stream",
     "text": [
      "\r",
      "  0%|          | 23/71913 [00:19<5:59:55,  3.33it/s]"
     ]
    },
    {
     "name": "stdout",
     "output_type": "stream",
     "text": [
      "loss:0.019813 batch:22/71913\n",
      "loss:0.019053 batch:22/71913\n"
     ]
    },
    {
     "name": "stderr",
     "output_type": "stream",
     "text": [
      "\r",
      "  0%|          | 25/71913 [00:20<5:47:44,  3.45it/s]"
     ]
    },
    {
     "name": "stdout",
     "output_type": "stream",
     "text": [
      "loss:0.024419 batch:24/71913\n",
      "loss:0.017800 batch:24/71913\n"
     ]
    },
    {
     "name": "stderr",
     "output_type": "stream",
     "text": [
      "\r",
      "  0%|          | 27/71913 [00:20<5:37:26,  3.55it/s]"
     ]
    },
    {
     "name": "stdout",
     "output_type": "stream",
     "text": [
      "loss:0.006038 batch:26/71913\n",
      "loss:0.017689 batch:26/71913\n"
     ]
    },
    {
     "name": "stderr",
     "output_type": "stream",
     "text": [
      "\r",
      "  0%|          | 29/71913 [00:21<5:31:50,  3.61it/s]"
     ]
    },
    {
     "name": "stdout",
     "output_type": "stream",
     "text": [
      "loss:0.002439 batch:28/71913\n",
      "loss:0.021992 batch:28/71913\n"
     ]
    },
    {
     "name": "stderr",
     "output_type": "stream",
     "text": [
      "\r",
      "  0%|          | 31/71913 [00:21<5:25:38,  3.68it/s]"
     ]
    },
    {
     "name": "stdout",
     "output_type": "stream",
     "text": [
      "loss:0.028028 batch:30/71913\n",
      "loss:0.021315 batch:30/71913\n"
     ]
    },
    {
     "name": "stderr",
     "output_type": "stream",
     "text": [
      "\r",
      "  0%|          | 33/71913 [00:22<5:21:42,  3.72it/s]"
     ]
    },
    {
     "name": "stdout",
     "output_type": "stream",
     "text": [
      "loss:0.010334 batch:32/71913\n",
      "loss:0.010068 batch:32/71913\n"
     ]
    },
    {
     "name": "stderr",
     "output_type": "stream",
     "text": [
      "\r",
      "  0%|          | 35/71913 [00:22<5:18:00,  3.77it/s]"
     ]
    },
    {
     "name": "stdout",
     "output_type": "stream",
     "text": [
      "loss:0.021649 batch:34/71913\n",
      "loss:0.009747 batch:34/71913\n"
     ]
    },
    {
     "name": "stderr",
     "output_type": "stream",
     "text": [
      "\r",
      "  0%|          | 37/71913 [00:23<5:18:50,  3.76it/s]"
     ]
    },
    {
     "name": "stdout",
     "output_type": "stream",
     "text": [
      "loss:0.014581 batch:36/71913\n",
      "loss:0.007639 batch:36/71913\n"
     ]
    },
    {
     "name": "stderr",
     "output_type": "stream",
     "text": [
      "\r",
      "  0%|          | 39/71913 [00:23<5:13:51,  3.82it/s]"
     ]
    },
    {
     "name": "stdout",
     "output_type": "stream",
     "text": [
      "loss:0.005650 batch:38/71913\n",
      "loss:0.011224 batch:38/71913\n"
     ]
    },
    {
     "name": "stderr",
     "output_type": "stream",
     "text": [
      "\r",
      "  0%|          | 41/71913 [00:24<5:14:50,  3.80it/s]"
     ]
    },
    {
     "name": "stdout",
     "output_type": "stream",
     "text": [
      "loss:0.008345 batch:40/71913\n",
      "loss:0.005381 batch:40/71913\n"
     ]
    },
    {
     "name": "stderr",
     "output_type": "stream",
     "text": [
      "\r",
      "  0%|          | 43/71913 [00:24<5:11:03,  3.85it/s]"
     ]
    },
    {
     "name": "stdout",
     "output_type": "stream",
     "text": [
      "loss:0.008591 batch:42/71913\n",
      "loss:0.007870 batch:42/71913\n"
     ]
    },
    {
     "name": "stderr",
     "output_type": "stream",
     "text": [
      "\r",
      "  0%|          | 45/71913 [00:25<5:10:44,  3.85it/s]"
     ]
    },
    {
     "name": "stdout",
     "output_type": "stream",
     "text": [
      "loss:0.004365 batch:44/71913\n",
      "loss:0.003509 batch:44/71913\n"
     ]
    },
    {
     "name": "stderr",
     "output_type": "stream",
     "text": [
      "\r",
      "  0%|          | 47/71913 [00:25<5:08:33,  3.88it/s]"
     ]
    },
    {
     "name": "stdout",
     "output_type": "stream",
     "text": [
      "loss:0.008243 batch:46/71913\n",
      "loss:0.003619 batch:46/71913\n"
     ]
    },
    {
     "name": "stderr",
     "output_type": "stream",
     "text": [
      "\r",
      "  0%|          | 49/71913 [00:26<5:09:08,  3.87it/s]"
     ]
    },
    {
     "name": "stdout",
     "output_type": "stream",
     "text": [
      "loss:0.011173 batch:48/71913\n",
      "loss:0.005485 batch:48/71913\n"
     ]
    },
    {
     "name": "stderr",
     "output_type": "stream",
     "text": [
      "\r",
      "  0%|          | 51/71913 [00:26<5:10:27,  3.86it/s]"
     ]
    },
    {
     "name": "stdout",
     "output_type": "stream",
     "text": [
      "loss:0.005319 batch:50/71913\n",
      "loss:0.022822 batch:50/71913\n"
     ]
    },
    {
     "name": "stderr",
     "output_type": "stream",
     "text": [
      "\r",
      "  0%|          | 53/71913 [00:27<5:10:07,  3.86it/s]"
     ]
    },
    {
     "name": "stdout",
     "output_type": "stream",
     "text": [
      "loss:0.008837 batch:52/71913\n",
      "loss:0.009688 batch:52/71913\n"
     ]
    },
    {
     "name": "stderr",
     "output_type": "stream",
     "text": [
      "\r",
      "  0%|          | 55/71913 [00:27<5:07:55,  3.89it/s]"
     ]
    },
    {
     "name": "stdout",
     "output_type": "stream",
     "text": [
      "loss:0.018860 batch:54/71913\n",
      "loss:0.002579 batch:54/71913\n"
     ]
    },
    {
     "name": "stderr",
     "output_type": "stream",
     "text": [
      "\r",
      "  0%|          | 57/71913 [00:28<5:10:40,  3.85it/s]"
     ]
    },
    {
     "name": "stdout",
     "output_type": "stream",
     "text": [
      "loss:0.004718 batch:56/71913\n",
      "loss:0.003947 batch:56/71913\n"
     ]
    },
    {
     "name": "stderr",
     "output_type": "stream",
     "text": [
      "\r",
      "  0%|          | 59/71913 [00:29<5:07:34,  3.89it/s]"
     ]
    },
    {
     "name": "stdout",
     "output_type": "stream",
     "text": [
      "loss:0.007279 batch:58/71913\n",
      "loss:0.002117 batch:58/71913\n"
     ]
    },
    {
     "name": "stderr",
     "output_type": "stream",
     "text": [
      "\r",
      "  0%|          | 61/71913 [00:29<5:10:25,  3.86it/s]"
     ]
    },
    {
     "name": "stdout",
     "output_type": "stream",
     "text": [
      "loss:0.000712 batch:60/71913\n",
      "loss:0.002925 batch:60/71913\n"
     ]
    },
    {
     "name": "stderr",
     "output_type": "stream",
     "text": [
      "\r",
      "  0%|          | 63/71913 [00:30<5:10:05,  3.86it/s]"
     ]
    },
    {
     "name": "stdout",
     "output_type": "stream",
     "text": [
      "loss:0.005291 batch:62/71913\n",
      "loss:0.015132 batch:62/71913\n"
     ]
    },
    {
     "name": "stderr",
     "output_type": "stream",
     "text": [
      "\r",
      "  0%|          | 65/71913 [00:30<5:11:49,  3.84it/s]"
     ]
    },
    {
     "name": "stdout",
     "output_type": "stream",
     "text": [
      "loss:0.008048 batch:64/71913\n",
      "loss:0.002017 batch:64/71913\n"
     ]
    },
    {
     "name": "stderr",
     "output_type": "stream",
     "text": [
      "\r",
      "  0%|          | 67/71913 [00:31<5:14:06,  3.81it/s]"
     ]
    },
    {
     "name": "stdout",
     "output_type": "stream",
     "text": [
      "loss:0.000363 batch:66/71913\n",
      "loss:0.030357 batch:66/71913\n"
     ]
    },
    {
     "name": "stderr",
     "output_type": "stream",
     "text": [
      "\r",
      "  0%|          | 69/71913 [00:31<5:18:01,  3.77it/s]"
     ]
    },
    {
     "name": "stdout",
     "output_type": "stream",
     "text": [
      "loss:0.008624 batch:68/71913\n",
      "loss:0.012036 batch:68/71913\n"
     ]
    },
    {
     "name": "stderr",
     "output_type": "stream",
     "text": [
      "\r",
      "  0%|          | 71/71913 [00:32<5:17:22,  3.77it/s]"
     ]
    },
    {
     "name": "stdout",
     "output_type": "stream",
     "text": [
      "loss:0.001109 batch:70/71913\n",
      "loss:0.006374 batch:70/71913\n"
     ]
    },
    {
     "name": "stderr",
     "output_type": "stream",
     "text": [
      "\r",
      "  0%|          | 73/71913 [00:32<5:14:02,  3.81it/s]"
     ]
    },
    {
     "name": "stdout",
     "output_type": "stream",
     "text": [
      "loss:0.006507 batch:72/71913\n",
      "loss:0.007818 batch:72/71913\n"
     ]
    },
    {
     "name": "stderr",
     "output_type": "stream",
     "text": [
      "\r",
      "  0%|          | 75/71913 [00:33<5:14:12,  3.81it/s]"
     ]
    },
    {
     "name": "stdout",
     "output_type": "stream",
     "text": [
      "loss:0.009250 batch:74/71913\n",
      "loss:0.005059 batch:74/71913\n"
     ]
    },
    {
     "name": "stderr",
     "output_type": "stream",
     "text": [
      "\r",
      "  0%|          | 77/71913 [00:33<5:10:45,  3.85it/s]"
     ]
    },
    {
     "name": "stdout",
     "output_type": "stream",
     "text": [
      "loss:0.006440 batch:76/71913\n",
      "loss:0.008804 batch:76/71913\n"
     ]
    },
    {
     "name": "stderr",
     "output_type": "stream",
     "text": [
      "\r",
      "  0%|          | 79/71913 [00:34<5:13:42,  3.82it/s]"
     ]
    },
    {
     "name": "stdout",
     "output_type": "stream",
     "text": [
      "loss:0.009271 batch:78/71913\n",
      "loss:0.009877 batch:78/71913\n"
     ]
    },
    {
     "name": "stderr",
     "output_type": "stream",
     "text": [
      "\r",
      "  0%|          | 81/71913 [00:34<5:10:12,  3.86it/s]"
     ]
    },
    {
     "name": "stdout",
     "output_type": "stream",
     "text": [
      "loss:0.002906 batch:80/71913\n",
      "loss:0.003966 batch:80/71913\n"
     ]
    },
    {
     "name": "stderr",
     "output_type": "stream",
     "text": [
      "\r",
      "  0%|          | 83/71913 [00:35<5:11:29,  3.84it/s]"
     ]
    },
    {
     "name": "stdout",
     "output_type": "stream",
     "text": [
      "loss:0.019927 batch:82/71913\n",
      "loss:0.005841 batch:82/71913\n"
     ]
    },
    {
     "name": "stderr",
     "output_type": "stream",
     "text": [
      "\r",
      "  0%|          | 85/71913 [00:35<5:09:01,  3.87it/s]"
     ]
    },
    {
     "name": "stdout",
     "output_type": "stream",
     "text": [
      "loss:0.007162 batch:84/71913\n",
      "loss:0.004015 batch:84/71913\n"
     ]
    },
    {
     "name": "stderr",
     "output_type": "stream",
     "text": [
      "\r",
      "  0%|          | 87/71913 [00:36<5:10:08,  3.86it/s]"
     ]
    },
    {
     "name": "stdout",
     "output_type": "stream",
     "text": [
      "loss:0.005217 batch:86/71913\n",
      "loss:0.005695 batch:86/71913\n"
     ]
    },
    {
     "name": "stderr",
     "output_type": "stream",
     "text": [
      "\r",
      "  0%|          | 89/71913 [00:36<5:07:32,  3.89it/s]"
     ]
    },
    {
     "name": "stdout",
     "output_type": "stream",
     "text": [
      "loss:0.000706 batch:88/71913\n",
      "loss:0.002081 batch:88/71913\n"
     ]
    },
    {
     "name": "stderr",
     "output_type": "stream",
     "text": [
      "\r",
      "  0%|          | 91/71913 [00:37<5:08:01,  3.89it/s]"
     ]
    },
    {
     "name": "stdout",
     "output_type": "stream",
     "text": [
      "loss:0.006515 batch:90/71913\n",
      "loss:0.007821 batch:90/71913\n"
     ]
    },
    {
     "name": "stderr",
     "output_type": "stream",
     "text": [
      "\r",
      "  0%|          | 93/71913 [00:37<5:05:09,  3.92it/s]"
     ]
    },
    {
     "name": "stdout",
     "output_type": "stream",
     "text": [
      "loss:0.009476 batch:92/71913\n",
      "loss:0.004653 batch:92/71913\n"
     ]
    },
    {
     "name": "stderr",
     "output_type": "stream",
     "text": [
      "\r",
      "  0%|          | 95/71913 [00:38<5:06:10,  3.91it/s]"
     ]
    },
    {
     "name": "stdout",
     "output_type": "stream",
     "text": [
      "loss:0.012509 batch:94/71913\n",
      "loss:0.011514 batch:94/71913\n"
     ]
    },
    {
     "name": "stderr",
     "output_type": "stream",
     "text": [
      "\r",
      "  0%|          | 97/71913 [00:38<5:06:31,  3.90it/s]"
     ]
    },
    {
     "name": "stdout",
     "output_type": "stream",
     "text": [
      "loss:0.003558 batch:96/71913\n",
      "loss:0.001575 batch:96/71913\n"
     ]
    },
    {
     "name": "stderr",
     "output_type": "stream",
     "text": [
      "\r",
      "  0%|          | 99/71913 [00:39<5:06:14,  3.91it/s]"
     ]
    },
    {
     "name": "stdout",
     "output_type": "stream",
     "text": [
      "loss:0.002394 batch:98/71913\n",
      "loss:0.003181 batch:98/71913\n"
     ]
    },
    {
     "name": "stderr",
     "output_type": "stream",
     "text": [
      "\r",
      "  0%|          | 101/71913 [00:39<5:04:36,  3.93it/s]"
     ]
    },
    {
     "name": "stdout",
     "output_type": "stream",
     "text": [
      "loss:0.005731 batch:100/71913\n",
      "loss:0.003895 batch:100/71913\n"
     ]
    },
    {
     "name": "stderr",
     "output_type": "stream",
     "text": [
      "\r",
      "  0%|          | 103/71913 [00:40<5:07:34,  3.89it/s]"
     ]
    },
    {
     "name": "stdout",
     "output_type": "stream",
     "text": [
      "loss:0.002540 batch:102/71913\n",
      "loss:0.001324 batch:102/71913\n"
     ]
    },
    {
     "name": "stderr",
     "output_type": "stream",
     "text": [
      "\r",
      "  0%|          | 105/71913 [00:40<5:05:32,  3.92it/s]"
     ]
    },
    {
     "name": "stdout",
     "output_type": "stream",
     "text": [
      "loss:0.003170 batch:104/71913\n",
      "loss:0.006307 batch:104/71913\n"
     ]
    },
    {
     "name": "stderr",
     "output_type": "stream",
     "text": [
      "\r",
      "  0%|          | 107/71913 [00:41<5:05:10,  3.92it/s]"
     ]
    },
    {
     "name": "stdout",
     "output_type": "stream",
     "text": [
      "loss:0.003663 batch:106/71913\n",
      "loss:0.006694 batch:106/71913\n"
     ]
    },
    {
     "name": "stderr",
     "output_type": "stream",
     "text": [
      "\r",
      "  0%|          | 109/71913 [00:41<5:04:54,  3.92it/s]"
     ]
    },
    {
     "name": "stdout",
     "output_type": "stream",
     "text": [
      "loss:0.008587 batch:108/71913\n",
      "loss:0.015261 batch:108/71913\n"
     ]
    },
    {
     "name": "stderr",
     "output_type": "stream",
     "text": [
      "\r",
      "  0%|          | 111/71913 [00:42<5:06:53,  3.90it/s]"
     ]
    },
    {
     "name": "stdout",
     "output_type": "stream",
     "text": [
      "loss:0.001390 batch:110/71913\n",
      "loss:0.018892 batch:110/71913\n"
     ]
    },
    {
     "name": "stderr",
     "output_type": "stream",
     "text": [
      "\r",
      "  0%|          | 113/71913 [00:42<5:05:33,  3.92it/s]"
     ]
    },
    {
     "name": "stdout",
     "output_type": "stream",
     "text": [
      "loss:0.002032 batch:112/71913\n",
      "loss:0.013718 batch:112/71913\n"
     ]
    },
    {
     "name": "stderr",
     "output_type": "stream",
     "text": [
      "\r",
      "  0%|          | 115/71913 [00:43<5:06:17,  3.91it/s]"
     ]
    },
    {
     "name": "stdout",
     "output_type": "stream",
     "text": [
      "loss:0.001662 batch:114/71913\n",
      "loss:0.001357 batch:114/71913\n"
     ]
    },
    {
     "name": "stderr",
     "output_type": "stream",
     "text": [
      "\r",
      "  0%|          | 117/71913 [00:43<5:04:48,  3.93it/s]"
     ]
    },
    {
     "name": "stdout",
     "output_type": "stream",
     "text": [
      "loss:0.001208 batch:116/71913\n",
      "loss:0.001854 batch:116/71913\n"
     ]
    },
    {
     "name": "stderr",
     "output_type": "stream",
     "text": [
      "\r",
      "  0%|          | 119/71913 [00:44<5:07:41,  3.89it/s]"
     ]
    },
    {
     "name": "stdout",
     "output_type": "stream",
     "text": [
      "loss:0.000748 batch:118/71913\n",
      "loss:0.001602 batch:118/71913\n"
     ]
    },
    {
     "name": "stderr",
     "output_type": "stream",
     "text": [
      "\r",
      "  0%|          | 121/71913 [00:45<5:06:51,  3.90it/s]"
     ]
    },
    {
     "name": "stdout",
     "output_type": "stream",
     "text": [
      "loss:0.002681 batch:120/71913\n",
      "loss:0.002397 batch:120/71913\n"
     ]
    },
    {
     "name": "stderr",
     "output_type": "stream",
     "text": [
      "\r",
      "  0%|          | 123/71913 [00:45<5:07:08,  3.90it/s]"
     ]
    },
    {
     "name": "stdout",
     "output_type": "stream",
     "text": [
      "loss:0.005076 batch:122/71913\n",
      "loss:0.003314 batch:122/71913\n"
     ]
    },
    {
     "name": "stderr",
     "output_type": "stream",
     "text": [
      "\r",
      "  0%|          | 125/71913 [00:46<5:10:56,  3.85it/s]"
     ]
    },
    {
     "name": "stdout",
     "output_type": "stream",
     "text": [
      "loss:0.000616 batch:124/71913\n",
      "loss:0.002269 batch:124/71913\n"
     ]
    },
    {
     "name": "stderr",
     "output_type": "stream",
     "text": [
      "\r",
      "  0%|          | 127/71913 [00:46<5:10:32,  3.85it/s]"
     ]
    },
    {
     "name": "stdout",
     "output_type": "stream",
     "text": [
      "loss:0.001171 batch:126/71913\n",
      "loss:0.002809 batch:126/71913\n"
     ]
    },
    {
     "name": "stderr",
     "output_type": "stream",
     "text": [
      "\r",
      "  0%|          | 129/71913 [00:47<5:08:06,  3.88it/s]"
     ]
    },
    {
     "name": "stdout",
     "output_type": "stream",
     "text": [
      "loss:0.000898 batch:128/71913\n",
      "loss:0.005521 batch:128/71913\n"
     ]
    },
    {
     "name": "stderr",
     "output_type": "stream",
     "text": [
      "\r",
      "  0%|          | 131/71913 [00:47<5:11:04,  3.85it/s]"
     ]
    },
    {
     "name": "stdout",
     "output_type": "stream",
     "text": [
      "loss:0.003366 batch:130/71913\n",
      "loss:0.013268 batch:130/71913\n"
     ]
    },
    {
     "name": "stderr",
     "output_type": "stream",
     "text": [
      "\r",
      "  0%|          | 133/71913 [00:48<5:11:20,  3.84it/s]"
     ]
    },
    {
     "name": "stdout",
     "output_type": "stream",
     "text": [
      "loss:0.001515 batch:132/71913\n",
      "loss:0.001655 batch:132/71913\n"
     ]
    },
    {
     "name": "stderr",
     "output_type": "stream",
     "text": [
      "\r",
      "  0%|          | 135/71913 [00:48<5:12:25,  3.83it/s]"
     ]
    },
    {
     "name": "stdout",
     "output_type": "stream",
     "text": [
      "loss:0.001466 batch:134/71913\n",
      "loss:0.000439 batch:134/71913\n"
     ]
    },
    {
     "name": "stderr",
     "output_type": "stream",
     "text": [
      "\r",
      "  0%|          | 137/71913 [00:49<5:14:58,  3.80it/s]"
     ]
    },
    {
     "name": "stdout",
     "output_type": "stream",
     "text": [
      "loss:0.002112 batch:136/71913\n",
      "loss:0.000982 batch:136/71913\n"
     ]
    },
    {
     "name": "stderr",
     "output_type": "stream",
     "text": [
      "\r",
      "  0%|          | 139/71913 [00:49<5:12:49,  3.82it/s]"
     ]
    },
    {
     "name": "stdout",
     "output_type": "stream",
     "text": [
      "loss:0.001459 batch:138/71913\n",
      "loss:0.004301 batch:138/71913\n"
     ]
    },
    {
     "name": "stderr",
     "output_type": "stream",
     "text": [
      "\r",
      "  0%|          | 141/71913 [00:50<5:15:03,  3.80it/s]"
     ]
    },
    {
     "name": "stdout",
     "output_type": "stream",
     "text": [
      "loss:0.004906 batch:140/71913\n",
      "loss:0.001071 batch:140/71913\n"
     ]
    },
    {
     "name": "stderr",
     "output_type": "stream",
     "text": [
      "\r",
      "  0%|          | 143/71913 [00:50<5:12:52,  3.82it/s]"
     ]
    },
    {
     "name": "stdout",
     "output_type": "stream",
     "text": [
      "loss:0.000340 batch:142/71913\n",
      "loss:0.000506 batch:142/71913\n"
     ]
    },
    {
     "name": "stderr",
     "output_type": "stream",
     "text": [
      "\r",
      "  0%|          | 145/71913 [00:51<5:11:09,  3.84it/s]"
     ]
    },
    {
     "name": "stdout",
     "output_type": "stream",
     "text": [
      "loss:0.002708 batch:144/71913\n",
      "loss:0.001717 batch:144/71913\n"
     ]
    },
    {
     "name": "stderr",
     "output_type": "stream",
     "text": [
      "\r",
      "  0%|          | 147/71913 [00:51<5:09:47,  3.86it/s]"
     ]
    },
    {
     "name": "stdout",
     "output_type": "stream",
     "text": [
      "loss:0.002593 batch:146/71913\n",
      "loss:0.002837 batch:146/71913\n"
     ]
    },
    {
     "name": "stderr",
     "output_type": "stream",
     "text": [
      "\r",
      "  0%|          | 149/71913 [00:52<5:10:57,  3.85it/s]"
     ]
    },
    {
     "name": "stdout",
     "output_type": "stream",
     "text": [
      "loss:0.001476 batch:148/71913\n",
      "loss:0.001355 batch:148/71913\n"
     ]
    },
    {
     "name": "stderr",
     "output_type": "stream",
     "text": [
      "\r",
      "  0%|          | 151/71913 [00:52<5:08:33,  3.88it/s]"
     ]
    },
    {
     "name": "stdout",
     "output_type": "stream",
     "text": [
      "loss:0.002003 batch:150/71913\n",
      "loss:0.001811 batch:150/71913\n"
     ]
    },
    {
     "name": "stderr",
     "output_type": "stream",
     "text": [
      "\r",
      "  0%|          | 153/71913 [00:53<5:09:54,  3.86it/s]"
     ]
    },
    {
     "name": "stdout",
     "output_type": "stream",
     "text": [
      "loss:0.001464 batch:152/71913\n",
      "loss:0.001573 batch:152/71913\n"
     ]
    },
    {
     "name": "stderr",
     "output_type": "stream",
     "text": [
      "\r",
      "  0%|          | 155/71913 [00:53<5:07:49,  3.89it/s]"
     ]
    },
    {
     "name": "stdout",
     "output_type": "stream",
     "text": [
      "loss:0.001499 batch:154/71913\n",
      "loss:0.000642 batch:154/71913\n"
     ]
    },
    {
     "name": "stderr",
     "output_type": "stream",
     "text": [
      "\r",
      "  0%|          | 157/71913 [00:54<5:08:40,  3.87it/s]"
     ]
    },
    {
     "name": "stdout",
     "output_type": "stream",
     "text": [
      "loss:0.001908 batch:156/71913\n",
      "loss:0.000214 batch:156/71913\n"
     ]
    },
    {
     "name": "stderr",
     "output_type": "stream",
     "text": [
      "\r",
      "  0%|          | 159/71913 [00:54<5:09:16,  3.87it/s]"
     ]
    },
    {
     "name": "stdout",
     "output_type": "stream",
     "text": [
      "loss:0.001450 batch:158/71913\n",
      "loss:0.001615 batch:158/71913\n"
     ]
    },
    {
     "name": "stderr",
     "output_type": "stream",
     "text": [
      "\r",
      "  0%|          | 161/71913 [00:55<5:10:03,  3.86it/s]"
     ]
    },
    {
     "name": "stdout",
     "output_type": "stream",
     "text": [
      "loss:0.000913 batch:160/71913\n",
      "loss:0.001471 batch:160/71913\n"
     ]
    },
    {
     "name": "stderr",
     "output_type": "stream",
     "text": [
      "\r",
      "  0%|          | 163/71913 [00:55<5:09:09,  3.87it/s]"
     ]
    },
    {
     "name": "stdout",
     "output_type": "stream",
     "text": [
      "loss:0.000921 batch:162/71913\n",
      "loss:0.001074 batch:162/71913\n"
     ]
    },
    {
     "name": "stderr",
     "output_type": "stream",
     "text": [
      "\r",
      "  0%|          | 165/71913 [00:56<5:10:41,  3.85it/s]"
     ]
    },
    {
     "name": "stdout",
     "output_type": "stream",
     "text": [
      "loss:0.000817 batch:164/71913\n",
      "loss:0.003123 batch:164/71913\n"
     ]
    },
    {
     "name": "stderr",
     "output_type": "stream",
     "text": [
      "\r",
      "  0%|          | 167/71913 [00:56<5:09:14,  3.87it/s]"
     ]
    },
    {
     "name": "stdout",
     "output_type": "stream",
     "text": [
      "loss:0.001595 batch:166/71913\n",
      "loss:0.001616 batch:166/71913\n"
     ]
    },
    {
     "name": "stderr",
     "output_type": "stream",
     "text": [
      "\r",
      "  0%|          | 169/71913 [00:57<5:10:44,  3.85it/s]"
     ]
    },
    {
     "name": "stdout",
     "output_type": "stream",
     "text": [
      "loss:0.001312 batch:168/71913\n",
      "loss:0.000891 batch:168/71913\n"
     ]
    },
    {
     "name": "stderr",
     "output_type": "stream",
     "text": [
      "\r",
      "  0%|          | 171/71913 [00:58<5:11:57,  3.83it/s]"
     ]
    },
    {
     "name": "stdout",
     "output_type": "stream",
     "text": [
      "loss:0.001609 batch:170/71913\n",
      "loss:0.002989 batch:170/71913\n"
     ]
    },
    {
     "name": "stderr",
     "output_type": "stream",
     "text": [
      "\r",
      "  0%|          | 173/71913 [00:58<5:12:48,  3.82it/s]"
     ]
    },
    {
     "name": "stdout",
     "output_type": "stream",
     "text": [
      "loss:0.000579 batch:172/71913\n",
      "loss:0.000524 batch:172/71913\n"
     ]
    },
    {
     "name": "stderr",
     "output_type": "stream",
     "text": [
      "\r",
      "  0%|          | 175/71913 [00:59<5:12:52,  3.82it/s]"
     ]
    },
    {
     "name": "stdout",
     "output_type": "stream",
     "text": [
      "loss:0.000356 batch:174/71913\n",
      "loss:0.000532 batch:174/71913\n"
     ]
    },
    {
     "name": "stderr",
     "output_type": "stream",
     "text": [
      "\r",
      "  0%|          | 177/71913 [00:59<5:14:52,  3.80it/s]"
     ]
    },
    {
     "name": "stdout",
     "output_type": "stream",
     "text": [
      "loss:0.001180 batch:176/71913\n",
      "loss:0.000862 batch:176/71913\n"
     ]
    },
    {
     "name": "stderr",
     "output_type": "stream",
     "text": [
      "\r",
      "  0%|          | 179/71913 [01:00<5:13:15,  3.82it/s]"
     ]
    },
    {
     "name": "stdout",
     "output_type": "stream",
     "text": [
      "loss:0.001814 batch:178/71913\n",
      "loss:0.000774 batch:178/71913\n"
     ]
    },
    {
     "name": "stderr",
     "output_type": "stream",
     "text": [
      "\r",
      "  0%|          | 181/71913 [01:00<5:12:48,  3.82it/s]"
     ]
    },
    {
     "name": "stdout",
     "output_type": "stream",
     "text": [
      "loss:0.001803 batch:180/71913\n",
      "loss:0.003614 batch:180/71913\n"
     ]
    },
    {
     "name": "stderr",
     "output_type": "stream",
     "text": [
      "\r",
      "  0%|          | 183/71913 [01:01<5:11:58,  3.83it/s]"
     ]
    },
    {
     "name": "stdout",
     "output_type": "stream",
     "text": [
      "loss:0.000218 batch:182/71913\n",
      "loss:0.000893 batch:182/71913\n"
     ]
    },
    {
     "name": "stderr",
     "output_type": "stream",
     "text": [
      "\r",
      "  0%|          | 185/71913 [01:01<5:11:33,  3.84it/s]"
     ]
    },
    {
     "name": "stdout",
     "output_type": "stream",
     "text": [
      "loss:0.001185 batch:184/71913\n",
      "loss:0.001266 batch:184/71913\n"
     ]
    },
    {
     "name": "stderr",
     "output_type": "stream",
     "text": [
      "\r",
      "  0%|          | 187/71913 [01:02<5:15:54,  3.78it/s]"
     ]
    },
    {
     "name": "stdout",
     "output_type": "stream",
     "text": [
      "loss:0.000967 batch:186/71913\n",
      "loss:0.000827 batch:186/71913\n"
     ]
    },
    {
     "name": "stderr",
     "output_type": "stream",
     "text": [
      "\r",
      "  0%|          | 189/71913 [01:02<5:19:40,  3.74it/s]"
     ]
    },
    {
     "name": "stdout",
     "output_type": "stream",
     "text": [
      "loss:0.001129 batch:188/71913\n",
      "loss:0.001181 batch:188/71913\n"
     ]
    },
    {
     "name": "stderr",
     "output_type": "stream",
     "text": [
      "\r",
      "  0%|          | 191/71913 [01:03<5:18:53,  3.75it/s]"
     ]
    },
    {
     "name": "stdout",
     "output_type": "stream",
     "text": [
      "loss:0.001132 batch:190/71913\n",
      "loss:0.000761 batch:190/71913\n"
     ]
    },
    {
     "name": "stderr",
     "output_type": "stream",
     "text": [
      "\r",
      "  0%|          | 193/71913 [01:03<5:19:03,  3.75it/s]"
     ]
    },
    {
     "name": "stdout",
     "output_type": "stream",
     "text": [
      "loss:0.001350 batch:192/71913\n",
      "loss:0.004354 batch:192/71913\n"
     ]
    },
    {
     "name": "stderr",
     "output_type": "stream",
     "text": [
      "\r",
      "  0%|          | 195/71913 [01:04<5:19:21,  3.74it/s]"
     ]
    },
    {
     "name": "stdout",
     "output_type": "stream",
     "text": [
      "loss:0.002036 batch:194/71913\n",
      "loss:0.001949 batch:194/71913\n"
     ]
    },
    {
     "name": "stderr",
     "output_type": "stream",
     "text": [
      "\r",
      "  0%|          | 197/71913 [01:04<5:18:19,  3.75it/s]"
     ]
    },
    {
     "name": "stdout",
     "output_type": "stream",
     "text": [
      "loss:0.000565 batch:196/71913\n",
      "loss:0.001484 batch:196/71913\n"
     ]
    },
    {
     "name": "stderr",
     "output_type": "stream",
     "text": [
      "\r",
      "  0%|          | 199/71913 [01:05<5:16:09,  3.78it/s]"
     ]
    },
    {
     "name": "stdout",
     "output_type": "stream",
     "text": [
      "loss:0.001333 batch:198/71913\n",
      "loss:0.000695 batch:198/71913\n"
     ]
    },
    {
     "name": "stderr",
     "output_type": "stream",
     "text": [
      "\r",
      "  0%|          | 201/71913 [01:05<5:15:10,  3.79it/s]"
     ]
    },
    {
     "name": "stdout",
     "output_type": "stream",
     "text": [
      "loss:0.001211 batch:200/71913\n",
      "loss:0.002781 batch:200/71913\n"
     ]
    },
    {
     "name": "stderr",
     "output_type": "stream",
     "text": [
      "\r",
      "  0%|          | 203/71913 [01:06<5:18:03,  3.76it/s]"
     ]
    },
    {
     "name": "stdout",
     "output_type": "stream",
     "text": [
      "loss:0.001413 batch:202/71913\n",
      "loss:0.001142 batch:202/71913\n"
     ]
    },
    {
     "name": "stderr",
     "output_type": "stream",
     "text": [
      "\r",
      "  0%|          | 205/71913 [01:07<5:21:19,  3.72it/s]"
     ]
    },
    {
     "name": "stdout",
     "output_type": "stream",
     "text": [
      "loss:0.001630 batch:204/71913\n",
      "loss:0.001281 batch:204/71913\n"
     ]
    },
    {
     "name": "stderr",
     "output_type": "stream",
     "text": [
      "\r",
      "  0%|          | 207/71913 [01:07<5:30:35,  3.62it/s]"
     ]
    },
    {
     "name": "stdout",
     "output_type": "stream",
     "text": [
      "loss:0.001420 batch:206/71913\n",
      "loss:0.001453 batch:206/71913\n"
     ]
    },
    {
     "name": "stderr",
     "output_type": "stream",
     "text": [
      "\r",
      "  0%|          | 209/71913 [01:08<5:31:42,  3.60it/s]"
     ]
    },
    {
     "name": "stdout",
     "output_type": "stream",
     "text": [
      "loss:0.000935 batch:208/71913\n",
      "loss:0.001047 batch:208/71913\n"
     ]
    },
    {
     "name": "stderr",
     "output_type": "stream",
     "text": [
      "\r",
      "  0%|          | 211/71913 [01:08<5:35:53,  3.56it/s]"
     ]
    },
    {
     "name": "stdout",
     "output_type": "stream",
     "text": [
      "loss:0.000921 batch:210/71913\n",
      "loss:0.001804 batch:210/71913\n"
     ]
    },
    {
     "name": "stderr",
     "output_type": "stream",
     "text": [
      "\r",
      "  0%|          | 213/71913 [01:09<5:37:11,  3.54it/s]"
     ]
    },
    {
     "name": "stdout",
     "output_type": "stream",
     "text": [
      "loss:0.000822 batch:212/71913\n",
      "loss:0.000594 batch:212/71913\n"
     ]
    },
    {
     "name": "stderr",
     "output_type": "stream",
     "text": [
      "\r",
      "  0%|          | 215/71913 [01:09<5:36:08,  3.55it/s]"
     ]
    },
    {
     "name": "stdout",
     "output_type": "stream",
     "text": [
      "loss:0.001176 batch:214/71913\n",
      "loss:0.000987 batch:214/71913\n"
     ]
    },
    {
     "name": "stderr",
     "output_type": "stream",
     "text": [
      "\r",
      "  0%|          | 217/71913 [01:10<5:38:47,  3.53it/s]"
     ]
    },
    {
     "name": "stdout",
     "output_type": "stream",
     "text": [
      "loss:0.001423 batch:216/71913\n",
      "loss:0.002454 batch:216/71913\n"
     ]
    },
    {
     "name": "stderr",
     "output_type": "stream",
     "text": [
      "\r",
      "  0%|          | 219/71913 [01:11<5:36:32,  3.55it/s]"
     ]
    },
    {
     "name": "stdout",
     "output_type": "stream",
     "text": [
      "loss:0.001985 batch:218/71913\n",
      "loss:0.001654 batch:218/71913\n"
     ]
    },
    {
     "name": "stderr",
     "output_type": "stream",
     "text": [
      "\r",
      "  0%|          | 221/71913 [01:11<5:38:31,  3.53it/s]"
     ]
    },
    {
     "name": "stdout",
     "output_type": "stream",
     "text": [
      "loss:0.000359 batch:220/71913\n",
      "loss:0.000570 batch:220/71913\n"
     ]
    },
    {
     "name": "stderr",
     "output_type": "stream",
     "text": [
      "\r",
      "  0%|          | 223/71913 [01:12<5:36:19,  3.55it/s]"
     ]
    },
    {
     "name": "stdout",
     "output_type": "stream",
     "text": [
      "loss:0.001092 batch:222/71913\n",
      "loss:0.001370 batch:222/71913\n"
     ]
    },
    {
     "name": "stderr",
     "output_type": "stream",
     "text": [
      "\r",
      "  0%|          | 225/71913 [01:12<5:40:42,  3.51it/s]"
     ]
    },
    {
     "name": "stdout",
     "output_type": "stream",
     "text": [
      "loss:0.001595 batch:224/71913\n",
      "loss:0.001277 batch:224/71913\n"
     ]
    },
    {
     "name": "stderr",
     "output_type": "stream",
     "text": [
      "\r",
      "  0%|          | 227/71913 [01:13<5:45:16,  3.46it/s]"
     ]
    },
    {
     "name": "stdout",
     "output_type": "stream",
     "text": [
      "loss:0.001790 batch:226/71913\n",
      "loss:0.001168 batch:226/71913\n"
     ]
    },
    {
     "name": "stderr",
     "output_type": "stream",
     "text": [
      "\r",
      "  0%|          | 229/71913 [01:13<5:44:31,  3.47it/s]"
     ]
    },
    {
     "name": "stdout",
     "output_type": "stream",
     "text": [
      "loss:0.000495 batch:228/71913\n",
      "loss:0.000305 batch:228/71913\n"
     ]
    },
    {
     "name": "stderr",
     "output_type": "stream",
     "text": [
      "\r",
      "  0%|          | 231/71913 [01:14<5:44:17,  3.47it/s]"
     ]
    },
    {
     "name": "stdout",
     "output_type": "stream",
     "text": [
      "loss:0.001602 batch:230/71913\n",
      "loss:0.001962 batch:230/71913\n"
     ]
    },
    {
     "name": "stderr",
     "output_type": "stream",
     "text": [
      "\r",
      "  0%|          | 233/71913 [01:15<5:39:38,  3.52it/s]"
     ]
    },
    {
     "name": "stdout",
     "output_type": "stream",
     "text": [
      "loss:0.000659 batch:232/71913\n",
      "loss:0.000495 batch:232/71913\n"
     ]
    },
    {
     "name": "stderr",
     "output_type": "stream",
     "text": [
      "\r",
      "  0%|          | 235/71913 [01:15<5:41:02,  3.50it/s]"
     ]
    },
    {
     "name": "stdout",
     "output_type": "stream",
     "text": [
      "loss:0.000342 batch:234/71913\n",
      "loss:0.000223 batch:234/71913\n"
     ]
    },
    {
     "name": "stderr",
     "output_type": "stream",
     "text": [
      "\r",
      "  0%|          | 237/71913 [01:16<5:40:46,  3.51it/s]"
     ]
    },
    {
     "name": "stdout",
     "output_type": "stream",
     "text": [
      "loss:0.001805 batch:236/71913\n",
      "loss:0.001696 batch:236/71913\n"
     ]
    },
    {
     "name": "stderr",
     "output_type": "stream",
     "text": [
      "\r",
      "  0%|          | 239/71913 [01:16<5:42:21,  3.49it/s]"
     ]
    },
    {
     "name": "stdout",
     "output_type": "stream",
     "text": [
      "loss:0.000698 batch:238/71913\n",
      "loss:0.000188 batch:238/71913\n"
     ]
    },
    {
     "name": "stderr",
     "output_type": "stream",
     "text": [
      "\r",
      "  0%|          | 241/71913 [01:17<5:47:56,  3.43it/s]"
     ]
    },
    {
     "name": "stdout",
     "output_type": "stream",
     "text": [
      "loss:0.000598 batch:240/71913\n",
      "loss:0.000401 batch:240/71913\n"
     ]
    },
    {
     "name": "stderr",
     "output_type": "stream",
     "text": [
      "\r",
      "  0%|          | 243/71913 [01:17<5:44:09,  3.47it/s]"
     ]
    },
    {
     "name": "stdout",
     "output_type": "stream",
     "text": [
      "loss:0.000834 batch:242/71913\n",
      "loss:0.000791 batch:242/71913\n"
     ]
    },
    {
     "name": "stderr",
     "output_type": "stream",
     "text": [
      "\r",
      "  0%|          | 245/71913 [01:18<5:47:27,  3.44it/s]"
     ]
    },
    {
     "name": "stdout",
     "output_type": "stream",
     "text": [
      "loss:0.000767 batch:244/71913\n",
      "loss:0.000398 batch:244/71913\n"
     ]
    },
    {
     "name": "stderr",
     "output_type": "stream",
     "text": [
      "\r",
      "  0%|          | 247/71913 [01:19<5:42:26,  3.49it/s]"
     ]
    },
    {
     "name": "stdout",
     "output_type": "stream",
     "text": [
      "loss:0.000369 batch:246/71913\n",
      "loss:0.001518 batch:246/71913\n"
     ]
    },
    {
     "name": "stderr",
     "output_type": "stream",
     "text": [
      "\r",
      "  0%|          | 249/71913 [01:19<5:47:05,  3.44it/s]"
     ]
    },
    {
     "name": "stdout",
     "output_type": "stream",
     "text": [
      "loss:0.000580 batch:248/71913\n",
      "loss:0.000116 batch:248/71913\n"
     ]
    },
    {
     "name": "stderr",
     "output_type": "stream",
     "text": [
      "\r",
      "  0%|          | 251/71913 [01:20<5:58:33,  3.33it/s]"
     ]
    },
    {
     "name": "stdout",
     "output_type": "stream",
     "text": [
      "loss:0.000878 batch:250/71913\n",
      "loss:0.001004 batch:250/71913\n"
     ]
    },
    {
     "name": "stderr",
     "output_type": "stream",
     "text": [
      "\r",
      "  0%|          | 253/71913 [01:20<5:53:22,  3.38it/s]"
     ]
    },
    {
     "name": "stdout",
     "output_type": "stream",
     "text": [
      "loss:0.001883 batch:252/71913\n",
      "loss:0.001366 batch:252/71913\n"
     ]
    },
    {
     "name": "stderr",
     "output_type": "stream",
     "text": [
      "\r",
      "  0%|          | 255/71913 [01:21<5:53:17,  3.38it/s]"
     ]
    },
    {
     "name": "stdout",
     "output_type": "stream",
     "text": [
      "loss:0.000967 batch:254/71913\n",
      "loss:0.000141 batch:254/71913\n"
     ]
    },
    {
     "name": "stderr",
     "output_type": "stream",
     "text": [
      "\r",
      "  0%|          | 257/71913 [01:22<5:50:12,  3.41it/s]"
     ]
    },
    {
     "name": "stdout",
     "output_type": "stream",
     "text": [
      "loss:0.000225 batch:256/71913\n",
      "loss:0.000248 batch:256/71913\n"
     ]
    },
    {
     "name": "stderr",
     "output_type": "stream",
     "text": [
      "\r",
      "  0%|          | 259/71913 [01:22<5:53:03,  3.38it/s]"
     ]
    },
    {
     "name": "stdout",
     "output_type": "stream",
     "text": [
      "loss:0.000668 batch:258/71913\n",
      "loss:0.000196 batch:258/71913\n"
     ]
    },
    {
     "name": "stderr",
     "output_type": "stream",
     "text": [
      "\r",
      "  0%|          | 261/71913 [01:23<5:46:48,  3.44it/s]"
     ]
    },
    {
     "name": "stdout",
     "output_type": "stream",
     "text": [
      "loss:0.000361 batch:260/71913\n",
      "loss:0.000152 batch:260/71913\n"
     ]
    },
    {
     "name": "stderr",
     "output_type": "stream",
     "text": [
      "\r",
      "  0%|          | 263/71913 [01:23<5:45:18,  3.46it/s]"
     ]
    },
    {
     "name": "stdout",
     "output_type": "stream",
     "text": [
      "loss:0.000860 batch:262/71913\n",
      "loss:0.000802 batch:262/71913\n"
     ]
    },
    {
     "name": "stderr",
     "output_type": "stream",
     "text": [
      "\r",
      "  0%|          | 265/71913 [01:24<5:46:23,  3.45it/s]"
     ]
    },
    {
     "name": "stdout",
     "output_type": "stream",
     "text": [
      "loss:0.000719 batch:264/71913\n",
      "loss:0.000882 batch:264/71913\n"
     ]
    },
    {
     "name": "stderr",
     "output_type": "stream",
     "text": [
      "\r",
      "  0%|          | 267/71913 [01:24<5:44:49,  3.46it/s]"
     ]
    },
    {
     "name": "stdout",
     "output_type": "stream",
     "text": [
      "loss:0.000754 batch:266/71913\n",
      "loss:0.000904 batch:266/71913\n"
     ]
    },
    {
     "name": "stderr",
     "output_type": "stream",
     "text": [
      "\r",
      "  0%|          | 269/71913 [01:25<5:48:22,  3.43it/s]"
     ]
    },
    {
     "name": "stdout",
     "output_type": "stream",
     "text": [
      "loss:0.000721 batch:268/71913\n",
      "loss:0.001124 batch:268/71913\n"
     ]
    },
    {
     "name": "stderr",
     "output_type": "stream",
     "text": [
      "\r",
      "  0%|          | 271/71913 [01:26<5:43:20,  3.48it/s]"
     ]
    },
    {
     "name": "stdout",
     "output_type": "stream",
     "text": [
      "loss:0.000858 batch:270/71913\n",
      "loss:0.001895 batch:270/71913\n"
     ]
    },
    {
     "name": "stderr",
     "output_type": "stream",
     "text": [
      "\r",
      "  0%|          | 273/71913 [01:26<5:43:13,  3.48it/s]"
     ]
    },
    {
     "name": "stdout",
     "output_type": "stream",
     "text": [
      "loss:0.000259 batch:272/71913\n",
      "loss:0.000387 batch:272/71913\n"
     ]
    },
    {
     "name": "stderr",
     "output_type": "stream",
     "text": [
      "\r",
      "  0%|          | 275/71913 [01:27<5:42:46,  3.48it/s]"
     ]
    },
    {
     "name": "stdout",
     "output_type": "stream",
     "text": [
      "loss:0.000820 batch:274/71913\n",
      "loss:0.000163 batch:274/71913\n"
     ]
    },
    {
     "name": "stderr",
     "output_type": "stream",
     "text": [
      "\r",
      "  0%|          | 277/71913 [01:27<5:43:10,  3.48it/s]"
     ]
    },
    {
     "name": "stdout",
     "output_type": "stream",
     "text": [
      "loss:0.000304 batch:276/71913\n",
      "loss:0.000919 batch:276/71913\n"
     ]
    },
    {
     "name": "stderr",
     "output_type": "stream",
     "text": [
      "\r",
      "  0%|          | 279/71913 [01:28<5:48:58,  3.42it/s]"
     ]
    },
    {
     "name": "stdout",
     "output_type": "stream",
     "text": [
      "loss:0.001360 batch:278/71913\n",
      "loss:0.001260 batch:278/71913\n"
     ]
    },
    {
     "name": "stderr",
     "output_type": "stream",
     "text": [
      "\r",
      "  0%|          | 281/71913 [01:29<5:56:55,  3.34it/s]"
     ]
    },
    {
     "name": "stdout",
     "output_type": "stream",
     "text": [
      "loss:0.000662 batch:280/71913\n",
      "loss:0.000228 batch:280/71913\n"
     ]
    },
    {
     "name": "stderr",
     "output_type": "stream",
     "text": [
      "\r",
      "  0%|          | 283/71913 [01:29<5:59:08,  3.32it/s]"
     ]
    },
    {
     "name": "stdout",
     "output_type": "stream",
     "text": [
      "loss:0.000515 batch:282/71913\n",
      "loss:0.000476 batch:282/71913\n"
     ]
    },
    {
     "name": "stderr",
     "output_type": "stream",
     "text": [
      "\r",
      "  0%|          | 285/71913 [01:30<5:53:06,  3.38it/s]"
     ]
    },
    {
     "name": "stdout",
     "output_type": "stream",
     "text": [
      "loss:0.001499 batch:284/71913\n",
      "loss:0.001925 batch:284/71913\n"
     ]
    },
    {
     "name": "stderr",
     "output_type": "stream",
     "text": [
      "\r",
      "  0%|          | 287/71913 [01:30<5:51:49,  3.39it/s]"
     ]
    },
    {
     "name": "stdout",
     "output_type": "stream",
     "text": [
      "loss:0.000903 batch:286/71913\n",
      "loss:0.001277 batch:286/71913\n"
     ]
    },
    {
     "name": "stderr",
     "output_type": "stream",
     "text": [
      "\r",
      "  0%|          | 289/71913 [01:31<5:50:57,  3.40it/s]"
     ]
    },
    {
     "name": "stdout",
     "output_type": "stream",
     "text": [
      "loss:0.000959 batch:288/71913\n",
      "loss:0.000965 batch:288/71913\n"
     ]
    },
    {
     "name": "stderr",
     "output_type": "stream",
     "text": [
      "\r",
      "  0%|          | 291/71913 [01:31<5:48:53,  3.42it/s]"
     ]
    },
    {
     "name": "stdout",
     "output_type": "stream",
     "text": [
      "loss:0.000763 batch:290/71913\n",
      "loss:0.000517 batch:290/71913\n"
     ]
    },
    {
     "name": "stderr",
     "output_type": "stream",
     "text": [
      "\r",
      "  0%|          | 293/71913 [01:32<5:50:17,  3.41it/s]"
     ]
    },
    {
     "name": "stdout",
     "output_type": "stream",
     "text": [
      "loss:0.001326 batch:292/71913\n",
      "loss:0.001336 batch:292/71913\n"
     ]
    },
    {
     "name": "stderr",
     "output_type": "stream",
     "text": [
      "\r",
      "  0%|          | 295/71913 [01:33<5:54:39,  3.37it/s]"
     ]
    },
    {
     "name": "stdout",
     "output_type": "stream",
     "text": [
      "loss:0.001780 batch:294/71913\n",
      "loss:0.001600 batch:294/71913\n"
     ]
    },
    {
     "name": "stderr",
     "output_type": "stream",
     "text": [
      "\r",
      "  0%|          | 297/71913 [01:33<5:55:12,  3.36it/s]"
     ]
    },
    {
     "name": "stdout",
     "output_type": "stream",
     "text": [
      "loss:0.001374 batch:296/71913\n",
      "loss:0.001322 batch:296/71913\n"
     ]
    },
    {
     "name": "stderr",
     "output_type": "stream",
     "text": [
      "\r",
      "  0%|          | 299/71913 [01:34<5:51:24,  3.40it/s]"
     ]
    },
    {
     "name": "stdout",
     "output_type": "stream",
     "text": [
      "loss:0.001766 batch:298/71913\n",
      "loss:0.001679 batch:298/71913\n"
     ]
    },
    {
     "name": "stderr",
     "output_type": "stream",
     "text": [
      "\r",
      "  0%|          | 301/71913 [01:34<5:50:25,  3.41it/s]"
     ]
    },
    {
     "name": "stdout",
     "output_type": "stream",
     "text": [
      "loss:0.000569 batch:300/71913\n",
      "loss:0.000791 batch:300/71913\n"
     ]
    },
    {
     "name": "stderr",
     "output_type": "stream",
     "text": [
      "\r",
      "  0%|          | 303/71913 [01:35<5:51:31,  3.40it/s]"
     ]
    },
    {
     "name": "stdout",
     "output_type": "stream",
     "text": [
      "loss:0.000541 batch:302/71913\n",
      "loss:0.000837 batch:302/71913\n"
     ]
    },
    {
     "name": "stderr",
     "output_type": "stream",
     "text": [
      "\r",
      "  0%|          | 305/71913 [01:36<5:53:22,  3.38it/s]"
     ]
    },
    {
     "name": "stdout",
     "output_type": "stream",
     "text": [
      "loss:0.000860 batch:304/71913\n",
      "loss:0.000770 batch:304/71913\n"
     ]
    },
    {
     "name": "stderr",
     "output_type": "stream",
     "text": [
      "\r",
      "  0%|          | 307/71913 [01:36<5:53:13,  3.38it/s]"
     ]
    },
    {
     "name": "stdout",
     "output_type": "stream",
     "text": [
      "loss:0.000524 batch:306/71913\n",
      "loss:0.000560 batch:306/71913\n"
     ]
    },
    {
     "name": "stderr",
     "output_type": "stream",
     "text": [
      "\r",
      "  0%|          | 309/71913 [01:37<5:50:19,  3.41it/s]"
     ]
    },
    {
     "name": "stdout",
     "output_type": "stream",
     "text": [
      "loss:0.000534 batch:308/71913\n",
      "loss:0.000463 batch:308/71913\n"
     ]
    },
    {
     "name": "stderr",
     "output_type": "stream",
     "text": [
      "\r",
      "  0%|          | 311/71913 [01:37<5:52:41,  3.38it/s]"
     ]
    },
    {
     "name": "stdout",
     "output_type": "stream",
     "text": [
      "loss:0.001195 batch:310/71913\n",
      "loss:0.001335 batch:310/71913\n"
     ]
    },
    {
     "name": "stderr",
     "output_type": "stream",
     "text": [
      "\r",
      "  0%|          | 313/71913 [01:38<5:50:57,  3.40it/s]"
     ]
    },
    {
     "name": "stdout",
     "output_type": "stream",
     "text": [
      "loss:0.000797 batch:312/71913\n",
      "loss:0.000539 batch:312/71913\n"
     ]
    },
    {
     "name": "stderr",
     "output_type": "stream",
     "text": [
      "\r",
      "  0%|          | 315/71913 [01:39<5:47:24,  3.43it/s]"
     ]
    },
    {
     "name": "stdout",
     "output_type": "stream",
     "text": [
      "loss:0.000504 batch:314/71913\n",
      "loss:0.000471 batch:314/71913\n"
     ]
    },
    {
     "name": "stderr",
     "output_type": "stream",
     "text": [
      "\r",
      "  0%|          | 317/71913 [01:39<5:49:34,  3.41it/s]"
     ]
    },
    {
     "name": "stdout",
     "output_type": "stream",
     "text": [
      "loss:0.000623 batch:316/71913\n",
      "loss:0.001314 batch:316/71913\n"
     ]
    },
    {
     "name": "stderr",
     "output_type": "stream",
     "text": [
      "\r",
      "  0%|          | 319/71913 [01:40<5:48:56,  3.42it/s]"
     ]
    },
    {
     "name": "stdout",
     "output_type": "stream",
     "text": [
      "loss:0.001194 batch:318/71913\n",
      "loss:0.001295 batch:318/71913\n"
     ]
    },
    {
     "name": "stderr",
     "output_type": "stream",
     "text": [
      "\r",
      "  0%|          | 321/71913 [01:40<5:48:30,  3.42it/s]"
     ]
    },
    {
     "name": "stdout",
     "output_type": "stream",
     "text": [
      "loss:0.000532 batch:320/71913\n",
      "loss:0.000756 batch:320/71913\n"
     ]
    },
    {
     "name": "stderr",
     "output_type": "stream",
     "text": [
      "\r",
      "  0%|          | 323/71913 [01:41<5:48:22,  3.42it/s]"
     ]
    },
    {
     "name": "stdout",
     "output_type": "stream",
     "text": [
      "loss:0.000446 batch:322/71913\n",
      "loss:0.000530 batch:322/71913\n"
     ]
    },
    {
     "name": "stderr",
     "output_type": "stream",
     "text": [
      "\r",
      "  0%|          | 325/71913 [01:41<5:45:25,  3.45it/s]"
     ]
    },
    {
     "name": "stdout",
     "output_type": "stream",
     "text": [
      "loss:0.000532 batch:324/71913\n",
      "loss:0.000624 batch:324/71913\n"
     ]
    },
    {
     "name": "stderr",
     "output_type": "stream",
     "text": [
      "\r",
      "  0%|          | 327/71913 [01:42<5:47:37,  3.43it/s]"
     ]
    },
    {
     "name": "stdout",
     "output_type": "stream",
     "text": [
      "loss:0.000553 batch:326/71913\n",
      "loss:0.000377 batch:326/71913\n"
     ]
    },
    {
     "name": "stderr",
     "output_type": "stream",
     "text": [
      "\r",
      "  0%|          | 329/71913 [01:43<5:45:02,  3.46it/s]"
     ]
    },
    {
     "name": "stdout",
     "output_type": "stream",
     "text": [
      "loss:0.000535 batch:328/71913\n",
      "loss:0.000491 batch:328/71913\n"
     ]
    },
    {
     "name": "stderr",
     "output_type": "stream",
     "text": [
      "\r",
      "  0%|          | 331/71913 [01:43<5:45:45,  3.45it/s]"
     ]
    },
    {
     "name": "stdout",
     "output_type": "stream",
     "text": [
      "loss:0.000485 batch:330/71913\n",
      "loss:0.000743 batch:330/71913\n"
     ]
    },
    {
     "name": "stderr",
     "output_type": "stream",
     "text": [
      "\r",
      "  0%|          | 333/71913 [01:44<5:43:45,  3.47it/s]"
     ]
    },
    {
     "name": "stdout",
     "output_type": "stream",
     "text": [
      "loss:0.001405 batch:332/71913\n",
      "loss:0.001184 batch:332/71913\n"
     ]
    },
    {
     "name": "stderr",
     "output_type": "stream",
     "text": [
      "\r",
      "  0%|          | 335/71913 [01:44<5:43:57,  3.47it/s]"
     ]
    },
    {
     "name": "stdout",
     "output_type": "stream",
     "text": [
      "loss:0.000969 batch:334/71913\n",
      "loss:0.001238 batch:334/71913\n"
     ]
    },
    {
     "name": "stderr",
     "output_type": "stream",
     "text": [
      "\r",
      "  0%|          | 337/71913 [01:45<5:43:54,  3.47it/s]"
     ]
    },
    {
     "name": "stdout",
     "output_type": "stream",
     "text": [
      "loss:0.001372 batch:336/71913\n",
      "loss:0.001520 batch:336/71913\n"
     ]
    },
    {
     "name": "stderr",
     "output_type": "stream",
     "text": [
      "\r",
      "  0%|          | 339/71913 [01:45<5:40:50,  3.50it/s]"
     ]
    },
    {
     "name": "stdout",
     "output_type": "stream",
     "text": [
      "loss:0.000704 batch:338/71913\n",
      "loss:0.000532 batch:338/71913\n"
     ]
    },
    {
     "name": "stderr",
     "output_type": "stream",
     "text": [
      "\r",
      "  0%|          | 341/71913 [01:46<5:43:31,  3.47it/s]"
     ]
    },
    {
     "name": "stdout",
     "output_type": "stream",
     "text": [
      "loss:0.000757 batch:340/71913\n",
      "loss:0.000834 batch:340/71913\n"
     ]
    },
    {
     "name": "stderr",
     "output_type": "stream",
     "text": [
      "\r",
      "  0%|          | 343/71913 [01:47<5:43:20,  3.47it/s]"
     ]
    },
    {
     "name": "stdout",
     "output_type": "stream",
     "text": [
      "loss:0.001697 batch:342/71913\n",
      "loss:0.001508 batch:342/71913\n"
     ]
    },
    {
     "name": "stderr",
     "output_type": "stream",
     "text": [
      "\r",
      "  0%|          | 345/71913 [01:47<5:48:28,  3.42it/s]"
     ]
    },
    {
     "name": "stdout",
     "output_type": "stream",
     "text": [
      "loss:0.000524 batch:344/71913\n",
      "loss:0.000607 batch:344/71913\n"
     ]
    },
    {
     "name": "stderr",
     "output_type": "stream",
     "text": [
      "\r",
      "  0%|          | 347/71913 [01:48<5:46:45,  3.44it/s]"
     ]
    },
    {
     "name": "stdout",
     "output_type": "stream",
     "text": [
      "loss:0.000504 batch:346/71913\n",
      "loss:0.000502 batch:346/71913\n"
     ]
    },
    {
     "name": "stderr",
     "output_type": "stream",
     "text": [
      "\r",
      "  0%|          | 349/71913 [01:48<5:45:40,  3.45it/s]"
     ]
    },
    {
     "name": "stdout",
     "output_type": "stream",
     "text": [
      "loss:0.000874 batch:348/71913\n",
      "loss:0.000434 batch:348/71913\n"
     ]
    },
    {
     "name": "stderr",
     "output_type": "stream",
     "text": [
      "\r",
      "  0%|          | 351/71913 [01:49<5:45:56,  3.45it/s]"
     ]
    },
    {
     "name": "stdout",
     "output_type": "stream",
     "text": [
      "loss:0.001506 batch:350/71913\n",
      "loss:0.001194 batch:350/71913\n"
     ]
    },
    {
     "name": "stderr",
     "output_type": "stream",
     "text": [
      "\r",
      "  0%|          | 353/71913 [01:50<5:43:08,  3.48it/s]"
     ]
    },
    {
     "name": "stdout",
     "output_type": "stream",
     "text": [
      "loss:0.000698 batch:352/71913\n",
      "loss:0.000552 batch:352/71913\n"
     ]
    },
    {
     "name": "stderr",
     "output_type": "stream",
     "text": [
      "\r",
      "  0%|          | 355/71913 [01:50<5:45:48,  3.45it/s]"
     ]
    },
    {
     "name": "stdout",
     "output_type": "stream",
     "text": [
      "loss:0.000499 batch:354/71913\n",
      "loss:0.001013 batch:354/71913\n"
     ]
    },
    {
     "name": "stderr",
     "output_type": "stream",
     "text": [
      "\r",
      "  0%|          | 357/71913 [01:51<5:43:50,  3.47it/s]"
     ]
    },
    {
     "name": "stdout",
     "output_type": "stream",
     "text": [
      "loss:0.000548 batch:356/71913\n",
      "loss:0.000390 batch:356/71913\n"
     ]
    },
    {
     "name": "stderr",
     "output_type": "stream",
     "text": [
      "\r",
      "  0%|          | 359/71913 [01:51<5:48:47,  3.42it/s]"
     ]
    },
    {
     "name": "stdout",
     "output_type": "stream",
     "text": [
      "loss:0.000648 batch:358/71913\n",
      "loss:0.000440 batch:358/71913\n"
     ]
    },
    {
     "name": "stderr",
     "output_type": "stream",
     "text": [
      "\r",
      "  1%|          | 361/71913 [01:52<5:53:51,  3.37it/s]"
     ]
    },
    {
     "name": "stdout",
     "output_type": "stream",
     "text": [
      "loss:0.000717 batch:360/71913\n",
      "loss:0.001036 batch:360/71913\n"
     ]
    },
    {
     "name": "stderr",
     "output_type": "stream",
     "text": [
      "\r",
      "  1%|          | 363/71913 [01:52<5:48:29,  3.42it/s]"
     ]
    },
    {
     "name": "stdout",
     "output_type": "stream",
     "text": [
      "loss:0.000486 batch:362/71913\n",
      "loss:0.000263 batch:362/71913\n"
     ]
    },
    {
     "name": "stderr",
     "output_type": "stream",
     "text": [
      "\r",
      "  1%|          | 365/71913 [01:53<5:48:17,  3.42it/s]"
     ]
    },
    {
     "name": "stdout",
     "output_type": "stream",
     "text": [
      "loss:0.000524 batch:364/71913\n",
      "loss:0.000513 batch:364/71913\n"
     ]
    },
    {
     "name": "stderr",
     "output_type": "stream",
     "text": [
      "\r",
      "  1%|          | 367/71913 [01:54<5:44:19,  3.46it/s]"
     ]
    },
    {
     "name": "stdout",
     "output_type": "stream",
     "text": [
      "loss:0.000612 batch:366/71913\n",
      "loss:0.000534 batch:366/71913\n"
     ]
    },
    {
     "name": "stderr",
     "output_type": "stream",
     "text": [
      "\r",
      "  1%|          | 369/71913 [01:54<5:45:11,  3.45it/s]"
     ]
    },
    {
     "name": "stdout",
     "output_type": "stream",
     "text": [
      "loss:0.000265 batch:368/71913\n",
      "loss:0.000399 batch:368/71913\n"
     ]
    },
    {
     "name": "stderr",
     "output_type": "stream",
     "text": [
      "\r",
      "  1%|          | 371/71913 [01:55<5:43:28,  3.47it/s]"
     ]
    },
    {
     "name": "stdout",
     "output_type": "stream",
     "text": [
      "loss:0.001057 batch:370/71913\n",
      "loss:0.000401 batch:370/71913\n"
     ]
    },
    {
     "name": "stderr",
     "output_type": "stream",
     "text": [
      "\r",
      "  1%|          | 373/71913 [01:55<5:43:21,  3.47it/s]"
     ]
    },
    {
     "name": "stdout",
     "output_type": "stream",
     "text": [
      "loss:0.002806 batch:372/71913\n",
      "loss:0.001336 batch:372/71913\n"
     ]
    },
    {
     "name": "stderr",
     "output_type": "stream",
     "text": [
      "\r",
      "  1%|          | 375/71913 [01:56<5:44:51,  3.46it/s]"
     ]
    },
    {
     "name": "stdout",
     "output_type": "stream",
     "text": [
      "loss:0.001417 batch:374/71913\n",
      "loss:0.001505 batch:374/71913\n"
     ]
    },
    {
     "name": "stderr",
     "output_type": "stream",
     "text": [
      "\r",
      "  1%|          | 377/71913 [01:57<5:41:06,  3.50it/s]"
     ]
    },
    {
     "name": "stdout",
     "output_type": "stream",
     "text": [
      "loss:0.001147 batch:376/71913\n",
      "loss:0.001550 batch:376/71913\n"
     ]
    },
    {
     "name": "stderr",
     "output_type": "stream",
     "text": [
      "\r",
      "  1%|          | 379/71913 [01:57<5:43:59,  3.47it/s]"
     ]
    },
    {
     "name": "stdout",
     "output_type": "stream",
     "text": [
      "loss:0.001691 batch:378/71913\n",
      "loss:0.001504 batch:378/71913\n"
     ]
    },
    {
     "name": "stderr",
     "output_type": "stream",
     "text": [
      "\r",
      "  1%|          | 381/71913 [01:58<5:43:14,  3.47it/s]"
     ]
    },
    {
     "name": "stdout",
     "output_type": "stream",
     "text": [
      "loss:0.001464 batch:380/71913\n",
      "loss:0.001174 batch:380/71913\n"
     ]
    },
    {
     "name": "stderr",
     "output_type": "stream",
     "text": [
      "\r",
      "  1%|          | 383/71913 [01:58<5:43:09,  3.47it/s]"
     ]
    },
    {
     "name": "stdout",
     "output_type": "stream",
     "text": [
      "loss:0.001496 batch:382/71913\n",
      "loss:0.001513 batch:382/71913\n"
     ]
    },
    {
     "name": "stderr",
     "output_type": "stream",
     "text": [
      "\r",
      "  1%|          | 385/71913 [01:59<5:40:58,  3.50it/s]"
     ]
    },
    {
     "name": "stdout",
     "output_type": "stream",
     "text": [
      "loss:0.001614 batch:384/71913\n",
      "loss:0.001487 batch:384/71913\n"
     ]
    },
    {
     "name": "stderr",
     "output_type": "stream",
     "text": [
      "\r",
      "  1%|          | 387/71913 [01:59<5:41:01,  3.50it/s]"
     ]
    },
    {
     "name": "stdout",
     "output_type": "stream",
     "text": [
      "loss:0.001452 batch:386/71913\n",
      "loss:0.001289 batch:386/71913\n"
     ]
    },
    {
     "name": "stderr",
     "output_type": "stream",
     "text": [
      "\r",
      "  1%|          | 389/71913 [02:00<5:45:10,  3.45it/s]"
     ]
    },
    {
     "name": "stdout",
     "output_type": "stream",
     "text": [
      "loss:0.001524 batch:388/71913\n",
      "loss:0.001475 batch:388/71913\n"
     ]
    },
    {
     "name": "stderr",
     "output_type": "stream",
     "text": [
      "\r",
      "  1%|          | 391/71913 [02:01<5:44:51,  3.46it/s]"
     ]
    },
    {
     "name": "stdout",
     "output_type": "stream",
     "text": [
      "loss:0.001482 batch:390/71913\n",
      "loss:0.000888 batch:390/71913\n"
     ]
    },
    {
     "name": "stderr",
     "output_type": "stream",
     "text": [
      "\r",
      "  1%|          | 393/71913 [02:01<5:45:53,  3.45it/s]"
     ]
    },
    {
     "name": "stdout",
     "output_type": "stream",
     "text": [
      "loss:0.000718 batch:392/71913\n",
      "loss:0.000713 batch:392/71913\n"
     ]
    },
    {
     "name": "stderr",
     "output_type": "stream",
     "text": [
      "\r",
      "  1%|          | 395/71913 [02:02<5:41:47,  3.49it/s]"
     ]
    },
    {
     "name": "stdout",
     "output_type": "stream",
     "text": [
      "loss:0.000981 batch:394/71913\n",
      "loss:0.000942 batch:394/71913\n"
     ]
    },
    {
     "name": "stderr",
     "output_type": "stream",
     "text": [
      "\r",
      "  1%|          | 397/71913 [02:02<5:42:29,  3.48it/s]"
     ]
    },
    {
     "name": "stdout",
     "output_type": "stream",
     "text": [
      "loss:0.000852 batch:396/71913\n",
      "loss:0.001307 batch:396/71913\n"
     ]
    },
    {
     "name": "stderr",
     "output_type": "stream",
     "text": [
      "\r",
      "  1%|          | 399/71913 [02:03<5:41:43,  3.49it/s]"
     ]
    },
    {
     "name": "stdout",
     "output_type": "stream",
     "text": [
      "loss:0.001009 batch:398/71913\n",
      "loss:0.001017 batch:398/71913\n"
     ]
    },
    {
     "name": "stderr",
     "output_type": "stream",
     "text": [
      "\r",
      "  1%|          | 401/71913 [02:03<5:38:20,  3.52it/s]"
     ]
    },
    {
     "name": "stdout",
     "output_type": "stream",
     "text": [
      "loss:0.001028 batch:400/71913\n",
      "loss:0.000933 batch:400/71913\n"
     ]
    },
    {
     "name": "stderr",
     "output_type": "stream",
     "text": [
      "\r",
      "  1%|          | 403/71913 [02:04<5:39:42,  3.51it/s]"
     ]
    },
    {
     "name": "stdout",
     "output_type": "stream",
     "text": [
      "loss:0.001289 batch:402/71913\n",
      "loss:0.001534 batch:402/71913\n"
     ]
    },
    {
     "name": "stderr",
     "output_type": "stream",
     "text": [
      "\r",
      "  1%|          | 405/71913 [02:05<5:36:31,  3.54it/s]"
     ]
    },
    {
     "name": "stdout",
     "output_type": "stream",
     "text": [
      "loss:0.000881 batch:404/71913\n",
      "loss:0.001072 batch:404/71913\n"
     ]
    },
    {
     "name": "stderr",
     "output_type": "stream",
     "text": [
      "\r",
      "  1%|          | 407/71913 [02:05<5:39:09,  3.51it/s]"
     ]
    },
    {
     "name": "stdout",
     "output_type": "stream",
     "text": [
      "loss:0.000940 batch:406/71913\n",
      "loss:0.000961 batch:406/71913\n"
     ]
    },
    {
     "name": "stderr",
     "output_type": "stream",
     "text": [
      "\r",
      "  1%|          | 409/71913 [02:06<5:36:11,  3.54it/s]"
     ]
    },
    {
     "name": "stdout",
     "output_type": "stream",
     "text": [
      "loss:0.000965 batch:408/71913\n",
      "loss:0.000982 batch:408/71913\n"
     ]
    },
    {
     "name": "stderr",
     "output_type": "stream",
     "text": [
      "\r",
      "  1%|          | 411/71913 [02:06<5:37:28,  3.53it/s]"
     ]
    },
    {
     "name": "stdout",
     "output_type": "stream",
     "text": [
      "loss:0.001336 batch:410/71913\n",
      "loss:0.001310 batch:410/71913\n"
     ]
    },
    {
     "name": "stderr",
     "output_type": "stream",
     "text": [
      "\r",
      "  1%|          | 413/71913 [02:07<5:38:02,  3.53it/s]"
     ]
    },
    {
     "name": "stdout",
     "output_type": "stream",
     "text": [
      "loss:0.000958 batch:412/71913\n",
      "loss:0.001231 batch:412/71913\n"
     ]
    },
    {
     "name": "stderr",
     "output_type": "stream",
     "text": [
      "\r",
      "  1%|          | 415/71913 [02:07<5:43:24,  3.47it/s]"
     ]
    },
    {
     "name": "stdout",
     "output_type": "stream",
     "text": [
      "loss:0.001368 batch:414/71913\n",
      "loss:0.001329 batch:414/71913\n"
     ]
    },
    {
     "name": "stderr",
     "output_type": "stream",
     "text": [
      "\r",
      "  1%|          | 417/71913 [02:08<5:46:05,  3.44it/s]"
     ]
    },
    {
     "name": "stdout",
     "output_type": "stream",
     "text": [
      "loss:0.001606 batch:416/71913\n",
      "loss:0.001384 batch:416/71913\n"
     ]
    },
    {
     "name": "stderr",
     "output_type": "stream",
     "text": [
      "\r",
      "  1%|          | 419/71913 [02:09<5:40:49,  3.50it/s]"
     ]
    },
    {
     "name": "stdout",
     "output_type": "stream",
     "text": [
      "loss:0.001354 batch:418/71913\n",
      "loss:0.001439 batch:418/71913\n"
     ]
    },
    {
     "name": "stderr",
     "output_type": "stream",
     "text": [
      "\r",
      "  1%|          | 421/71913 [02:09<5:41:15,  3.49it/s]"
     ]
    },
    {
     "name": "stdout",
     "output_type": "stream",
     "text": [
      "loss:0.001072 batch:420/71913\n",
      "loss:0.001050 batch:420/71913\n"
     ]
    },
    {
     "name": "stderr",
     "output_type": "stream",
     "text": [
      "\r",
      "  1%|          | 423/71913 [02:10<5:38:08,  3.52it/s]"
     ]
    },
    {
     "name": "stdout",
     "output_type": "stream",
     "text": [
      "loss:0.000648 batch:422/71913\n",
      "loss:0.000600 batch:422/71913\n"
     ]
    },
    {
     "name": "stderr",
     "output_type": "stream",
     "text": [
      "\r",
      "  1%|          | 425/71913 [02:10<5:40:15,  3.50it/s]"
     ]
    },
    {
     "name": "stdout",
     "output_type": "stream",
     "text": [
      "loss:0.000750 batch:424/71913\n",
      "loss:0.000806 batch:424/71913\n"
     ]
    },
    {
     "name": "stderr",
     "output_type": "stream",
     "text": [
      "\r",
      "  1%|          | 427/71913 [02:11<5:38:09,  3.52it/s]"
     ]
    },
    {
     "name": "stdout",
     "output_type": "stream",
     "text": [
      "loss:0.000592 batch:426/71913\n",
      "loss:0.000477 batch:426/71913\n"
     ]
    },
    {
     "name": "stderr",
     "output_type": "stream",
     "text": [
      "\r",
      "  1%|          | 429/71913 [02:11<5:36:10,  3.54it/s]"
     ]
    },
    {
     "name": "stdout",
     "output_type": "stream",
     "text": [
      "loss:0.000513 batch:428/71913\n",
      "loss:0.000874 batch:428/71913\n"
     ]
    },
    {
     "name": "stderr",
     "output_type": "stream",
     "text": [
      "\r",
      "  1%|          | 431/71913 [02:12<5:39:18,  3.51it/s]"
     ]
    },
    {
     "name": "stdout",
     "output_type": "stream",
     "text": [
      "loss:0.000515 batch:430/71913\n",
      "loss:0.000616 batch:430/71913\n"
     ]
    },
    {
     "name": "stderr",
     "output_type": "stream",
     "text": [
      "\r",
      "  1%|          | 433/71913 [02:13<5:35:34,  3.55it/s]"
     ]
    },
    {
     "name": "stdout",
     "output_type": "stream",
     "text": [
      "loss:0.000571 batch:432/71913\n",
      "loss:0.000603 batch:432/71913\n"
     ]
    },
    {
     "name": "stderr",
     "output_type": "stream",
     "text": [
      "\r",
      "  1%|          | 435/71913 [02:13<5:39:20,  3.51it/s]"
     ]
    },
    {
     "name": "stdout",
     "output_type": "stream",
     "text": [
      "loss:0.000576 batch:434/71913\n",
      "loss:0.000811 batch:434/71913\n"
     ]
    },
    {
     "name": "stderr",
     "output_type": "stream",
     "text": [
      "\r",
      "  1%|          | 437/71913 [02:14<5:35:32,  3.55it/s]"
     ]
    },
    {
     "name": "stdout",
     "output_type": "stream",
     "text": [
      "loss:0.001485 batch:436/71913\n",
      "loss:0.000652 batch:436/71913\n"
     ]
    },
    {
     "name": "stderr",
     "output_type": "stream",
     "text": [
      "\r",
      "  1%|          | 439/71913 [02:14<5:38:03,  3.52it/s]"
     ]
    },
    {
     "name": "stdout",
     "output_type": "stream",
     "text": [
      "loss:0.000636 batch:438/71913\n",
      "loss:0.000852 batch:438/71913\n"
     ]
    },
    {
     "name": "stderr",
     "output_type": "stream",
     "text": [
      "\r",
      "  1%|          | 441/71913 [02:15<5:38:33,  3.52it/s]"
     ]
    },
    {
     "name": "stdout",
     "output_type": "stream",
     "text": [
      "loss:0.000563 batch:440/71913\n",
      "loss:0.000656 batch:440/71913\n"
     ]
    },
    {
     "name": "stderr",
     "output_type": "stream",
     "text": [
      "\r",
      "  1%|          | 443/71913 [02:15<5:38:01,  3.52it/s]"
     ]
    },
    {
     "name": "stdout",
     "output_type": "stream",
     "text": [
      "loss:0.001352 batch:442/71913\n",
      "loss:0.001520 batch:442/71913\n"
     ]
    },
    {
     "name": "stderr",
     "output_type": "stream",
     "text": [
      "\r",
      "  1%|          | 445/71913 [02:16<5:38:10,  3.52it/s]"
     ]
    },
    {
     "name": "stdout",
     "output_type": "stream",
     "text": [
      "loss:0.001154 batch:444/71913\n",
      "loss:0.001154 batch:444/71913\n"
     ]
    },
    {
     "name": "stderr",
     "output_type": "stream",
     "text": [
      "\r",
      "  1%|          | 447/71913 [02:16<5:35:58,  3.55it/s]"
     ]
    },
    {
     "name": "stdout",
     "output_type": "stream",
     "text": [
      "loss:0.000299 batch:446/71913\n",
      "loss:0.000184 batch:446/71913\n"
     ]
    },
    {
     "name": "stderr",
     "output_type": "stream",
     "text": [
      "\r",
      "  1%|          | 449/71913 [02:17<5:38:31,  3.52it/s]"
     ]
    },
    {
     "name": "stdout",
     "output_type": "stream",
     "text": [
      "loss:0.000278 batch:448/71913\n",
      "loss:0.000188 batch:448/71913\n"
     ]
    },
    {
     "name": "stderr",
     "output_type": "stream",
     "text": [
      "\r",
      "  1%|          | 451/71913 [02:18<5:35:49,  3.55it/s]"
     ]
    },
    {
     "name": "stdout",
     "output_type": "stream",
     "text": [
      "loss:0.000237 batch:450/71913\n",
      "loss:0.000360 batch:450/71913\n"
     ]
    },
    {
     "name": "stderr",
     "output_type": "stream",
     "text": [
      "\r",
      "  1%|          | 453/71913 [02:18<5:37:42,  3.53it/s]"
     ]
    },
    {
     "name": "stdout",
     "output_type": "stream",
     "text": [
      "loss:0.000623 batch:452/71913\n",
      "loss:0.000648 batch:452/71913\n"
     ]
    },
    {
     "name": "stderr",
     "output_type": "stream",
     "text": [
      "\r",
      "  1%|          | 455/71913 [02:19<5:42:23,  3.48it/s]"
     ]
    },
    {
     "name": "stdout",
     "output_type": "stream",
     "text": [
      "loss:0.000673 batch:454/71913\n",
      "loss:0.000578 batch:454/71913\n",
      "loss:0.001513 batch:456/71913\n"
     ]
    },
    {
     "name": "stderr",
     "output_type": "stream",
     "text": [
      "\r",
      "  1%|          | 457/71913 [02:20<6:11:30,  3.21it/s]"
     ]
    },
    {
     "name": "stdout",
     "output_type": "stream",
     "text": [
      "loss:0.001506 batch:456/71913\n"
     ]
    },
    {
     "name": "stderr",
     "output_type": "stream",
     "text": [
      "\r",
      "  1%|          | 459/71913 [02:20<6:11:56,  3.20it/s]"
     ]
    },
    {
     "name": "stdout",
     "output_type": "stream",
     "text": [
      "loss:0.001570 batch:458/71913\n",
      "loss:0.001570 batch:458/71913\n",
      "loss:0.000721 batch:460/71913\n"
     ]
    },
    {
     "name": "stderr",
     "output_type": "stream",
     "text": [
      "\r",
      "  1%|          | 461/71913 [02:21<6:31:17,  3.04it/s]"
     ]
    },
    {
     "name": "stdout",
     "output_type": "stream",
     "text": [
      "loss:0.000721 batch:460/71913\n"
     ]
    },
    {
     "name": "stderr",
     "output_type": "stream",
     "text": [
      "\r",
      "  1%|          | 463/71913 [02:22<6:33:04,  3.03it/s]"
     ]
    },
    {
     "name": "stdout",
     "output_type": "stream",
     "text": [
      "loss:0.000735 batch:462/71913\n",
      "loss:0.000813 batch:462/71913\n"
     ]
    },
    {
     "name": "stderr",
     "output_type": "stream",
     "text": [
      "\r",
      "  1%|          | 465/71913 [02:22<6:33:26,  3.03it/s]"
     ]
    },
    {
     "name": "stdout",
     "output_type": "stream",
     "text": [
      "loss:0.000626 batch:464/71913\n",
      "loss:0.000686 batch:464/71913\n"
     ]
    },
    {
     "name": "stderr",
     "output_type": "stream",
     "text": [
      "\r",
      "  1%|          | 467/71913 [02:23<6:27:15,  3.07it/s]"
     ]
    },
    {
     "name": "stdout",
     "output_type": "stream",
     "text": [
      "loss:0.001653 batch:466/71913\n",
      "loss:0.001576 batch:466/71913\n"
     ]
    },
    {
     "name": "stderr",
     "output_type": "stream",
     "text": [
      "\r",
      "  1%|          | 469/71913 [02:23<6:23:18,  3.11it/s]"
     ]
    },
    {
     "name": "stdout",
     "output_type": "stream",
     "text": [
      "loss:0.000089 batch:468/71913\n",
      "loss:0.000527 batch:468/71913\n"
     ]
    },
    {
     "name": "stderr",
     "output_type": "stream",
     "text": [
      "\r",
      "  1%|          | 471/71913 [02:24<6:18:55,  3.14it/s]"
     ]
    },
    {
     "name": "stdout",
     "output_type": "stream",
     "text": [
      "loss:0.000932 batch:470/71913\n",
      "loss:0.000948 batch:470/71913\n"
     ]
    },
    {
     "name": "stderr",
     "output_type": "stream",
     "text": [
      "\r",
      "  1%|          | 473/71913 [02:25<6:11:45,  3.20it/s]"
     ]
    },
    {
     "name": "stdout",
     "output_type": "stream",
     "text": [
      "loss:0.000737 batch:472/71913\n",
      "loss:0.000764 batch:472/71913\n"
     ]
    },
    {
     "name": "stderr",
     "output_type": "stream",
     "text": [
      "\r",
      "  1%|          | 475/71913 [02:25<6:05:26,  3.26it/s]"
     ]
    },
    {
     "name": "stdout",
     "output_type": "stream",
     "text": [
      "loss:0.001602 batch:474/71913\n",
      "loss:0.001561 batch:474/71913\n"
     ]
    },
    {
     "name": "stderr",
     "output_type": "stream",
     "text": [
      "\r",
      "  1%|          | 477/71913 [02:26<5:58:35,  3.32it/s]"
     ]
    },
    {
     "name": "stdout",
     "output_type": "stream",
     "text": [
      "loss:0.000822 batch:476/71913\n",
      "loss:0.000805 batch:476/71913\n"
     ]
    },
    {
     "name": "stderr",
     "output_type": "stream",
     "text": [
      "\r",
      "  1%|          | 479/71913 [02:26<5:52:53,  3.37it/s]"
     ]
    },
    {
     "name": "stdout",
     "output_type": "stream",
     "text": [
      "loss:0.000995 batch:478/71913\n",
      "loss:0.000838 batch:478/71913\n"
     ]
    },
    {
     "name": "stderr",
     "output_type": "stream",
     "text": [
      "\r",
      "  1%|          | 481/71913 [02:27<5:51:55,  3.38it/s]"
     ]
    },
    {
     "name": "stdout",
     "output_type": "stream",
     "text": [
      "loss:0.000042 batch:480/71913\n",
      "loss:0.000059 batch:480/71913\n"
     ]
    },
    {
     "name": "stderr",
     "output_type": "stream",
     "text": [
      "\r",
      "  1%|          | 483/71913 [02:28<5:47:04,  3.43it/s]"
     ]
    },
    {
     "name": "stdout",
     "output_type": "stream",
     "text": [
      "loss:0.000041 batch:482/71913\n",
      "loss:0.000040 batch:482/71913\n"
     ]
    },
    {
     "name": "stderr",
     "output_type": "stream",
     "text": [
      "\r",
      "  1%|          | 485/71913 [02:28<5:48:01,  3.42it/s]"
     ]
    },
    {
     "name": "stdout",
     "output_type": "stream",
     "text": [
      "loss:0.000094 batch:484/71913\n",
      "loss:0.000046 batch:484/71913\n"
     ]
    },
    {
     "name": "stderr",
     "output_type": "stream",
     "text": [
      "\r",
      "  1%|          | 487/71913 [02:29<5:44:45,  3.45it/s]"
     ]
    },
    {
     "name": "stdout",
     "output_type": "stream",
     "text": [
      "loss:0.000876 batch:486/71913\n",
      "loss:0.000886 batch:486/71913\n"
     ]
    },
    {
     "name": "stderr",
     "output_type": "stream",
     "text": [
      "\r",
      "  1%|          | 489/71913 [02:29<5:44:04,  3.46it/s]"
     ]
    },
    {
     "name": "stdout",
     "output_type": "stream",
     "text": [
      "loss:0.000752 batch:488/71913\n",
      "loss:0.000800 batch:488/71913\n"
     ]
    },
    {
     "name": "stderr",
     "output_type": "stream",
     "text": [
      "\r",
      "  1%|          | 491/71913 [02:30<5:42:10,  3.48it/s]"
     ]
    },
    {
     "name": "stdout",
     "output_type": "stream",
     "text": [
      "loss:0.000847 batch:490/71913\n",
      "loss:0.000855 batch:490/71913\n"
     ]
    },
    {
     "name": "stderr",
     "output_type": "stream",
     "text": [
      "\r",
      "  1%|          | 493/71913 [02:30<5:40:29,  3.50it/s]"
     ]
    },
    {
     "name": "stdout",
     "output_type": "stream",
     "text": [
      "loss:0.000154 batch:492/71913\n",
      "loss:0.000139 batch:492/71913\n"
     ]
    },
    {
     "name": "stderr",
     "output_type": "stream",
     "text": [
      "\r",
      "  1%|          | 495/71913 [02:31<5:41:04,  3.49it/s]"
     ]
    },
    {
     "name": "stdout",
     "output_type": "stream",
     "text": [
      "loss:0.000722 batch:494/71913\n",
      "loss:0.000740 batch:494/71913\n"
     ]
    },
    {
     "name": "stderr",
     "output_type": "stream",
     "text": [
      "\r",
      "  1%|          | 497/71913 [02:32<5:42:33,  3.47it/s]"
     ]
    },
    {
     "name": "stdout",
     "output_type": "stream",
     "text": [
      "loss:0.001595 batch:496/71913\n",
      "loss:0.001625 batch:496/71913\n"
     ]
    },
    {
     "name": "stderr",
     "output_type": "stream",
     "text": [
      "\r",
      "  1%|          | 499/71913 [02:32<5:45:00,  3.45it/s]"
     ]
    },
    {
     "name": "stdout",
     "output_type": "stream",
     "text": [
      "loss:0.001505 batch:498/71913\n",
      "loss:0.001585 batch:498/71913\n"
     ]
    },
    {
     "name": "stderr",
     "output_type": "stream",
     "text": [
      "\r",
      "  1%|          | 501/71913 [02:33<5:44:17,  3.46it/s]"
     ]
    },
    {
     "name": "stdout",
     "output_type": "stream",
     "text": [
      "loss:0.001624 batch:500/71913\n",
      "loss:0.001545 batch:500/71913\n"
     ]
    },
    {
     "name": "stderr",
     "output_type": "stream",
     "text": [
      "\r",
      "  1%|          | 503/71913 [02:33<5:46:35,  3.43it/s]"
     ]
    },
    {
     "name": "stdout",
     "output_type": "stream",
     "text": [
      "loss:0.001657 batch:502/71913\n",
      "loss:0.001646 batch:502/71913\n"
     ]
    },
    {
     "name": "stderr",
     "output_type": "stream",
     "text": [
      "\r",
      "  1%|          | 505/71913 [02:34<5:46:31,  3.43it/s]"
     ]
    },
    {
     "name": "stdout",
     "output_type": "stream",
     "text": [
      "loss:0.001793 batch:504/71913\n",
      "loss:0.001703 batch:504/71913\n"
     ]
    },
    {
     "name": "stderr",
     "output_type": "stream",
     "text": [
      "\r",
      "  1%|          | 507/71913 [02:34<5:43:09,  3.47it/s]"
     ]
    },
    {
     "name": "stdout",
     "output_type": "stream",
     "text": [
      "loss:0.000805 batch:506/71913\n",
      "loss:0.000684 batch:506/71913\n"
     ]
    },
    {
     "name": "stderr",
     "output_type": "stream",
     "text": [
      "\r",
      "  1%|          | 509/71913 [02:35<5:43:49,  3.46it/s]"
     ]
    },
    {
     "name": "stdout",
     "output_type": "stream",
     "text": [
      "loss:0.001446 batch:508/71913\n",
      "loss:0.000862 batch:508/71913\n"
     ]
    },
    {
     "name": "stderr",
     "output_type": "stream",
     "text": [
      "\r",
      "  1%|          | 511/71913 [02:36<5:40:38,  3.49it/s]"
     ]
    },
    {
     "name": "stdout",
     "output_type": "stream",
     "text": [
      "loss:0.000958 batch:510/71913\n",
      "loss:0.000949 batch:510/71913\n"
     ]
    },
    {
     "name": "stderr",
     "output_type": "stream",
     "text": [
      "\r",
      "  1%|          | 513/71913 [02:36<5:42:56,  3.47it/s]"
     ]
    },
    {
     "name": "stdout",
     "output_type": "stream",
     "text": [
      "loss:0.000992 batch:512/71913\n",
      "loss:0.000985 batch:512/71913\n"
     ]
    },
    {
     "name": "stderr",
     "output_type": "stream",
     "text": [
      "\r",
      "  1%|          | 515/71913 [02:37<5:42:46,  3.47it/s]"
     ]
    },
    {
     "name": "stdout",
     "output_type": "stream",
     "text": [
      "loss:0.000868 batch:514/71913\n",
      "loss:0.000695 batch:514/71913\n"
     ]
    },
    {
     "name": "stderr",
     "output_type": "stream",
     "text": [
      "\r",
      "  1%|          | 517/71913 [02:37<5:42:38,  3.47it/s]"
     ]
    },
    {
     "name": "stdout",
     "output_type": "stream",
     "text": [
      "loss:0.000934 batch:516/71913\n",
      "loss:0.000798 batch:516/71913\n"
     ]
    },
    {
     "name": "stderr",
     "output_type": "stream",
     "text": [
      "\r",
      "  1%|          | 519/71913 [02:38<5:43:47,  3.46it/s]"
     ]
    },
    {
     "name": "stdout",
     "output_type": "stream",
     "text": [
      "loss:0.000962 batch:518/71913\n",
      "loss:0.000940 batch:518/71913\n"
     ]
    },
    {
     "name": "stderr",
     "output_type": "stream",
     "text": [
      "\r",
      "  1%|          | 521/71913 [02:39<5:41:45,  3.48it/s]"
     ]
    },
    {
     "name": "stdout",
     "output_type": "stream",
     "text": [
      "loss:0.000801 batch:520/71913\n",
      "loss:0.000755 batch:520/71913\n"
     ]
    },
    {
     "name": "stderr",
     "output_type": "stream",
     "text": [
      "\r",
      "  1%|          | 523/71913 [02:39<5:44:14,  3.46it/s]"
     ]
    },
    {
     "name": "stdout",
     "output_type": "stream",
     "text": [
      "loss:0.000916 batch:522/71913\n",
      "loss:0.000903 batch:522/71913\n"
     ]
    },
    {
     "name": "stderr",
     "output_type": "stream",
     "text": [
      "\r",
      "  1%|          | 525/71913 [02:40<5:49:21,  3.41it/s]"
     ]
    },
    {
     "name": "stdout",
     "output_type": "stream",
     "text": [
      "loss:0.000126 batch:524/71913\n",
      "loss:0.000295 batch:524/71913\n"
     ]
    },
    {
     "name": "stderr",
     "output_type": "stream",
     "text": [
      "\r",
      "  1%|          | 527/71913 [02:40<5:50:26,  3.39it/s]"
     ]
    },
    {
     "name": "stdout",
     "output_type": "stream",
     "text": [
      "loss:0.000935 batch:526/71913\n",
      "loss:0.000967 batch:526/71913\n"
     ]
    },
    {
     "name": "stderr",
     "output_type": "stream",
     "text": [
      "\r",
      "  1%|          | 529/71913 [02:41<5:49:25,  3.40it/s]"
     ]
    },
    {
     "name": "stdout",
     "output_type": "stream",
     "text": [
      "loss:0.000946 batch:528/71913\n",
      "loss:0.000952 batch:528/71913\n"
     ]
    },
    {
     "name": "stderr",
     "output_type": "stream",
     "text": [
      "\r",
      "  1%|          | 531/71913 [02:41<5:45:52,  3.44it/s]"
     ]
    },
    {
     "name": "stdout",
     "output_type": "stream",
     "text": [
      "loss:0.000886 batch:530/71913\n",
      "loss:0.000823 batch:530/71913\n"
     ]
    },
    {
     "name": "stderr",
     "output_type": "stream",
     "text": [
      "\r",
      "  1%|          | 533/71913 [02:42<5:45:19,  3.45it/s]"
     ]
    },
    {
     "name": "stdout",
     "output_type": "stream",
     "text": [
      "loss:0.000220 batch:532/71913\n",
      "loss:0.000220 batch:532/71913\n"
     ]
    },
    {
     "name": "stderr",
     "output_type": "stream",
     "text": [
      "\r",
      "  1%|          | 535/71913 [02:43<5:42:55,  3.47it/s]"
     ]
    },
    {
     "name": "stdout",
     "output_type": "stream",
     "text": [
      "loss:0.000297 batch:534/71913\n",
      "loss:0.000153 batch:534/71913\n"
     ]
    },
    {
     "name": "stderr",
     "output_type": "stream",
     "text": [
      "\r",
      "  1%|          | 537/71913 [02:43<5:51:05,  3.39it/s]"
     ]
    },
    {
     "name": "stdout",
     "output_type": "stream",
     "text": [
      "loss:0.000869 batch:536/71913\n",
      "loss:0.000873 batch:536/71913\n"
     ]
    },
    {
     "name": "stderr",
     "output_type": "stream",
     "text": [
      "\r",
      "  1%|          | 539/71913 [02:44<5:48:21,  3.41it/s]"
     ]
    },
    {
     "name": "stdout",
     "output_type": "stream",
     "text": [
      "loss:0.000874 batch:538/71913\n",
      "loss:0.000993 batch:538/71913\n"
     ]
    },
    {
     "name": "stderr",
     "output_type": "stream",
     "text": [
      "\r",
      "  1%|          | 541/71913 [02:44<5:46:09,  3.44it/s]"
     ]
    },
    {
     "name": "stdout",
     "output_type": "stream",
     "text": [
      "loss:0.001059 batch:540/71913\n",
      "loss:0.000856 batch:540/71913\n"
     ]
    },
    {
     "name": "stderr",
     "output_type": "stream",
     "text": [
      "\r",
      "  1%|          | 543/71913 [02:45<5:48:11,  3.42it/s]"
     ]
    },
    {
     "name": "stdout",
     "output_type": "stream",
     "text": [
      "loss:0.000256 batch:542/71913\n",
      "loss:0.000364 batch:542/71913\n"
     ]
    },
    {
     "name": "stderr",
     "output_type": "stream",
     "text": [
      "\r",
      "  1%|          | 545/71913 [02:46<5:44:35,  3.45it/s]"
     ]
    },
    {
     "name": "stdout",
     "output_type": "stream",
     "text": [
      "loss:0.000298 batch:544/71913\n",
      "loss:0.000259 batch:544/71913\n"
     ]
    },
    {
     "name": "stderr",
     "output_type": "stream",
     "text": [
      "\r",
      "  1%|          | 547/71913 [02:46<5:44:57,  3.45it/s]"
     ]
    },
    {
     "name": "stdout",
     "output_type": "stream",
     "text": [
      "loss:0.000694 batch:546/71913\n",
      "loss:0.000635 batch:546/71913\n"
     ]
    },
    {
     "name": "stderr",
     "output_type": "stream",
     "text": [
      "\r",
      "  1%|          | 549/71913 [02:47<5:41:38,  3.48it/s]"
     ]
    },
    {
     "name": "stdout",
     "output_type": "stream",
     "text": [
      "loss:0.000618 batch:548/71913\n",
      "loss:0.000559 batch:548/71913\n"
     ]
    },
    {
     "name": "stderr",
     "output_type": "stream",
     "text": [
      "\r",
      "  1%|          | 551/71913 [02:47<5:42:52,  3.47it/s]"
     ]
    },
    {
     "name": "stdout",
     "output_type": "stream",
     "text": [
      "loss:0.000530 batch:550/71913\n",
      "loss:0.000530 batch:550/71913\n"
     ]
    },
    {
     "name": "stderr",
     "output_type": "stream",
     "text": [
      "\r",
      "  1%|          | 553/71913 [02:48<5:44:54,  3.45it/s]"
     ]
    },
    {
     "name": "stdout",
     "output_type": "stream",
     "text": [
      "loss:0.000516 batch:552/71913\n",
      "loss:0.000506 batch:552/71913\n"
     ]
    },
    {
     "name": "stderr",
     "output_type": "stream",
     "text": [
      "\r",
      "  1%|          | 555/71913 [02:48<5:42:29,  3.47it/s]"
     ]
    },
    {
     "name": "stdout",
     "output_type": "stream",
     "text": [
      "loss:0.000511 batch:554/71913\n",
      "loss:0.000578 batch:554/71913\n"
     ]
    },
    {
     "name": "stderr",
     "output_type": "stream",
     "text": [
      "\r",
      "  1%|          | 557/71913 [02:49<5:43:38,  3.46it/s]"
     ]
    },
    {
     "name": "stdout",
     "output_type": "stream",
     "text": [
      "loss:0.001136 batch:556/71913\n",
      "loss:0.001136 batch:556/71913\n"
     ]
    },
    {
     "name": "stderr",
     "output_type": "stream",
     "text": [
      "\r",
      "  1%|          | 559/71913 [02:50<5:41:36,  3.48it/s]"
     ]
    },
    {
     "name": "stdout",
     "output_type": "stream",
     "text": [
      "loss:0.001115 batch:558/71913\n",
      "loss:0.001468 batch:558/71913\n"
     ]
    },
    {
     "name": "stderr",
     "output_type": "stream",
     "text": [
      "\r",
      "  1%|          | 561/71913 [02:50<5:44:03,  3.46it/s]"
     ]
    },
    {
     "name": "stdout",
     "output_type": "stream",
     "text": [
      "loss:0.001208 batch:560/71913\n",
      "loss:0.001130 batch:560/71913\n"
     ]
    },
    {
     "name": "stderr",
     "output_type": "stream",
     "text": [
      "\r",
      "  1%|          | 563/71913 [02:51<5:43:50,  3.46it/s]"
     ]
    },
    {
     "name": "stdout",
     "output_type": "stream",
     "text": [
      "loss:0.001408 batch:562/71913\n",
      "loss:0.001273 batch:562/71913\n"
     ]
    },
    {
     "name": "stderr",
     "output_type": "stream",
     "text": [
      "\r",
      "  1%|          | 565/71913 [02:51<5:42:58,  3.47it/s]"
     ]
    },
    {
     "name": "stdout",
     "output_type": "stream",
     "text": [
      "loss:0.000979 batch:564/71913\n",
      "loss:0.000979 batch:564/71913\n"
     ]
    },
    {
     "name": "stderr",
     "output_type": "stream",
     "text": [
      "\r",
      "  1%|          | 567/71913 [02:52<5:42:50,  3.47it/s]"
     ]
    },
    {
     "name": "stdout",
     "output_type": "stream",
     "text": [
      "loss:0.000967 batch:566/71913\n",
      "loss:0.001088 batch:566/71913\n"
     ]
    },
    {
     "name": "stderr",
     "output_type": "stream",
     "text": [
      "\r",
      "  1%|          | 569/71913 [02:52<5:48:29,  3.41it/s]"
     ]
    },
    {
     "name": "stdout",
     "output_type": "stream",
     "text": [
      "loss:0.000528 batch:568/71913\n",
      "loss:0.000528 batch:568/71913\n"
     ]
    },
    {
     "name": "stderr",
     "output_type": "stream",
     "text": [
      "\r",
      "  1%|          | 571/71913 [02:53<5:48:42,  3.41it/s]"
     ]
    },
    {
     "name": "stdout",
     "output_type": "stream",
     "text": [
      "loss:0.000339 batch:570/71913\n",
      "loss:0.000535 batch:570/71913\n"
     ]
    },
    {
     "name": "stderr",
     "output_type": "stream",
     "text": [
      "\r",
      "  1%|          | 573/71913 [02:54<5:43:27,  3.46it/s]"
     ]
    },
    {
     "name": "stdout",
     "output_type": "stream",
     "text": [
      "loss:0.000566 batch:572/71913\n",
      "loss:0.000538 batch:572/71913\n"
     ]
    },
    {
     "name": "stderr",
     "output_type": "stream",
     "text": [
      "\r",
      "  1%|          | 575/71913 [02:54<5:44:39,  3.45it/s]"
     ]
    },
    {
     "name": "stdout",
     "output_type": "stream",
     "text": [
      "loss:0.000549 batch:574/71913\n",
      "loss:0.000549 batch:574/71913\n"
     ]
    },
    {
     "name": "stderr",
     "output_type": "stream",
     "text": [
      "\r",
      "  1%|          | 577/71913 [02:55<5:42:11,  3.47it/s]"
     ]
    },
    {
     "name": "stdout",
     "output_type": "stream",
     "text": [
      "loss:0.000542 batch:576/71913\n",
      "loss:0.000542 batch:576/71913\n"
     ]
    },
    {
     "name": "stderr",
     "output_type": "stream",
     "text": [
      "\r",
      "  1%|          | 579/71913 [02:55<5:47:29,  3.42it/s]"
     ]
    },
    {
     "name": "stdout",
     "output_type": "stream",
     "text": [
      "loss:0.000540 batch:578/71913\n",
      "loss:0.000562 batch:578/71913\n"
     ]
    },
    {
     "name": "stderr",
     "output_type": "stream",
     "text": [
      "\r",
      "  1%|          | 581/71913 [02:56<5:53:41,  3.36it/s]"
     ]
    },
    {
     "name": "stdout",
     "output_type": "stream",
     "text": [
      "loss:0.000598 batch:580/71913\n",
      "loss:0.000572 batch:580/71913\n"
     ]
    },
    {
     "name": "stderr",
     "output_type": "stream",
     "text": [
      "\r",
      "  1%|          | 583/71913 [02:57<5:48:06,  3.42it/s]"
     ]
    },
    {
     "name": "stdout",
     "output_type": "stream",
     "text": [
      "loss:0.000588 batch:582/71913\n",
      "loss:0.000589 batch:582/71913\n"
     ]
    },
    {
     "name": "stderr",
     "output_type": "stream",
     "text": [
      "\r",
      "  1%|          | 585/71913 [02:57<5:47:10,  3.42it/s]"
     ]
    },
    {
     "name": "stdout",
     "output_type": "stream",
     "text": [
      "loss:0.000461 batch:584/71913\n",
      "loss:0.000537 batch:584/71913\n"
     ]
    },
    {
     "name": "stderr",
     "output_type": "stream",
     "text": [
      "\r",
      "  1%|          | 587/71913 [02:58<5:42:36,  3.47it/s]"
     ]
    },
    {
     "name": "stdout",
     "output_type": "stream",
     "text": [
      "loss:0.000622 batch:586/71913\n",
      "loss:0.000609 batch:586/71913\n"
     ]
    },
    {
     "name": "stderr",
     "output_type": "stream",
     "text": [
      "\r",
      "  1%|          | 589/71913 [02:58<5:41:42,  3.48it/s]"
     ]
    },
    {
     "name": "stdout",
     "output_type": "stream",
     "text": [
      "loss:0.000639 batch:588/71913\n",
      "loss:0.000656 batch:588/71913\n"
     ]
    },
    {
     "name": "stderr",
     "output_type": "stream",
     "text": [
      "\r",
      "  1%|          | 591/71913 [02:59<5:40:12,  3.49it/s]"
     ]
    },
    {
     "name": "stdout",
     "output_type": "stream",
     "text": [
      "loss:0.000641 batch:590/71913\n",
      "loss:0.000690 batch:590/71913\n"
     ]
    },
    {
     "name": "stderr",
     "output_type": "stream",
     "text": [
      "\r",
      "  1%|          | 593/71913 [02:59<5:38:57,  3.51it/s]"
     ]
    },
    {
     "name": "stdout",
     "output_type": "stream",
     "text": [
      "loss:0.000739 batch:592/71913\n",
      "loss:0.000739 batch:592/71913\n"
     ]
    },
    {
     "name": "stderr",
     "output_type": "stream",
     "text": [
      "\r",
      "  1%|          | 595/71913 [03:00<5:40:02,  3.50it/s]"
     ]
    },
    {
     "name": "stdout",
     "output_type": "stream",
     "text": [
      "loss:0.000718 batch:594/71913\n",
      "loss:0.000760 batch:594/71913\n"
     ]
    },
    {
     "name": "stderr",
     "output_type": "stream",
     "text": [
      "\r",
      "  1%|          | 597/71913 [03:01<5:43:17,  3.46it/s]"
     ]
    },
    {
     "name": "stdout",
     "output_type": "stream",
     "text": [
      "loss:0.000360 batch:596/71913\n",
      "loss:0.000784 batch:596/71913\n"
     ]
    },
    {
     "name": "stderr",
     "output_type": "stream",
     "text": [
      "\r",
      "  1%|          | 599/71913 [03:01<5:45:12,  3.44it/s]"
     ]
    },
    {
     "name": "stdout",
     "output_type": "stream",
     "text": [
      "loss:0.000726 batch:598/71913\n",
      "loss:0.000812 batch:598/71913\n"
     ]
    },
    {
     "name": "stderr",
     "output_type": "stream",
     "text": [
      "\r",
      "  1%|          | 601/71913 [03:02<5:41:01,  3.49it/s]"
     ]
    },
    {
     "name": "stdout",
     "output_type": "stream",
     "text": [
      "loss:0.000842 batch:600/71913\n",
      "loss:0.000769 batch:600/71913\n"
     ]
    },
    {
     "name": "stderr",
     "output_type": "stream",
     "text": [
      "\r",
      "  1%|          | 603/71913 [03:02<5:41:18,  3.48it/s]"
     ]
    },
    {
     "name": "stdout",
     "output_type": "stream",
     "text": [
      "loss:0.000630 batch:602/71913\n",
      "loss:0.000790 batch:602/71913\n"
     ]
    },
    {
     "name": "stderr",
     "output_type": "stream",
     "text": [
      "\r",
      "  1%|          | 605/71913 [03:03<5:40:32,  3.49it/s]"
     ]
    },
    {
     "name": "stdout",
     "output_type": "stream",
     "text": [
      "loss:0.000921 batch:604/71913\n",
      "loss:0.000920 batch:604/71913\n"
     ]
    },
    {
     "name": "stderr",
     "output_type": "stream",
     "text": [
      "\r",
      "  1%|          | 607/71913 [03:03<5:40:03,  3.49it/s]"
     ]
    },
    {
     "name": "stdout",
     "output_type": "stream",
     "text": [
      "loss:0.000912 batch:606/71913\n",
      "loss:0.000946 batch:606/71913\n"
     ]
    },
    {
     "name": "stderr",
     "output_type": "stream",
     "text": [
      "\r",
      "  1%|          | 609/71913 [03:04<5:40:05,  3.49it/s]"
     ]
    },
    {
     "name": "stdout",
     "output_type": "stream",
     "text": [
      "loss:0.000713 batch:608/71913\n",
      "loss:0.000977 batch:608/71913\n"
     ]
    },
    {
     "name": "stderr",
     "output_type": "stream",
     "text": [
      "\r",
      "  1%|          | 611/71913 [03:05<5:37:36,  3.52it/s]"
     ]
    },
    {
     "name": "stdout",
     "output_type": "stream",
     "text": [
      "loss:0.000989 batch:610/71913\n",
      "loss:0.001009 batch:610/71913\n"
     ]
    },
    {
     "name": "stderr",
     "output_type": "stream",
     "text": [
      "\r",
      "  1%|          | 613/71913 [03:05<5:40:29,  3.49it/s]"
     ]
    },
    {
     "name": "stdout",
     "output_type": "stream",
     "text": [
      "loss:0.001286 batch:612/71913\n",
      "loss:0.001286 batch:612/71913\n"
     ]
    },
    {
     "name": "stderr",
     "output_type": "stream",
     "text": [
      "\r",
      "  1%|          | 615/71913 [03:06<5:37:21,  3.52it/s]"
     ]
    },
    {
     "name": "stdout",
     "output_type": "stream",
     "text": [
      "loss:0.000945 batch:614/71913\n",
      "loss:0.000876 batch:614/71913\n"
     ]
    },
    {
     "name": "stderr",
     "output_type": "stream",
     "text": [
      "\r",
      "  1%|          | 617/71913 [03:06<5:38:21,  3.51it/s]"
     ]
    },
    {
     "name": "stdout",
     "output_type": "stream",
     "text": [
      "loss:0.000877 batch:616/71913\n",
      "loss:0.000959 batch:616/71913\n"
     ]
    },
    {
     "name": "stderr",
     "output_type": "stream",
     "text": [
      "\r",
      "  1%|          | 619/71913 [03:07<5:37:09,  3.52it/s]"
     ]
    },
    {
     "name": "stdout",
     "output_type": "stream",
     "text": [
      "loss:0.001040 batch:618/71913\n",
      "loss:0.000989 batch:618/71913\n"
     ]
    },
    {
     "name": "stderr",
     "output_type": "stream",
     "text": [
      "\r",
      "  1%|          | 621/71913 [03:07<5:35:54,  3.54it/s]"
     ]
    },
    {
     "name": "stdout",
     "output_type": "stream",
     "text": [
      "loss:0.000963 batch:620/71913\n",
      "loss:0.001052 batch:620/71913\n"
     ]
    },
    {
     "name": "stderr",
     "output_type": "stream",
     "text": [
      "\r",
      "  1%|          | 623/71913 [03:08<5:38:02,  3.51it/s]"
     ]
    },
    {
     "name": "stdout",
     "output_type": "stream",
     "text": [
      "loss:0.001024 batch:622/71913\n",
      "loss:0.001021 batch:622/71913\n"
     ]
    },
    {
     "name": "stderr",
     "output_type": "stream",
     "text": [
      "\r",
      "  1%|          | 625/71913 [03:09<5:35:16,  3.54it/s]"
     ]
    },
    {
     "name": "stdout",
     "output_type": "stream",
     "text": [
      "loss:0.001236 batch:624/71913\n",
      "loss:0.001329 batch:624/71913\n"
     ]
    },
    {
     "name": "stderr",
     "output_type": "stream",
     "text": [
      "\r",
      "  1%|          | 627/71913 [03:09<5:36:53,  3.53it/s]"
     ]
    },
    {
     "name": "stdout",
     "output_type": "stream",
     "text": [
      "loss:0.001031 batch:626/71913\n",
      "loss:0.001027 batch:626/71913\n"
     ]
    },
    {
     "name": "stderr",
     "output_type": "stream",
     "text": [
      "\r",
      "  1%|          | 629/71913 [03:10<5:34:27,  3.55it/s]"
     ]
    },
    {
     "name": "stdout",
     "output_type": "stream",
     "text": [
      "loss:0.000607 batch:628/71913\n",
      "loss:0.000608 batch:628/71913\n"
     ]
    },
    {
     "name": "stderr",
     "output_type": "stream",
     "text": [
      "\r",
      "  1%|          | 631/71913 [03:10<5:36:50,  3.53it/s]"
     ]
    },
    {
     "name": "stdout",
     "output_type": "stream",
     "text": [
      "loss:0.000578 batch:630/71913\n",
      "loss:0.000578 batch:630/71913\n"
     ]
    },
    {
     "name": "stderr",
     "output_type": "stream",
     "text": [
      "\r",
      "  1%|          | 633/71913 [03:11<5:37:23,  3.52it/s]"
     ]
    },
    {
     "name": "stdout",
     "output_type": "stream",
     "text": [
      "loss:0.000551 batch:632/71913\n",
      "loss:0.000514 batch:632/71913\n"
     ]
    },
    {
     "name": "stderr",
     "output_type": "stream",
     "text": [
      "\r",
      "  1%|          | 635/71913 [03:11<5:44:02,  3.45it/s]"
     ]
    },
    {
     "name": "stdout",
     "output_type": "stream",
     "text": [
      "loss:0.000529 batch:634/71913\n",
      "loss:0.000509 batch:634/71913\n"
     ]
    },
    {
     "name": "stderr",
     "output_type": "stream",
     "text": [
      "\r",
      "  1%|          | 637/71913 [03:12<5:47:40,  3.42it/s]"
     ]
    },
    {
     "name": "stdout",
     "output_type": "stream",
     "text": [
      "loss:0.000516 batch:636/71913\n",
      "loss:0.000516 batch:636/71913\n"
     ]
    },
    {
     "name": "stderr",
     "output_type": "stream",
     "text": [
      "\r",
      "  1%|          | 639/71913 [03:13<5:44:02,  3.45it/s]"
     ]
    },
    {
     "name": "stdout",
     "output_type": "stream",
     "text": [
      "loss:0.000631 batch:638/71913\n",
      "loss:0.000631 batch:638/71913\n"
     ]
    },
    {
     "name": "stderr",
     "output_type": "stream",
     "text": [
      "\r",
      "  1%|          | 641/71913 [03:13<5:44:36,  3.45it/s]"
     ]
    },
    {
     "name": "stdout",
     "output_type": "stream",
     "text": [
      "loss:0.000587 batch:640/71913\n",
      "loss:0.000564 batch:640/71913\n"
     ]
    },
    {
     "name": "stderr",
     "output_type": "stream",
     "text": [
      "\r",
      "  1%|          | 643/71913 [03:14<5:41:47,  3.48it/s]"
     ]
    },
    {
     "name": "stdout",
     "output_type": "stream",
     "text": [
      "loss:0.000626 batch:642/71913\n",
      "loss:0.000577 batch:642/71913\n"
     ]
    },
    {
     "name": "stderr",
     "output_type": "stream",
     "text": [
      "\r",
      "  1%|          | 645/71913 [03:14<5:41:36,  3.48it/s]"
     ]
    },
    {
     "name": "stdout",
     "output_type": "stream",
     "text": [
      "loss:0.000558 batch:644/71913\n",
      "loss:0.000525 batch:644/71913\n"
     ]
    },
    {
     "name": "stderr",
     "output_type": "stream",
     "text": [
      "\r",
      "  1%|          | 647/71913 [03:15<5:40:31,  3.49it/s]"
     ]
    },
    {
     "name": "stdout",
     "output_type": "stream",
     "text": [
      "loss:0.000580 batch:646/71913\n",
      "loss:0.000454 batch:646/71913\n"
     ]
    },
    {
     "name": "stderr",
     "output_type": "stream",
     "text": [
      "\r",
      "  1%|          | 649/71913 [03:15<5:38:45,  3.51it/s]"
     ]
    },
    {
     "name": "stdout",
     "output_type": "stream",
     "text": [
      "loss:0.001390 batch:648/71913\n",
      "loss:0.001380 batch:648/71913\n"
     ]
    },
    {
     "name": "stderr",
     "output_type": "stream",
     "text": [
      "\r",
      "  1%|          | 651/71913 [03:16<5:39:16,  3.50it/s]"
     ]
    },
    {
     "name": "stdout",
     "output_type": "stream",
     "text": [
      "loss:0.001177 batch:650/71913\n",
      "loss:0.001177 batch:650/71913\n"
     ]
    },
    {
     "name": "stderr",
     "output_type": "stream",
     "text": [
      "\r",
      "  1%|          | 653/71913 [03:17<5:37:41,  3.52it/s]"
     ]
    },
    {
     "name": "stdout",
     "output_type": "stream",
     "text": [
      "loss:0.001224 batch:652/71913\n",
      "loss:0.001167 batch:652/71913\n"
     ]
    },
    {
     "name": "stderr",
     "output_type": "stream",
     "text": [
      "\r",
      "  1%|          | 655/71913 [03:17<5:39:47,  3.50it/s]"
     ]
    },
    {
     "name": "stdout",
     "output_type": "stream",
     "text": [
      "loss:0.001413 batch:654/71913\n",
      "loss:0.001413 batch:654/71913\n"
     ]
    },
    {
     "name": "stderr",
     "output_type": "stream",
     "text": [
      "\r",
      "  1%|          | 657/71913 [03:18<5:36:32,  3.53it/s]"
     ]
    },
    {
     "name": "stdout",
     "output_type": "stream",
     "text": [
      "loss:0.001193 batch:656/71913\n",
      "loss:0.002215 batch:656/71913\n"
     ]
    },
    {
     "name": "stderr",
     "output_type": "stream",
     "text": [
      "\r",
      "  1%|          | 659/71913 [03:18<5:40:02,  3.49it/s]"
     ]
    },
    {
     "name": "stdout",
     "output_type": "stream",
     "text": [
      "loss:0.001447 batch:658/71913\n",
      "loss:0.001458 batch:658/71913\n"
     ]
    },
    {
     "name": "stderr",
     "output_type": "stream",
     "text": [
      "\r",
      "  1%|          | 661/71913 [03:19<5:39:51,  3.49it/s]"
     ]
    },
    {
     "name": "stdout",
     "output_type": "stream",
     "text": [
      "loss:0.001216 batch:660/71913\n",
      "loss:0.001216 batch:660/71913\n"
     ]
    },
    {
     "name": "stderr",
     "output_type": "stream",
     "text": [
      "\r",
      "  1%|          | 663/71913 [03:19<5:37:33,  3.52it/s]"
     ]
    },
    {
     "name": "stdout",
     "output_type": "stream",
     "text": [
      "loss:0.001248 batch:662/71913\n",
      "loss:0.001268 batch:662/71913\n"
     ]
    },
    {
     "name": "stderr",
     "output_type": "stream",
     "text": [
      "\r",
      "  1%|          | 665/71913 [03:20<5:38:04,  3.51it/s]"
     ]
    },
    {
     "name": "stdout",
     "output_type": "stream",
     "text": [
      "loss:0.001399 batch:664/71913\n",
      "loss:0.001449 batch:664/71913\n"
     ]
    },
    {
     "name": "stderr",
     "output_type": "stream",
     "text": [
      "\r",
      "  1%|          | 667/71913 [03:21<5:35:25,  3.54it/s]"
     ]
    },
    {
     "name": "stdout",
     "output_type": "stream",
     "text": [
      "loss:0.001294 batch:666/71913\n",
      "loss:0.001288 batch:666/71913\n"
     ]
    },
    {
     "name": "stderr",
     "output_type": "stream",
     "text": [
      "\r",
      "  1%|          | 669/71913 [03:21<5:37:59,  3.51it/s]"
     ]
    },
    {
     "name": "stdout",
     "output_type": "stream",
     "text": [
      "loss:0.000709 batch:668/71913\n",
      "loss:0.000721 batch:668/71913\n"
     ]
    },
    {
     "name": "stderr",
     "output_type": "stream",
     "text": [
      "\r",
      "  1%|          | 671/71913 [03:22<5:36:03,  3.53it/s]"
     ]
    },
    {
     "name": "stdout",
     "output_type": "stream",
     "text": [
      "loss:0.000722 batch:670/71913\n",
      "loss:0.000725 batch:670/71913\n"
     ]
    },
    {
     "name": "stderr",
     "output_type": "stream",
     "text": [
      "\r",
      "  1%|          | 673/71913 [03:22<5:36:39,  3.53it/s]"
     ]
    },
    {
     "name": "stdout",
     "output_type": "stream",
     "text": [
      "loss:0.000023 batch:672/71913\n",
      "loss:0.000023 batch:672/71913\n"
     ]
    },
    {
     "name": "stderr",
     "output_type": "stream",
     "text": [
      "\r",
      "  1%|          | 675/71913 [03:23<5:35:45,  3.54it/s]"
     ]
    },
    {
     "name": "stdout",
     "output_type": "stream",
     "text": [
      "loss:0.000033 batch:674/71913\n",
      "loss:0.000061 batch:674/71913\n"
     ]
    },
    {
     "name": "stderr",
     "output_type": "stream",
     "text": [
      "\r",
      "  1%|          | 677/71913 [03:23<5:36:05,  3.53it/s]"
     ]
    },
    {
     "name": "stdout",
     "output_type": "stream",
     "text": [
      "loss:0.001442 batch:676/71913\n",
      "loss:0.001442 batch:676/71913\n"
     ]
    },
    {
     "name": "stderr",
     "output_type": "stream",
     "text": [
      "\r",
      "  1%|          | 679/71913 [03:24<5:36:40,  3.53it/s]"
     ]
    },
    {
     "name": "stdout",
     "output_type": "stream",
     "text": [
      "loss:0.001196 batch:678/71913\n",
      "loss:0.001324 batch:678/71913\n"
     ]
    },
    {
     "name": "stderr",
     "output_type": "stream",
     "text": [
      "\r",
      "  1%|          | 681/71913 [03:24<5:34:11,  3.55it/s]"
     ]
    },
    {
     "name": "stdout",
     "output_type": "stream",
     "text": [
      "loss:0.001326 batch:680/71913\n",
      "loss:0.001326 batch:680/71913\n"
     ]
    },
    {
     "name": "stderr",
     "output_type": "stream",
     "text": [
      "\r",
      "  1%|          | 683/71913 [03:25<5:35:51,  3.53it/s]"
     ]
    },
    {
     "name": "stdout",
     "output_type": "stream",
     "text": [
      "loss:0.001266 batch:682/71913\n",
      "loss:0.001266 batch:682/71913\n"
     ]
    },
    {
     "name": "stderr",
     "output_type": "stream",
     "text": [
      "\r",
      "  1%|          | 685/71913 [03:26<5:34:01,  3.55it/s]"
     ]
    },
    {
     "name": "stdout",
     "output_type": "stream",
     "text": [
      "loss:0.001410 batch:684/71913\n",
      "loss:0.001410 batch:684/71913\n"
     ]
    },
    {
     "name": "stderr",
     "output_type": "stream",
     "text": [
      "\r",
      "  1%|          | 687/71913 [03:26<5:35:23,  3.54it/s]"
     ]
    },
    {
     "name": "stdout",
     "output_type": "stream",
     "text": [
      "loss:0.001492 batch:686/71913\n",
      "loss:0.001495 batch:686/71913\n"
     ]
    },
    {
     "name": "stderr",
     "output_type": "stream",
     "text": [
      "\r",
      "  1%|          | 689/71913 [03:27<5:34:34,  3.55it/s]"
     ]
    },
    {
     "name": "stdout",
     "output_type": "stream",
     "text": [
      "loss:0.001486 batch:688/71913\n",
      "loss:0.001486 batch:688/71913\n"
     ]
    },
    {
     "name": "stderr",
     "output_type": "stream",
     "text": [
      "\r",
      "  1%|          | 691/71913 [03:27<5:40:44,  3.48it/s]"
     ]
    },
    {
     "name": "stdout",
     "output_type": "stream",
     "text": [
      "loss:0.001401 batch:690/71913\n",
      "loss:0.001401 batch:690/71913\n"
     ]
    },
    {
     "name": "stderr",
     "output_type": "stream",
     "text": [
      "\r",
      "  1%|          | 693/71913 [03:28<5:53:32,  3.36it/s]"
     ]
    },
    {
     "name": "stdout",
     "output_type": "stream",
     "text": [
      "loss:0.000802 batch:692/71913\n",
      "loss:0.000722 batch:692/71913\n"
     ]
    },
    {
     "name": "stderr",
     "output_type": "stream",
     "text": [
      "\r",
      "  1%|          | 695/71913 [03:29<5:49:55,  3.39it/s]"
     ]
    },
    {
     "name": "stdout",
     "output_type": "stream",
     "text": [
      "loss:0.000733 batch:694/71913\n",
      "loss:0.000733 batch:694/71913\n"
     ]
    },
    {
     "name": "stderr",
     "output_type": "stream",
     "text": [
      "\r",
      "  1%|          | 697/71913 [03:29<5:49:55,  3.39it/s]"
     ]
    },
    {
     "name": "stdout",
     "output_type": "stream",
     "text": [
      "loss:0.000797 batch:696/71913\n",
      "loss:0.000738 batch:696/71913\n"
     ]
    },
    {
     "name": "stderr",
     "output_type": "stream",
     "text": [
      "\r",
      "  1%|          | 699/71913 [03:30<5:48:48,  3.40it/s]"
     ]
    },
    {
     "name": "stdout",
     "output_type": "stream",
     "text": [
      "loss:0.000719 batch:698/71913\n",
      "loss:0.000719 batch:698/71913\n"
     ]
    },
    {
     "name": "stderr",
     "output_type": "stream",
     "text": [
      "\r",
      "  1%|          | 701/71913 [03:30<5:54:46,  3.35it/s]"
     ]
    },
    {
     "name": "stdout",
     "output_type": "stream",
     "text": [
      "loss:0.000718 batch:700/71913\n",
      "loss:0.000718 batch:700/71913\n"
     ]
    },
    {
     "name": "stderr",
     "output_type": "stream",
     "text": [
      "\r",
      "  1%|          | 703/71913 [03:31<6:02:08,  3.28it/s]"
     ]
    },
    {
     "name": "stdout",
     "output_type": "stream",
     "text": [
      "loss:0.000722 batch:702/71913\n",
      "loss:0.000735 batch:702/71913\n"
     ]
    },
    {
     "name": "stderr",
     "output_type": "stream",
     "text": [
      "\r",
      "  1%|          | 705/71913 [03:32<6:04:15,  3.26it/s]"
     ]
    },
    {
     "name": "stdout",
     "output_type": "stream",
     "text": [
      "loss:0.000718 batch:704/71913\n",
      "loss:0.000704 batch:704/71913\n"
     ]
    },
    {
     "name": "stderr",
     "output_type": "stream",
     "text": [
      "\r",
      "  1%|          | 707/71913 [03:32<6:01:51,  3.28it/s]"
     ]
    },
    {
     "name": "stdout",
     "output_type": "stream",
     "text": [
      "loss:0.000737 batch:706/71913\n",
      "loss:0.000685 batch:706/71913\n"
     ]
    },
    {
     "name": "stderr",
     "output_type": "stream",
     "text": [
      "\r",
      "  1%|          | 709/71913 [03:33<6:01:56,  3.28it/s]"
     ]
    },
    {
     "name": "stdout",
     "output_type": "stream",
     "text": [
      "loss:0.001231 batch:708/71913\n",
      "loss:0.001231 batch:708/71913\n"
     ]
    },
    {
     "name": "stderr",
     "output_type": "stream",
     "text": [
      "\r",
      "  1%|          | 711/71913 [03:33<5:57:55,  3.32it/s]"
     ]
    },
    {
     "name": "stdout",
     "output_type": "stream",
     "text": [
      "loss:0.001321 batch:710/71913\n",
      "loss:0.001424 batch:710/71913\n"
     ]
    },
    {
     "name": "stderr",
     "output_type": "stream",
     "text": [
      "\r",
      "  1%|          | 713/71913 [03:34<5:55:25,  3.34it/s]"
     ]
    },
    {
     "name": "stdout",
     "output_type": "stream",
     "text": [
      "loss:0.000034 batch:712/71913\n",
      "loss:0.000040 batch:712/71913\n"
     ]
    },
    {
     "name": "stderr",
     "output_type": "stream",
     "text": [
      "\r",
      "  1%|          | 715/71913 [03:35<5:50:56,  3.38it/s]"
     ]
    },
    {
     "name": "stdout",
     "output_type": "stream",
     "text": [
      "loss:0.000681 batch:714/71913\n",
      "loss:0.000678 batch:714/71913\n"
     ]
    },
    {
     "name": "stderr",
     "output_type": "stream",
     "text": [
      "\r",
      "  1%|          | 717/71913 [03:35<5:50:21,  3.39it/s]"
     ]
    },
    {
     "name": "stdout",
     "output_type": "stream",
     "text": [
      "loss:0.001317 batch:716/71913\n",
      "loss:0.001310 batch:716/71913\n"
     ]
    },
    {
     "name": "stderr",
     "output_type": "stream",
     "text": [
      "\r",
      "  1%|          | 719/71913 [03:36<5:49:18,  3.40it/s]"
     ]
    },
    {
     "name": "stdout",
     "output_type": "stream",
     "text": [
      "loss:0.001234 batch:718/71913\n",
      "loss:0.001233 batch:718/71913\n"
     ]
    },
    {
     "name": "stderr",
     "output_type": "stream",
     "text": [
      "\r",
      "  1%|          | 721/71913 [03:36<5:46:55,  3.42it/s]"
     ]
    },
    {
     "name": "stdout",
     "output_type": "stream",
     "text": [
      "loss:0.001390 batch:720/71913\n",
      "loss:0.001351 batch:720/71913\n"
     ]
    },
    {
     "name": "stderr",
     "output_type": "stream",
     "text": [
      "\r",
      "  1%|          | 723/71913 [03:37<5:44:54,  3.44it/s]"
     ]
    },
    {
     "name": "stdout",
     "output_type": "stream",
     "text": [
      "loss:0.001289 batch:722/71913\n",
      "loss:0.001278 batch:722/71913\n"
     ]
    },
    {
     "name": "stderr",
     "output_type": "stream",
     "text": [
      "\r",
      "  1%|          | 725/71913 [03:37<5:44:43,  3.44it/s]"
     ]
    },
    {
     "name": "stdout",
     "output_type": "stream",
     "text": [
      "loss:0.000735 batch:724/71913\n",
      "loss:0.000703 batch:724/71913\n"
     ]
    },
    {
     "name": "stderr",
     "output_type": "stream",
     "text": [
      "\r",
      "  1%|          | 727/71913 [03:38<5:44:36,  3.44it/s]"
     ]
    },
    {
     "name": "stdout",
     "output_type": "stream",
     "text": [
      "loss:0.000799 batch:726/71913\n",
      "loss:0.000799 batch:726/71913\n"
     ]
    },
    {
     "name": "stderr",
     "output_type": "stream",
     "text": [
      "\r",
      "  1%|          | 729/71913 [03:39<5:41:02,  3.48it/s]"
     ]
    },
    {
     "name": "stdout",
     "output_type": "stream",
     "text": [
      "loss:0.000717 batch:728/71913\n",
      "loss:0.000717 batch:728/71913\n"
     ]
    },
    {
     "name": "stderr",
     "output_type": "stream",
     "text": [
      "\r",
      "  1%|          | 731/71913 [03:39<5:40:33,  3.48it/s]"
     ]
    },
    {
     "name": "stdout",
     "output_type": "stream",
     "text": [
      "loss:0.000748 batch:730/71913\n",
      "loss:0.000748 batch:730/71913\n"
     ]
    },
    {
     "name": "stderr",
     "output_type": "stream",
     "text": [
      "\r",
      "  1%|          | 733/71913 [03:40<5:39:32,  3.49it/s]"
     ]
    },
    {
     "name": "stdout",
     "output_type": "stream",
     "text": [
      "loss:0.000770 batch:732/71913\n",
      "loss:0.000770 batch:732/71913\n"
     ]
    },
    {
     "name": "stderr",
     "output_type": "stream",
     "text": [
      "\r",
      "  1%|          | 735/71913 [03:40<5:39:53,  3.49it/s]"
     ]
    },
    {
     "name": "stdout",
     "output_type": "stream",
     "text": [
      "loss:0.000683 batch:734/71913\n",
      "loss:0.000666 batch:734/71913\n"
     ]
    },
    {
     "name": "stderr",
     "output_type": "stream",
     "text": [
      "\r",
      "  1%|          | 737/71913 [03:41<5:43:51,  3.45it/s]"
     ]
    },
    {
     "name": "stdout",
     "output_type": "stream",
     "text": [
      "loss:0.000791 batch:736/71913\n",
      "loss:0.000791 batch:736/71913\n"
     ]
    },
    {
     "name": "stderr",
     "output_type": "stream",
     "text": [
      "\r",
      "  1%|          | 739/71913 [03:42<5:42:44,  3.46it/s]"
     ]
    },
    {
     "name": "stdout",
     "output_type": "stream",
     "text": [
      "loss:0.000723 batch:738/71913\n",
      "loss:0.000724 batch:738/71913\n"
     ]
    },
    {
     "name": "stderr",
     "output_type": "stream",
     "text": [
      "\r",
      "  1%|          | 741/71913 [03:42<5:42:07,  3.47it/s]"
     ]
    },
    {
     "name": "stdout",
     "output_type": "stream",
     "text": [
      "loss:0.000750 batch:740/71913\n",
      "loss:0.000750 batch:740/71913\n"
     ]
    },
    {
     "name": "stderr",
     "output_type": "stream",
     "text": [
      "\r",
      "  1%|          | 743/71913 [03:43<5:39:01,  3.50it/s]"
     ]
    },
    {
     "name": "stdout",
     "output_type": "stream",
     "text": [
      "loss:0.000771 batch:742/71913\n",
      "loss:0.000763 batch:742/71913\n"
     ]
    },
    {
     "name": "stderr",
     "output_type": "stream",
     "text": [
      "\r",
      "  1%|          | 745/71913 [03:43<5:42:53,  3.46it/s]"
     ]
    },
    {
     "name": "stdout",
     "output_type": "stream",
     "text": [
      "loss:0.000662 batch:744/71913\n",
      "loss:0.000679 batch:744/71913\n"
     ]
    },
    {
     "name": "stderr",
     "output_type": "stream",
     "text": [
      "\r",
      "  1%|          | 747/71913 [03:44<5:46:31,  3.42it/s]"
     ]
    },
    {
     "name": "stdout",
     "output_type": "stream",
     "text": [
      "loss:0.000696 batch:746/71913\n",
      "loss:0.000696 batch:746/71913\n"
     ]
    },
    {
     "name": "stderr",
     "output_type": "stream",
     "text": [
      "\r",
      "  1%|          | 749/71913 [03:44<5:42:59,  3.46it/s]"
     ]
    },
    {
     "name": "stdout",
     "output_type": "stream",
     "text": [
      "loss:0.000766 batch:748/71913\n",
      "loss:0.000725 batch:748/71913\n"
     ]
    },
    {
     "name": "stderr",
     "output_type": "stream",
     "text": [
      "\r",
      "  1%|          | 751/71913 [03:45<5:42:27,  3.46it/s]"
     ]
    },
    {
     "name": "stdout",
     "output_type": "stream",
     "text": [
      "loss:0.000671 batch:750/71913\n",
      "loss:0.000671 batch:750/71913\n"
     ]
    },
    {
     "name": "stderr",
     "output_type": "stream",
     "text": [
      "\r",
      "  1%|          | 753/71913 [03:46<5:40:18,  3.49it/s]"
     ]
    },
    {
     "name": "stdout",
     "output_type": "stream",
     "text": [
      "loss:0.000781 batch:752/71913\n",
      "loss:0.000781 batch:752/71913\n"
     ]
    },
    {
     "name": "stderr",
     "output_type": "stream",
     "text": [
      "\r",
      "  1%|          | 755/71913 [03:46<5:40:13,  3.49it/s]"
     ]
    },
    {
     "name": "stdout",
     "output_type": "stream",
     "text": [
      "loss:0.000792 batch:754/71913\n",
      "loss:0.000771 batch:754/71913\n"
     ]
    },
    {
     "name": "stderr",
     "output_type": "stream",
     "text": [
      "\r",
      "  1%|          | 757/71913 [03:47<5:37:19,  3.52it/s]"
     ]
    },
    {
     "name": "stdout",
     "output_type": "stream",
     "text": [
      "loss:0.000792 batch:756/71913\n",
      "loss:0.000803 batch:756/71913\n"
     ]
    },
    {
     "name": "stderr",
     "output_type": "stream",
     "text": [
      "\r",
      "  1%|          | 759/71913 [03:47<5:38:08,  3.51it/s]"
     ]
    },
    {
     "name": "stdout",
     "output_type": "stream",
     "text": [
      "loss:0.000734 batch:758/71913\n",
      "loss:0.000704 batch:758/71913\n"
     ]
    },
    {
     "name": "stderr",
     "output_type": "stream",
     "text": [
      "\r",
      "  1%|          | 761/71913 [03:48<5:37:05,  3.52it/s]"
     ]
    },
    {
     "name": "stdout",
     "output_type": "stream",
     "text": [
      "loss:0.000705 batch:760/71913\n",
      "loss:0.000705 batch:760/71913\n"
     ]
    },
    {
     "name": "stderr",
     "output_type": "stream",
     "text": [
      "\r",
      "  1%|          | 763/71913 [03:48<5:35:50,  3.53it/s]"
     ]
    },
    {
     "name": "stdout",
     "output_type": "stream",
     "text": [
      "loss:0.000727 batch:762/71913\n",
      "loss:0.000721 batch:762/71913\n"
     ]
    },
    {
     "name": "stderr",
     "output_type": "stream",
     "text": [
      "\r",
      "  1%|          | 765/71913 [03:49<5:36:22,  3.53it/s]"
     ]
    },
    {
     "name": "stdout",
     "output_type": "stream",
     "text": [
      "loss:0.000744 batch:764/71913\n",
      "loss:0.000744 batch:764/71913\n"
     ]
    },
    {
     "name": "stderr",
     "output_type": "stream",
     "text": [
      "\r",
      "  1%|          | 767/71913 [03:50<5:34:39,  3.54it/s]"
     ]
    },
    {
     "name": "stdout",
     "output_type": "stream",
     "text": [
      "loss:0.000757 batch:766/71913\n",
      "loss:0.000757 batch:766/71913\n"
     ]
    },
    {
     "name": "stderr",
     "output_type": "stream",
     "text": [
      "\r",
      "  1%|          | 769/71913 [03:50<5:36:04,  3.53it/s]"
     ]
    },
    {
     "name": "stdout",
     "output_type": "stream",
     "text": [
      "loss:0.000673 batch:768/71913\n",
      "loss:0.000766 batch:768/71913\n"
     ]
    },
    {
     "name": "stderr",
     "output_type": "stream",
     "text": [
      "\r",
      "  1%|          | 771/71913 [03:51<5:34:08,  3.55it/s]"
     ]
    },
    {
     "name": "stdout",
     "output_type": "stream",
     "text": [
      "loss:0.000774 batch:770/71913\n",
      "loss:0.000774 batch:770/71913\n"
     ]
    },
    {
     "name": "stderr",
     "output_type": "stream",
     "text": [
      "\r",
      "  1%|          | 773/71913 [03:51<5:37:18,  3.52it/s]"
     ]
    },
    {
     "name": "stdout",
     "output_type": "stream",
     "text": [
      "loss:0.000735 batch:772/71913\n",
      "loss:0.000737 batch:772/71913\n"
     ]
    },
    {
     "name": "stderr",
     "output_type": "stream",
     "text": [
      "\r",
      "  1%|          | 775/71913 [03:52<5:36:29,  3.52it/s]"
     ]
    },
    {
     "name": "stdout",
     "output_type": "stream",
     "text": [
      "loss:0.000672 batch:774/71913\n",
      "loss:0.000657 batch:774/71913\n"
     ]
    },
    {
     "name": "stderr",
     "output_type": "stream",
     "text": [
      "\r",
      "  1%|          | 777/71913 [03:52<5:35:45,  3.53it/s]"
     ]
    },
    {
     "name": "stdout",
     "output_type": "stream",
     "text": [
      "loss:0.000695 batch:776/71913\n",
      "loss:0.000698 batch:776/71913\n"
     ]
    },
    {
     "name": "stderr",
     "output_type": "stream",
     "text": [
      "\r",
      "  1%|          | 779/71913 [03:53<5:36:49,  3.52it/s]"
     ]
    },
    {
     "name": "stdout",
     "output_type": "stream",
     "text": [
      "loss:0.000706 batch:778/71913\n",
      "loss:0.000706 batch:778/71913\n"
     ]
    },
    {
     "name": "stderr",
     "output_type": "stream",
     "text": [
      "\r",
      "  1%|          | 781/71913 [03:53<5:35:37,  3.53it/s]"
     ]
    },
    {
     "name": "stdout",
     "output_type": "stream",
     "text": [
      "loss:0.000717 batch:780/71913\n",
      "loss:0.000717 batch:780/71913\n"
     ]
    },
    {
     "name": "stderr",
     "output_type": "stream",
     "text": [
      "\r",
      "  1%|          | 783/71913 [03:54<5:36:54,  3.52it/s]"
     ]
    },
    {
     "name": "stdout",
     "output_type": "stream",
     "text": [
      "loss:0.000725 batch:782/71913\n",
      "loss:0.000725 batch:782/71913\n"
     ]
    },
    {
     "name": "stderr",
     "output_type": "stream",
     "text": [
      "\r",
      "  1%|          | 785/71913 [03:55<5:35:51,  3.53it/s]"
     ]
    },
    {
     "name": "stdout",
     "output_type": "stream",
     "text": [
      "loss:0.000727 batch:784/71913\n",
      "loss:0.000727 batch:784/71913\n"
     ]
    },
    {
     "name": "stderr",
     "output_type": "stream",
     "text": [
      "\r",
      "  1%|          | 787/71913 [03:55<5:37:03,  3.52it/s]"
     ]
    },
    {
     "name": "stdout",
     "output_type": "stream",
     "text": [
      "loss:0.000727 batch:786/71913\n",
      "loss:0.000730 batch:786/71913\n"
     ]
    },
    {
     "name": "stderr",
     "output_type": "stream",
     "text": [
      "\r",
      "  1%|          | 789/71913 [03:56<5:35:19,  3.54it/s]"
     ]
    },
    {
     "name": "stdout",
     "output_type": "stream",
     "text": [
      "loss:0.000735 batch:788/71913\n",
      "loss:0.000732 batch:788/71913\n"
     ]
    },
    {
     "name": "stderr",
     "output_type": "stream",
     "text": [
      "\r",
      "  1%|          | 791/71913 [03:56<5:36:19,  3.52it/s]"
     ]
    },
    {
     "name": "stdout",
     "output_type": "stream",
     "text": [
      "loss:0.000723 batch:790/71913\n",
      "loss:0.000723 batch:790/71913\n"
     ]
    },
    {
     "name": "stderr",
     "output_type": "stream",
     "text": [
      "\r",
      "  1%|          | 793/71913 [03:57<5:36:23,  3.52it/s]"
     ]
    },
    {
     "name": "stdout",
     "output_type": "stream",
     "text": [
      "loss:0.000197 batch:792/71913\n",
      "loss:0.000197 batch:792/71913\n"
     ]
    },
    {
     "name": "stderr",
     "output_type": "stream",
     "text": [
      "\r",
      "  1%|          | 795/71913 [03:57<5:34:13,  3.55it/s]"
     ]
    },
    {
     "name": "stdout",
     "output_type": "stream",
     "text": [
      "loss:0.000203 batch:794/71913\n",
      "loss:0.000203 batch:794/71913\n"
     ]
    },
    {
     "name": "stderr",
     "output_type": "stream",
     "text": [
      "\r",
      "  1%|          | 797/71913 [03:58<5:36:04,  3.53it/s]"
     ]
    },
    {
     "name": "stdout",
     "output_type": "stream",
     "text": [
      "loss:0.000213 batch:796/71913\n",
      "loss:0.000511 batch:796/71913\n"
     ]
    },
    {
     "name": "stderr",
     "output_type": "stream",
     "text": [
      "\r",
      "  1%|          | 799/71913 [03:59<5:33:50,  3.55it/s]"
     ]
    },
    {
     "name": "stdout",
     "output_type": "stream",
     "text": [
      "loss:0.000234 batch:798/71913\n",
      "loss:0.000241 batch:798/71913\n"
     ]
    },
    {
     "name": "stderr",
     "output_type": "stream",
     "text": [
      "\r",
      "  1%|          | 801/71913 [03:59<5:38:27,  3.50it/s]"
     ]
    },
    {
     "name": "stdout",
     "output_type": "stream",
     "text": [
      "loss:0.000117 batch:800/71913\n",
      "loss:0.000159 batch:800/71913\n"
     ]
    },
    {
     "name": "stderr",
     "output_type": "stream",
     "text": [
      "\r",
      "  1%|          | 803/71913 [04:00<5:45:36,  3.43it/s]"
     ]
    },
    {
     "name": "stdout",
     "output_type": "stream",
     "text": [
      "loss:0.000579 batch:802/71913\n",
      "loss:0.000579 batch:802/71913\n"
     ]
    },
    {
     "name": "stderr",
     "output_type": "stream",
     "text": [
      "\r",
      "  1%|          | 805/71913 [04:00<5:43:30,  3.45it/s]"
     ]
    },
    {
     "name": "stdout",
     "output_type": "stream",
     "text": [
      "loss:0.000574 batch:804/71913\n",
      "loss:0.000457 batch:804/71913\n"
     ]
    },
    {
     "name": "stderr",
     "output_type": "stream",
     "text": [
      "\r",
      "  1%|          | 807/71913 [04:01<5:43:27,  3.45it/s]"
     ]
    },
    {
     "name": "stdout",
     "output_type": "stream",
     "text": [
      "loss:0.000158 batch:806/71913\n",
      "loss:0.000320 batch:806/71913\n"
     ]
    },
    {
     "name": "stderr",
     "output_type": "stream",
     "text": [
      "\r",
      "  1%|          | 809/71913 [04:01<5:38:58,  3.50it/s]"
     ]
    },
    {
     "name": "stdout",
     "output_type": "stream",
     "text": [
      "loss:0.000676 batch:808/71913\n",
      "loss:0.000307 batch:808/71913\n"
     ]
    },
    {
     "name": "stderr",
     "output_type": "stream",
     "text": [
      "\r",
      "  1%|          | 811/71913 [04:02<5:41:20,  3.47it/s]"
     ]
    },
    {
     "name": "stdout",
     "output_type": "stream",
     "text": [
      "loss:0.000463 batch:810/71913\n",
      "loss:0.000590 batch:810/71913\n"
     ]
    },
    {
     "name": "stderr",
     "output_type": "stream",
     "text": [
      "\r",
      "  1%|          | 813/71913 [04:03<5:38:33,  3.50it/s]"
     ]
    },
    {
     "name": "stdout",
     "output_type": "stream",
     "text": [
      "loss:0.000520 batch:812/71913\n",
      "loss:0.000359 batch:812/71913\n"
     ]
    },
    {
     "name": "stderr",
     "output_type": "stream",
     "text": [
      "\r",
      "  1%|          | 815/71913 [04:03<5:41:56,  3.47it/s]"
     ]
    },
    {
     "name": "stdout",
     "output_type": "stream",
     "text": [
      "loss:0.000464 batch:814/71913\n",
      "loss:0.000383 batch:814/71913\n"
     ]
    },
    {
     "name": "stderr",
     "output_type": "stream",
     "text": [
      "\r",
      "  1%|          | 817/71913 [04:04<5:39:19,  3.49it/s]"
     ]
    },
    {
     "name": "stdout",
     "output_type": "stream",
     "text": [
      "loss:0.000504 batch:816/71913\n",
      "loss:0.000629 batch:816/71913\n"
     ]
    },
    {
     "name": "stderr",
     "output_type": "stream",
     "text": [
      "\r",
      "  1%|          | 819/71913 [04:04<5:37:51,  3.51it/s]"
     ]
    },
    {
     "name": "stdout",
     "output_type": "stream",
     "text": [
      "loss:0.000624 batch:818/71913\n",
      "loss:0.000537 batch:818/71913\n"
     ]
    },
    {
     "name": "stderr",
     "output_type": "stream",
     "text": [
      "\r",
      "  1%|          | 821/71913 [04:05<5:37:42,  3.51it/s]"
     ]
    },
    {
     "name": "stdout",
     "output_type": "stream",
     "text": [
      "loss:0.000598 batch:820/71913\n",
      "loss:0.000617 batch:820/71913\n"
     ]
    },
    {
     "name": "stderr",
     "output_type": "stream",
     "text": [
      "\r",
      "  1%|          | 823/71913 [04:05<5:35:17,  3.53it/s]"
     ]
    },
    {
     "name": "stdout",
     "output_type": "stream",
     "text": [
      "loss:0.000612 batch:822/71913\n",
      "loss:0.000505 batch:822/71913\n"
     ]
    },
    {
     "name": "stderr",
     "output_type": "stream",
     "text": [
      "\r",
      "  1%|          | 825/71913 [04:06<5:36:58,  3.52it/s]"
     ]
    },
    {
     "name": "stdout",
     "output_type": "stream",
     "text": [
      "loss:0.000414 batch:824/71913\n",
      "loss:0.000424 batch:824/71913\n"
     ]
    },
    {
     "name": "stderr",
     "output_type": "stream",
     "text": [
      "\r",
      "  1%|          | 827/71913 [04:07<5:34:40,  3.54it/s]"
     ]
    },
    {
     "name": "stdout",
     "output_type": "stream",
     "text": [
      "loss:0.000592 batch:826/71913\n",
      "loss:0.000317 batch:826/71913\n"
     ]
    },
    {
     "name": "stderr",
     "output_type": "stream",
     "text": [
      "\r",
      "  1%|          | 829/71913 [04:07<5:36:53,  3.52it/s]"
     ]
    },
    {
     "name": "stdout",
     "output_type": "stream",
     "text": [
      "loss:0.000626 batch:828/71913\n",
      "loss:0.000347 batch:828/71913\n"
     ]
    },
    {
     "name": "stderr",
     "output_type": "stream",
     "text": [
      "\r",
      "  1%|          | 831/71913 [04:08<5:36:39,  3.52it/s]"
     ]
    },
    {
     "name": "stdout",
     "output_type": "stream",
     "text": [
      "loss:0.000494 batch:830/71913\n",
      "loss:0.000651 batch:830/71913\n"
     ]
    },
    {
     "name": "stderr",
     "output_type": "stream",
     "text": [
      "\r",
      "  1%|          | 833/71913 [04:08<5:35:54,  3.53it/s]"
     ]
    },
    {
     "name": "stdout",
     "output_type": "stream",
     "text": [
      "loss:0.000781 batch:832/71913\n",
      "loss:0.000524 batch:832/71913\n"
     ]
    },
    {
     "name": "stderr",
     "output_type": "stream",
     "text": [
      "\r",
      "  1%|          | 835/71913 [04:09<5:38:58,  3.49it/s]"
     ]
    },
    {
     "name": "stdout",
     "output_type": "stream",
     "text": [
      "loss:0.000545 batch:834/71913\n",
      "loss:0.000956 batch:834/71913\n"
     ]
    },
    {
     "name": "stderr",
     "output_type": "stream",
     "text": [
      "\r",
      "  1%|          | 837/71913 [04:09<5:35:59,  3.53it/s]"
     ]
    },
    {
     "name": "stdout",
     "output_type": "stream",
     "text": [
      "loss:0.000567 batch:836/71913\n",
      "loss:0.000585 batch:836/71913\n"
     ]
    },
    {
     "name": "stderr",
     "output_type": "stream",
     "text": [
      "\r",
      "  1%|          | 839/71913 [04:10<5:37:57,  3.50it/s]"
     ]
    },
    {
     "name": "stdout",
     "output_type": "stream",
     "text": [
      "loss:0.000597 batch:838/71913\n",
      "loss:0.000597 batch:838/71913\n"
     ]
    },
    {
     "name": "stderr",
     "output_type": "stream",
     "text": [
      "\r",
      "  1%|          | 841/71913 [04:11<5:35:05,  3.53it/s]"
     ]
    },
    {
     "name": "stdout",
     "output_type": "stream",
     "text": [
      "loss:0.000619 batch:840/71913\n",
      "loss:0.000619 batch:840/71913\n"
     ]
    },
    {
     "name": "stderr",
     "output_type": "stream",
     "text": [
      "\r",
      "  1%|          | 843/71913 [04:11<5:36:48,  3.52it/s]"
     ]
    },
    {
     "name": "stdout",
     "output_type": "stream",
     "text": [
      "loss:0.000641 batch:842/71913\n",
      "loss:0.000588 batch:842/71913\n"
     ]
    },
    {
     "name": "stderr",
     "output_type": "stream",
     "text": [
      "\r",
      "  1%|          | 845/71913 [04:12<5:34:48,  3.54it/s]"
     ]
    },
    {
     "name": "stdout",
     "output_type": "stream",
     "text": [
      "loss:0.000663 batch:844/71913\n",
      "loss:0.000512 batch:844/71913\n"
     ]
    },
    {
     "name": "stderr",
     "output_type": "stream",
     "text": [
      "\r",
      "  1%|          | 847/71913 [04:12<5:35:11,  3.53it/s]"
     ]
    },
    {
     "name": "stdout",
     "output_type": "stream",
     "text": [
      "loss:0.000683 batch:846/71913\n",
      "loss:0.000683 batch:846/71913\n"
     ]
    },
    {
     "name": "stderr",
     "output_type": "stream",
     "text": [
      "\r",
      "  1%|          | 849/71913 [04:13<5:35:25,  3.53it/s]"
     ]
    },
    {
     "name": "stdout",
     "output_type": "stream",
     "text": [
      "loss:0.000697 batch:848/71913\n",
      "loss:0.000631 batch:848/71913\n"
     ]
    },
    {
     "name": "stderr",
     "output_type": "stream",
     "text": [
      "\r",
      "  1%|          | 851/71913 [04:13<5:35:36,  3.53it/s]"
     ]
    },
    {
     "name": "stdout",
     "output_type": "stream",
     "text": [
      "loss:0.000718 batch:850/71913\n",
      "loss:0.000718 batch:850/71913\n"
     ]
    },
    {
     "name": "stderr",
     "output_type": "stream",
     "text": [
      "\r",
      "  1%|          | 853/71913 [04:14<5:36:37,  3.52it/s]"
     ]
    },
    {
     "name": "stdout",
     "output_type": "stream",
     "text": [
      "loss:0.000731 batch:852/71913\n",
      "loss:0.000731 batch:852/71913\n"
     ]
    },
    {
     "name": "stderr",
     "output_type": "stream",
     "text": [
      "\r",
      "  1%|          | 855/71913 [04:15<5:34:29,  3.54it/s]"
     ]
    },
    {
     "name": "stdout",
     "output_type": "stream",
     "text": [
      "loss:0.000750 batch:854/71913\n",
      "loss:0.000750 batch:854/71913\n"
     ]
    },
    {
     "name": "stderr",
     "output_type": "stream",
     "text": [
      "\r",
      "  1%|          | 857/71913 [04:15<5:39:22,  3.49it/s]"
     ]
    },
    {
     "name": "stdout",
     "output_type": "stream",
     "text": [
      "loss:0.000633 batch:856/71913\n",
      "loss:0.000633 batch:856/71913\n"
     ]
    },
    {
     "name": "stderr",
     "output_type": "stream",
     "text": [
      "\r",
      "  1%|          | 859/71913 [04:16<5:44:12,  3.44it/s]"
     ]
    },
    {
     "name": "stdout",
     "output_type": "stream",
     "text": [
      "loss:0.000559 batch:858/71913\n",
      "loss:0.000624 batch:858/71913\n"
     ]
    },
    {
     "name": "stderr",
     "output_type": "stream",
     "text": [
      "\r",
      "  1%|          | 861/71913 [04:16<5:44:13,  3.44it/s]"
     ]
    },
    {
     "name": "stdout",
     "output_type": "stream",
     "text": [
      "loss:0.000600 batch:860/71913\n",
      "loss:0.000613 batch:860/71913\n"
     ]
    },
    {
     "name": "stderr",
     "output_type": "stream",
     "text": [
      "\r",
      "  1%|          | 863/71913 [04:17<5:42:16,  3.46it/s]"
     ]
    },
    {
     "name": "stdout",
     "output_type": "stream",
     "text": [
      "loss:0.000607 batch:862/71913\n",
      "loss:0.000619 batch:862/71913\n"
     ]
    },
    {
     "name": "stderr",
     "output_type": "stream",
     "text": [
      "\r",
      "  1%|          | 865/71913 [04:17<5:38:05,  3.50it/s]"
     ]
    },
    {
     "name": "stdout",
     "output_type": "stream",
     "text": [
      "loss:0.000599 batch:864/71913\n",
      "loss:0.000603 batch:864/71913\n"
     ]
    },
    {
     "name": "stderr",
     "output_type": "stream",
     "text": [
      "\r",
      "  1%|          | 867/71913 [04:18<5:39:02,  3.49it/s]"
     ]
    },
    {
     "name": "stdout",
     "output_type": "stream",
     "text": [
      "loss:0.000602 batch:866/71913\n",
      "loss:0.000602 batch:866/71913\n"
     ]
    },
    {
     "name": "stderr",
     "output_type": "stream",
     "text": [
      "\r",
      "  1%|          | 869/71913 [04:19<5:35:48,  3.53it/s]"
     ]
    },
    {
     "name": "stdout",
     "output_type": "stream",
     "text": [
      "loss:0.000591 batch:868/71913\n",
      "loss:0.000591 batch:868/71913\n"
     ]
    },
    {
     "name": "stderr",
     "output_type": "stream",
     "text": [
      "\r",
      "  1%|          | 871/71913 [04:19<5:37:58,  3.50it/s]"
     ]
    },
    {
     "name": "stdout",
     "output_type": "stream",
     "text": [
      "loss:0.000517 batch:870/71913\n",
      "loss:0.000587 batch:870/71913\n"
     ]
    },
    {
     "name": "stderr",
     "output_type": "stream",
     "text": [
      "\r",
      "  1%|          | 873/71913 [04:20<5:35:36,  3.53it/s]"
     ]
    },
    {
     "name": "stdout",
     "output_type": "stream",
     "text": [
      "loss:0.000588 batch:872/71913\n",
      "loss:0.000588 batch:872/71913\n"
     ]
    },
    {
     "name": "stderr",
     "output_type": "stream",
     "text": [
      "\r",
      "  1%|          | 875/71913 [04:20<5:35:53,  3.52it/s]"
     ]
    },
    {
     "name": "stdout",
     "output_type": "stream",
     "text": [
      "loss:0.000691 batch:874/71913\n",
      "loss:0.000586 batch:874/71913\n"
     ]
    },
    {
     "name": "stderr",
     "output_type": "stream",
     "text": [
      "\r",
      "  1%|          | 877/71913 [04:21<5:36:08,  3.52it/s]"
     ]
    },
    {
     "name": "stdout",
     "output_type": "stream",
     "text": [
      "loss:0.000927 batch:876/71913\n",
      "loss:0.001001 batch:876/71913\n"
     ]
    },
    {
     "name": "stderr",
     "output_type": "stream",
     "text": [
      "\r",
      "  1%|          | 879/71913 [04:21<5:34:28,  3.54it/s]"
     ]
    },
    {
     "name": "stdout",
     "output_type": "stream",
     "text": [
      "loss:0.000968 batch:878/71913\n",
      "loss:0.000968 batch:878/71913\n"
     ]
    },
    {
     "name": "stderr",
     "output_type": "stream",
     "text": [
      "\r",
      "  1%|          | 881/71913 [04:22<5:36:29,  3.52it/s]"
     ]
    },
    {
     "name": "stdout",
     "output_type": "stream",
     "text": [
      "loss:0.000986 batch:880/71913\n",
      "loss:0.000981 batch:880/71913\n"
     ]
    },
    {
     "name": "stderr",
     "output_type": "stream",
     "text": [
      "\r",
      "  1%|          | 883/71913 [04:23<5:34:15,  3.54it/s]"
     ]
    },
    {
     "name": "stdout",
     "output_type": "stream",
     "text": [
      "loss:0.001006 batch:882/71913\n",
      "loss:0.001006 batch:882/71913\n"
     ]
    },
    {
     "name": "stderr",
     "output_type": "stream",
     "text": [
      "\r",
      "  1%|          | 885/71913 [04:23<5:36:30,  3.52it/s]"
     ]
    },
    {
     "name": "stdout",
     "output_type": "stream",
     "text": [
      "loss:0.001050 batch:884/71913\n",
      "loss:0.001026 batch:884/71913\n"
     ]
    },
    {
     "name": "stderr",
     "output_type": "stream",
     "text": [
      "\r",
      "  1%|          | 887/71913 [04:24<5:34:40,  3.54it/s]"
     ]
    },
    {
     "name": "stdout",
     "output_type": "stream",
     "text": [
      "loss:0.001063 batch:886/71913\n",
      "loss:0.001048 batch:886/71913\n"
     ]
    },
    {
     "name": "stderr",
     "output_type": "stream",
     "text": [
      "\r",
      "  1%|          | 889/71913 [04:24<5:38:02,  3.50it/s]"
     ]
    },
    {
     "name": "stdout",
     "output_type": "stream",
     "text": [
      "loss:0.001010 batch:888/71913\n",
      "loss:0.000956 batch:888/71913\n"
     ]
    },
    {
     "name": "stderr",
     "output_type": "stream",
     "text": [
      "\r",
      "  1%|          | 891/71913 [04:25<5:41:00,  3.47it/s]"
     ]
    },
    {
     "name": "stdout",
     "output_type": "stream",
     "text": [
      "loss:0.000671 batch:890/71913\n",
      "loss:0.000671 batch:890/71913\n"
     ]
    },
    {
     "name": "stderr",
     "output_type": "stream",
     "text": [
      "\r",
      "  1%|          | 893/71913 [04:25<5:39:59,  3.48it/s]"
     ]
    },
    {
     "name": "stdout",
     "output_type": "stream",
     "text": [
      "loss:0.000554 batch:892/71913\n",
      "loss:0.000654 batch:892/71913\n"
     ]
    },
    {
     "name": "stderr",
     "output_type": "stream",
     "text": [
      "\r",
      "  1%|          | 895/71913 [04:26<5:40:29,  3.48it/s]"
     ]
    },
    {
     "name": "stdout",
     "output_type": "stream",
     "text": [
      "loss:0.000656 batch:894/71913\n",
      "loss:0.000656 batch:894/71913\n"
     ]
    },
    {
     "name": "stderr",
     "output_type": "stream",
     "text": [
      "\r",
      "  1%|          | 897/71913 [04:27<5:50:04,  3.38it/s]"
     ]
    },
    {
     "name": "stdout",
     "output_type": "stream",
     "text": [
      "loss:0.000609 batch:896/71913\n",
      "loss:0.000424 batch:896/71913\n"
     ]
    },
    {
     "name": "stderr",
     "output_type": "stream",
     "text": [
      "\r",
      "  1%|▏         | 899/71913 [04:27<6:01:32,  3.27it/s]"
     ]
    },
    {
     "name": "stdout",
     "output_type": "stream",
     "text": [
      "loss:0.000652 batch:898/71913\n",
      "loss:0.000763 batch:898/71913\n"
     ]
    },
    {
     "name": "stderr",
     "output_type": "stream",
     "text": [
      "\r",
      "  1%|▏         | 901/71913 [04:28<6:03:01,  3.26it/s]"
     ]
    },
    {
     "name": "stdout",
     "output_type": "stream",
     "text": [
      "loss:0.000641 batch:900/71913\n",
      "loss:0.000641 batch:900/71913\n"
     ]
    },
    {
     "name": "stderr",
     "output_type": "stream",
     "text": [
      "\r",
      "  1%|▏         | 903/71913 [04:28<5:56:26,  3.32it/s]"
     ]
    },
    {
     "name": "stdout",
     "output_type": "stream",
     "text": [
      "loss:0.000670 batch:902/71913\n",
      "loss:0.000598 batch:902/71913\n"
     ]
    },
    {
     "name": "stderr",
     "output_type": "stream",
     "text": [
      "\r",
      "  1%|▏         | 905/71913 [04:29<5:52:01,  3.36it/s]"
     ]
    },
    {
     "name": "stdout",
     "output_type": "stream",
     "text": [
      "loss:0.000670 batch:904/71913\n",
      "loss:0.000670 batch:904/71913\n"
     ]
    },
    {
     "name": "stderr",
     "output_type": "stream",
     "text": [
      "\r",
      "  1%|▏         | 907/71913 [04:30<5:44:50,  3.43it/s]"
     ]
    },
    {
     "name": "stdout",
     "output_type": "stream",
     "text": [
      "loss:0.000073 batch:906/71913\n",
      "loss:0.000073 batch:906/71913\n"
     ]
    },
    {
     "name": "stderr",
     "output_type": "stream",
     "text": [
      "\r",
      "  1%|▏         | 909/71913 [04:30<5:47:14,  3.41it/s]"
     ]
    },
    {
     "name": "stdout",
     "output_type": "stream",
     "text": [
      "loss:0.000029 batch:908/71913\n",
      "loss:0.000029 batch:908/71913\n"
     ]
    },
    {
     "name": "stderr",
     "output_type": "stream",
     "text": [
      "\r",
      "  1%|▏         | 911/71913 [04:31<5:45:22,  3.43it/s]"
     ]
    },
    {
     "name": "stdout",
     "output_type": "stream",
     "text": [
      "loss:0.000096 batch:910/71913\n",
      "loss:0.000177 batch:910/71913\n"
     ]
    },
    {
     "name": "stderr",
     "output_type": "stream",
     "text": [
      "\r",
      "  1%|▏         | 913/71913 [04:31<5:52:56,  3.35it/s]"
     ]
    },
    {
     "name": "stdout",
     "output_type": "stream",
     "text": [
      "loss:0.000065 batch:912/71913\n",
      "loss:0.000065 batch:912/71913\n"
     ]
    },
    {
     "name": "stderr",
     "output_type": "stream",
     "text": [
      "\r",
      "  1%|▏         | 915/71913 [04:32<5:54:08,  3.34it/s]"
     ]
    },
    {
     "name": "stdout",
     "output_type": "stream",
     "text": [
      "loss:0.000082 batch:914/71913\n",
      "loss:0.000108 batch:914/71913\n"
     ]
    },
    {
     "name": "stderr",
     "output_type": "stream",
     "text": [
      "\r",
      "  1%|▏         | 917/71913 [04:33<5:48:15,  3.40it/s]"
     ]
    },
    {
     "name": "stdout",
     "output_type": "stream",
     "text": [
      "loss:0.000526 batch:916/71913\n",
      "loss:0.000557 batch:916/71913\n"
     ]
    },
    {
     "name": "stderr",
     "output_type": "stream",
     "text": [
      "\r",
      "  1%|▏         | 919/71913 [04:33<5:49:09,  3.39it/s]"
     ]
    },
    {
     "name": "stdout",
     "output_type": "stream",
     "text": [
      "loss:0.001131 batch:918/71913\n",
      "loss:0.001132 batch:918/71913\n"
     ]
    },
    {
     "name": "stderr",
     "output_type": "stream",
     "text": [
      "\r",
      "  1%|▏         | 921/71913 [04:34<5:44:06,  3.44it/s]"
     ]
    },
    {
     "name": "stdout",
     "output_type": "stream",
     "text": [
      "loss:0.001231 batch:920/71913\n",
      "loss:0.001231 batch:920/71913\n"
     ]
    },
    {
     "name": "stderr",
     "output_type": "stream",
     "text": [
      "\r",
      "  1%|▏         | 923/71913 [04:34<5:43:16,  3.45it/s]"
     ]
    },
    {
     "name": "stdout",
     "output_type": "stream",
     "text": [
      "loss:0.001205 batch:922/71913\n",
      "loss:0.001205 batch:922/71913\n"
     ]
    },
    {
     "name": "stderr",
     "output_type": "stream",
     "text": [
      "\r",
      "  1%|▏         | 925/71913 [04:35<5:40:47,  3.47it/s]"
     ]
    },
    {
     "name": "stdout",
     "output_type": "stream",
     "text": [
      "loss:0.001105 batch:924/71913\n",
      "loss:0.001104 batch:924/71913\n"
     ]
    },
    {
     "name": "stderr",
     "output_type": "stream",
     "text": [
      "\r",
      "  1%|▏         | 927/71913 [04:35<5:40:08,  3.48it/s]"
     ]
    },
    {
     "name": "stdout",
     "output_type": "stream",
     "text": [
      "loss:0.001269 batch:926/71913\n",
      "loss:0.001222 batch:926/71913\n"
     ]
    },
    {
     "name": "stderr",
     "output_type": "stream",
     "text": [
      "\r",
      "  1%|▏         | 929/71913 [04:36<5:39:07,  3.49it/s]"
     ]
    },
    {
     "name": "stdout",
     "output_type": "stream",
     "text": [
      "loss:0.001208 batch:928/71913\n",
      "loss:0.001136 batch:928/71913\n"
     ]
    },
    {
     "name": "stderr",
     "output_type": "stream",
     "text": [
      "\r",
      "  1%|▏         | 931/71913 [04:37<5:35:56,  3.52it/s]"
     ]
    },
    {
     "name": "stdout",
     "output_type": "stream",
     "text": [
      "loss:0.000580 batch:930/71913\n",
      "loss:0.000580 batch:930/71913\n"
     ]
    },
    {
     "name": "stderr",
     "output_type": "stream",
     "text": [
      "\r",
      "  1%|▏         | 933/71913 [04:37<5:37:37,  3.50it/s]"
     ]
    },
    {
     "name": "stdout",
     "output_type": "stream",
     "text": [
      "loss:0.000672 batch:932/71913\n",
      "loss:0.000704 batch:932/71913\n"
     ]
    },
    {
     "name": "stderr",
     "output_type": "stream",
     "text": [
      "\r",
      "  1%|▏         | 935/71913 [04:38<5:34:44,  3.53it/s]"
     ]
    },
    {
     "name": "stdout",
     "output_type": "stream",
     "text": [
      "loss:0.000612 batch:934/71913\n",
      "loss:0.000612 batch:934/71913\n"
     ]
    },
    {
     "name": "stderr",
     "output_type": "stream",
     "text": [
      "\r",
      "  1%|▏         | 937/71913 [04:38<5:35:22,  3.53it/s]"
     ]
    },
    {
     "name": "stdout",
     "output_type": "stream",
     "text": [
      "loss:0.000569 batch:936/71913\n",
      "loss:0.000573 batch:936/71913\n"
     ]
    },
    {
     "name": "stderr",
     "output_type": "stream",
     "text": [
      "\r",
      "  1%|▏         | 939/71913 [04:39<5:36:50,  3.51it/s]"
     ]
    },
    {
     "name": "stdout",
     "output_type": "stream",
     "text": [
      "loss:0.000643 batch:938/71913\n",
      "loss:0.000638 batch:938/71913\n"
     ]
    },
    {
     "name": "stderr",
     "output_type": "stream",
     "text": [
      "\r",
      "  1%|▏         | 941/71913 [04:39<5:35:35,  3.52it/s]"
     ]
    },
    {
     "name": "stdout",
     "output_type": "stream",
     "text": [
      "loss:0.000552 batch:940/71913\n",
      "loss:0.000552 batch:940/71913\n"
     ]
    },
    {
     "name": "stderr",
     "output_type": "stream",
     "text": [
      "\r",
      "  1%|▏         | 943/71913 [04:40<5:37:32,  3.50it/s]"
     ]
    },
    {
     "name": "stdout",
     "output_type": "stream",
     "text": [
      "loss:0.000643 batch:942/71913\n",
      "loss:0.000643 batch:942/71913\n"
     ]
    },
    {
     "name": "stderr",
     "output_type": "stream",
     "text": [
      "\r",
      "  1%|▏         | 945/71913 [04:41<5:34:18,  3.54it/s]"
     ]
    },
    {
     "name": "stdout",
     "output_type": "stream",
     "text": [
      "loss:0.000552 batch:944/71913\n",
      "loss:0.000548 batch:944/71913\n"
     ]
    },
    {
     "name": "stderr",
     "output_type": "stream",
     "text": [
      "\r",
      "  1%|▏         | 947/71913 [04:41<5:36:37,  3.51it/s]"
     ]
    },
    {
     "name": "stdout",
     "output_type": "stream",
     "text": [
      "loss:0.001225 batch:946/71913\n",
      "loss:0.001225 batch:946/71913\n"
     ]
    },
    {
     "name": "stderr",
     "output_type": "stream",
     "text": [
      "\r",
      "  1%|▏         | 949/71913 [04:42<5:35:46,  3.52it/s]"
     ]
    },
    {
     "name": "stdout",
     "output_type": "stream",
     "text": [
      "loss:0.000819 batch:948/71913\n",
      "loss:0.001195 batch:948/71913\n"
     ]
    },
    {
     "name": "stderr",
     "output_type": "stream",
     "text": [
      "\r",
      "  1%|▏         | 951/71913 [04:42<5:36:25,  3.52it/s]"
     ]
    },
    {
     "name": "stdout",
     "output_type": "stream",
     "text": [
      "loss:0.000626 batch:950/71913\n",
      "loss:0.000743 batch:950/71913\n"
     ]
    },
    {
     "name": "stderr",
     "output_type": "stream",
     "text": [
      "\r",
      "  1%|▏         | 953/71913 [04:43<5:35:01,  3.53it/s]"
     ]
    },
    {
     "name": "stdout",
     "output_type": "stream",
     "text": [
      "loss:0.000592 batch:952/71913\n",
      "loss:0.000634 batch:952/71913\n"
     ]
    },
    {
     "name": "stderr",
     "output_type": "stream",
     "text": [
      "\r",
      "  1%|▏         | 955/71913 [04:43<5:35:52,  3.52it/s]"
     ]
    },
    {
     "name": "stdout",
     "output_type": "stream",
     "text": [
      "loss:0.000586 batch:954/71913\n",
      "loss:0.000586 batch:954/71913\n"
     ]
    },
    {
     "name": "stderr",
     "output_type": "stream",
     "text": [
      "\r",
      "  1%|▏         | 957/71913 [04:44<5:35:54,  3.52it/s]"
     ]
    },
    {
     "name": "stdout",
     "output_type": "stream",
     "text": [
      "loss:0.000635 batch:956/71913\n",
      "loss:0.000635 batch:956/71913\n"
     ]
    },
    {
     "name": "stderr",
     "output_type": "stream",
     "text": [
      "\r",
      "  1%|▏         | 959/71913 [04:45<5:34:01,  3.54it/s]"
     ]
    },
    {
     "name": "stdout",
     "output_type": "stream",
     "text": [
      "loss:0.000564 batch:958/71913\n",
      "loss:0.000564 batch:958/71913\n"
     ]
    },
    {
     "name": "stderr",
     "output_type": "stream",
     "text": [
      "\r",
      "  1%|▏         | 961/71913 [04:45<5:36:25,  3.52it/s]"
     ]
    },
    {
     "name": "stdout",
     "output_type": "stream",
     "text": [
      "loss:0.000052 batch:960/71913\n",
      "loss:0.000052 batch:960/71913\n"
     ]
    },
    {
     "name": "stderr",
     "output_type": "stream",
     "text": [
      "\r",
      "  1%|▏         | 963/71913 [04:46<5:34:43,  3.53it/s]"
     ]
    },
    {
     "name": "stdout",
     "output_type": "stream",
     "text": [
      "loss:0.000093 batch:962/71913\n",
      "loss:0.000086 batch:962/71913\n"
     ]
    },
    {
     "name": "stderr",
     "output_type": "stream",
     "text": [
      "\r",
      "  1%|▏         | 965/71913 [04:46<5:35:52,  3.52it/s]"
     ]
    },
    {
     "name": "stdout",
     "output_type": "stream",
     "text": [
      "loss:0.000040 batch:964/71913\n",
      "loss:0.000040 batch:964/71913\n"
     ]
    },
    {
     "name": "stderr",
     "output_type": "stream",
     "text": [
      "\r",
      "  1%|▏         | 967/71913 [04:47<5:36:38,  3.51it/s]"
     ]
    },
    {
     "name": "stdout",
     "output_type": "stream",
     "text": [
      "loss:0.000087 batch:966/71913\n",
      "loss:0.000087 batch:966/71913\n"
     ]
    },
    {
     "name": "stderr",
     "output_type": "stream",
     "text": [
      "\r",
      "  1%|▏         | 969/71913 [04:47<5:43:43,  3.44it/s]"
     ]
    },
    {
     "name": "stdout",
     "output_type": "stream",
     "text": [
      "loss:0.000083 batch:968/71913\n",
      "loss:0.000083 batch:968/71913\n"
     ]
    },
    {
     "name": "stderr",
     "output_type": "stream",
     "text": [
      "\r",
      "  1%|▏         | 971/71913 [04:48<5:46:56,  3.41it/s]"
     ]
    },
    {
     "name": "stdout",
     "output_type": "stream",
     "text": [
      "loss:0.000014 batch:970/71913\n",
      "loss:0.000024 batch:970/71913\n"
     ]
    },
    {
     "name": "stderr",
     "output_type": "stream",
     "text": [
      "\r",
      "  1%|▏         | 973/71913 [04:49<5:41:42,  3.46it/s]"
     ]
    },
    {
     "name": "stdout",
     "output_type": "stream",
     "text": [
      "loss:0.000688 batch:972/71913\n",
      "loss:0.000741 batch:972/71913\n"
     ]
    },
    {
     "name": "stderr",
     "output_type": "stream",
     "text": [
      "\r",
      "  1%|▏         | 975/71913 [04:49<5:40:53,  3.47it/s]"
     ]
    },
    {
     "name": "stdout",
     "output_type": "stream",
     "text": [
      "loss:0.000620 batch:974/71913\n",
      "loss:0.000620 batch:974/71913\n"
     ]
    },
    {
     "name": "stderr",
     "output_type": "stream",
     "text": [
      "\r",
      "  1%|▏         | 977/71913 [04:50<5:38:54,  3.49it/s]"
     ]
    },
    {
     "name": "stdout",
     "output_type": "stream",
     "text": [
      "loss:0.000640 batch:976/71913\n",
      "loss:0.000568 batch:976/71913\n"
     ]
    },
    {
     "name": "stderr",
     "output_type": "stream",
     "text": [
      "\r",
      "  1%|▏         | 979/71913 [04:50<5:38:12,  3.50it/s]"
     ]
    },
    {
     "name": "stdout",
     "output_type": "stream",
     "text": [
      "loss:0.000588 batch:978/71913\n",
      "loss:0.000588 batch:978/71913\n"
     ]
    },
    {
     "name": "stderr",
     "output_type": "stream",
     "text": [
      "\r",
      "  1%|▏         | 981/71913 [04:51<5:36:08,  3.52it/s]"
     ]
    },
    {
     "name": "stdout",
     "output_type": "stream",
     "text": [
      "loss:0.000628 batch:980/71913\n",
      "loss:0.000628 batch:980/71913\n"
     ]
    },
    {
     "name": "stderr",
     "output_type": "stream",
     "text": [
      "\r",
      "  1%|▏         | 983/71913 [04:51<5:35:23,  3.52it/s]"
     ]
    },
    {
     "name": "stdout",
     "output_type": "stream",
     "text": [
      "loss:0.000637 batch:982/71913\n",
      "loss:0.000612 batch:982/71913\n"
     ]
    },
    {
     "name": "stderr",
     "output_type": "stream",
     "text": [
      "\r",
      "  1%|▏         | 985/71913 [04:52<5:35:44,  3.52it/s]"
     ]
    },
    {
     "name": "stdout",
     "output_type": "stream",
     "text": [
      "loss:0.000652 batch:984/71913\n",
      "loss:0.000619 batch:984/71913\n"
     ]
    },
    {
     "name": "stderr",
     "output_type": "stream",
     "text": [
      "\r",
      "  1%|▏         | 987/71913 [04:53<5:33:52,  3.54it/s]"
     ]
    },
    {
     "name": "stdout",
     "output_type": "stream",
     "text": [
      "loss:0.000015 batch:986/71913\n",
      "loss:0.000023 batch:986/71913\n"
     ]
    },
    {
     "name": "stderr",
     "output_type": "stream",
     "text": [
      "\r",
      "  1%|▏         | 989/71913 [04:53<5:36:05,  3.52it/s]"
     ]
    },
    {
     "name": "stdout",
     "output_type": "stream",
     "text": [
      "loss:0.000024 batch:988/71913\n",
      "loss:0.000023 batch:988/71913\n"
     ]
    }
   ],
   "source": [
    "epochs = 5\n",
    "for epoch in range(epochs):\n",
    "    print(f'Epoch-{epoch}')\n",
    "    train_batch(train_loader,modelReg,loss_plain,optimizer)\n",
    "    validation(val_loader,modelReg,loss_plain)"
   ]
  },
  {
   "cell_type": "code",
   "execution_count": null,
   "id": "5121c525",
   "metadata": {},
   "outputs": [],
   "source": [
    "from tqdm import tqdm\n",
    "def train12(dataloader,model,loss_fn,optimizer):\n",
    "    device = \"cuda\" if torch.cuda.is_available() else \"cpu\"\n",
    "    model.train()\n",
    "    for batch,(X,y_exp,y_val,y_aro) in enumerate(tqdm(dataloader)):\n",
    "        y_val = y_val.type(torch.LongTensor).view(-1,1)\n",
    "        y_aro = y_aro.type(torch.LongTensor).view(-1,1)\n",
    "        X,y_val,y_aro=X.to(device),y_val.to(device),y_aro.to(device)\n",
    "\n",
    "        predVal, predAro = model(X)\n",
    "        print(predVal.shape)\n",
    "        print(predAro.shape)\n",
    "        print(y_val.shape)\n",
    "        print(y_aro.shape)\n",
    "        break\n",
    "        \"\"\"loss1=loss_fn(pred,predVal)\n",
    "        loss2=loss_fn(pred,predAro)\n",
    "\n",
    "        optimizer.zero_grad()\n",
    "        loss1.backward()\n",
    "        loss2.backward()\n",
    "        optimizer.step()\n",
    "        \"\"\"\n",
    "train12(train_loader,modelReg,loss_plain,optimizer)"
   ]
  },
  {
   "cell_type": "code",
   "execution_count": null,
   "id": "8feb413c",
   "metadata": {},
   "outputs": [],
   "source": [
    "\"\"\"\n",
    "Trains the val and arousal to give the emotion class\n",
    "The depth is limited to 6 to prevent overfitting and on recognizing complexity from human perspective\n",
    "The training is independant of the NN but will take the output of the NN to get the emotion class\n",
    "The dataset X, y will take a lot of time due to the \n",
    "\"\"\"\n",
    "\n",
    "from xgboost import XGBRFClassifier\n",
    "\n",
    "# using random forest due to visible relation\n",
    "clf = XGBRFClassifier(objective='multi:softmax')\n",
    "\n",
    "n_estimators = [10,100, 200]\n",
    "learning_rate = [0.1, 1]\n",
    "booster = ['dart']\n",
    "tree_method = ['hist']\n",
    "eval_metric = ['auc']\n",
    "\n",
    "gamma = [0.1, 1, 5]\n",
    "#l1\n",
    "reg_alpha = [0.1,1,10]\n",
    "#l2 lambda required\n",
    "reg_lambda = [0.1,1,10]\n",
    "n_jobs = [-1]\n",
    "subsample = [0.33]\n",
    "max_depth = [6]\n",
    "\n",
    "\n",
    "grid_state = {'n_estimators':n_estimators,\n",
    "              'learning_rate':learning_rate,\n",
    "              'booster':booster , \n",
    "              'tree_method':tree_method,\n",
    "              'n_jobs':n_jobs,\n",
    "              'eval_metric':eval_metric,\n",
    "              'reg_alpha':reg_alpha,\n",
    "              'reg_lambda':reg_lambda,\n",
    "              'gamma': gamma,\n",
    "              'subsample':subsample,\n",
    "              'max_depth':max_depth\n",
    "             }\n",
    "\n",
    "xgb_grid = GridSearchCV(estimator = clf,\n",
    "                        param_grid = grid_state,\n",
    "                        scoring = \"roc_auc\",\n",
    "                        cv=5,\n",
    "                        verbose=0,\n",
    "                    )\n",
    "xgb_grid.fit(X,y)"
   ]
  },
  {
   "cell_type": "code",
   "execution_count": null,
   "id": "6dff95ba",
   "metadata": {},
   "outputs": [],
   "source": [
    "def predict(clf, reg):\n",
    "    # to write once someone has the NN model\n",
    "    "
   ]
  }
 ],
 "metadata": {
  "kernelspec": {
   "display_name": "Python 3 (ipykernel)",
   "language": "python",
   "name": "python3"
  },
  "language_info": {
   "codemirror_mode": {
    "name": "ipython",
    "version": 3
   },
   "file_extension": ".py",
   "mimetype": "text/x-python",
   "name": "python",
   "nbconvert_exporter": "python",
   "pygments_lexer": "ipython3",
   "version": "3.8.5"
  }
 },
 "nbformat": 4,
 "nbformat_minor": 5
}
