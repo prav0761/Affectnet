{
 "cells": [
  {
   "cell_type": "code",
   "execution_count": 1,
   "id": "da4c92c1",
   "metadata": {},
   "outputs": [],
   "source": [
    "import torch\n",
    "from time import time\n",
    "import torch.nn as nn\n",
    "from torch.utils.data import Dataset, DataLoader\n",
    "import torch.optim as optim\n",
    "from zipfile import ZipFile\n",
    "import numpy as np\n",
    "import pandas as pd\n",
    "from time import time\n",
    "import zipfile\n",
    "import re\n",
    "import os\n",
    "import torchvision\n",
    "from torchvision import datasets\n",
    "from torchvision import transforms\n",
    "import matplotlib.pyplot as plt\n",
    "from PIL import Image\n",
    "from torchvision.io import read_image\n",
    "from matplotlib import image"
   ]
  },
  {
   "cell_type": "code",
   "execution_count": 2,
   "id": "a4852f9e",
   "metadata": {},
   "outputs": [],
   "source": [
    "from vgg_pretrained import vgg_all_freezed,total_trainable_parameters,full_vgg,vgg_layer_freeze\n",
    "from prepare_dataset import MyDataset,subset_generator\n",
    "from vgg_pretrained import vgg_all_freezed,total_trainable_parameters,full_vgg,vgg_layer_freeze\n",
    "from train_fn import train,validation,image_validation,validation_classes,train_batch\n",
    "from Model import Network,new_model,new_Regressor"
   ]
  },
  {
   "cell_type": "code",
   "execution_count": 3,
   "id": "147b036b",
   "metadata": {},
   "outputs": [
    {
     "name": "stdout",
     "output_type": "stream",
     "text": [
      "This dataset is done\n",
      "\n",
      "This dataset is done\n",
      "\n"
     ]
    }
   ],
   "source": [
    "fullvgg=full_vgg()\n",
    "\n",
    "normalize = transforms.Normalize(mean=[0.485, 0.456, 0.406],\n",
    "                                 std=[0.229, 0.224, 0.225])\n",
    "transform = transforms.Compose([transforms.ToTensor(),normalize])\n",
    "target_transform=transforms.Compose([transforms.ToTensor()])\n"
   ]
  },
  {
   "cell_type": "code",
   "execution_count": null,
   "id": "e97d791b",
   "metadata": {},
   "outputs": [],
   "source": [
    "#will take lot of time due to opening each file and creating the dataframe\n",
    "anno_dir=r\"C:\\Users\\Engineer Protobetz\\Documents\\Programs Directory\\data\\AffectNet\\train_set\\annotations\"\n",
    "image_dir=r\"C:\\Users\\Engineer Protobetz\\Documents\\Programs Directory\\data\\AffectNet\\train_set\\images\"\n",
    "train_data=MyDataset(anno_dir,image_dir,transform=transform, target_transform=None)\n"
   ]
  },
  {
   "cell_type": "code",
   "execution_count": null,
   "id": "fa39e20e",
   "metadata": {},
   "outputs": [],
   "source": [
    "\n",
    "val_anno_dir=r\"C:\\Users\\Engineer Protobetz\\Documents\\Programs Directory\\data\\AffectNet\\val_set\\annotations\"\n",
    "val_image_dir=r\"C:\\Users\\Engineer Protobetz\\Documents\\Programs Directory\\data\\AffectNet\\val_set\\images\"\n",
    "val_data=MyDataset(val_anno_dir,val_image_dir,transform=transform, target_transform=None)"
   ]
  },
  {
   "cell_type": "code",
   "execution_count": null,
   "id": "b7346c9e",
   "metadata": {},
   "outputs": [],
   "source": [
    "batch = 64\n",
    "train_loader=torch.utils.data.DataLoader(train_data,\n",
    "                                         batch_size=batch,\n",
    "                                         shuffle=True,\n",
    "                                         num_workers=4,\n",
    "                                         pin_memory=True,\n",
    "                                         sampler=None)\n",
    "val_loader=torch.utils.data.DataLoader(val_data,\n",
    "                                       batch_size=batch,\n",
    "                                       shuffle=False,\n",
    "                                       num_workers=4,\n",
    "                                       pin_memory=True,\n",
    "                                      sampler=None)\n",
    "val_class_loader=torch.utils.data.DataLoader(val_data,\n",
    "                                       batch_size=1,\n",
    "                                       shuffle=False,\n",
    "                                       num_workers=4,\n",
    "                                       pin_memory=True,\n",
    "                                      sampler=None)"
   ]
  },
  {
   "cell_type": "code",
   "execution_count": 6,
   "id": "78a05f5e",
   "metadata": {},
   "outputs": [
    {
     "name": "stdout",
     "output_type": "stream",
     "text": [
      "[[-0.571429    0.492063    0.75409356 -0.85988782]\n",
      " [ 0.295199   -0.120983    0.31902874  1.95975264]\n",
      " [ 0.00788395  0.          0.00788395  1.57079633]\n",
      " [ 0.463548    0.163295    0.49146923  1.23209885]\n",
      " [ 0.561363   -0.00483933  0.56138386  1.57941679]\n",
      " [ 0.84127     0.103175    0.84757318  1.44876377]\n",
      " [ 0.504202    0.140056    0.52329279  1.29984968]\n",
      " [-0.34127     0.722222    0.79879273 -0.44142934]\n",
      " [-0.84127     0.468254    0.96280685 -1.06289723]\n",
      " [ 0.849206    0.142857    0.86113817  1.4041326 ]\n",
      " [ 0.740418   -0.212931    0.77042743  1.85082203]\n",
      " [-0.624182   -0.367462    0.7243145  -2.10287277]\n",
      " [ 0.126984    0.857143    0.86649816  0.14707819]\n",
      " [ 0.329075    0.687185    0.76191442  0.44660439]\n",
      " [-0.116144    0.754936    0.76381791 -0.15264933]\n",
      " [ 0.666667   -0.539683    0.85773109  2.25131772]\n",
      " [ 0.802277    0.120773    0.81131652  1.42138047]\n",
      " [ 0.484127    0.142857    0.50476438  1.28385785]\n",
      " [ 0.856562    0.256485    0.89413814  1.27985758]\n",
      " [-0.0932301  -0.27969     0.29481918 -2.81984178]\n",
      " [ 0.521492    0.147493    0.54194842  1.29516633]\n",
      " [-0.493126    0.747161    0.89522221 -0.58337276]\n",
      " [ 0.846883   -0.07259     0.84998831  1.65630165]\n",
      " [-0.364115    0.643012    0.73894801 -0.51524469]\n",
      " [ 0.0238095   0.          0.0238095   1.57079633]\n",
      " [ 0.501253    0.125313    0.51667971  1.32581813]\n",
      " [ 0.65873    -0.34127     0.74188303  2.04879731]\n",
      " [-0.0677507   0.0483933   0.08325905 -0.9505474 ]\n",
      " [ 0.851266    0.235503    0.88324145  1.30089649]\n",
      " [-0.636679   -0.406872    0.75558254 -2.13943783]\n",
      " [ 0.811209   -0.0842815   0.81557551  1.67432106]\n",
      " [-0.848083   -0.258112    0.88649116 -1.86623693]\n",
      " [-0.394596    0.187266    0.43677747 -1.12769356]\n",
      " [ 0.154413   -0.0996214   0.18376016  2.14376297]\n",
      " [ 0.833333    0.0952381   0.83875752  1.45700427]\n",
      " [ 0.484619    0.194901    0.52234278  1.18841751]\n",
      " [-0.41614     0.15276     0.44329236 -1.21898018]\n",
      " [ 0.211353    0.659938    0.69295617  0.3099405 ]\n",
      " [ 0.00793651  0.00793651  0.01122392  0.78539816]\n",
      " [ 0.015873    0.          0.015873    1.57079633]\n",
      " [ 0.883777    0.379338    0.96174794  1.16535365]\n",
      " [-0.591674   -0.270887    0.65073642 -2.00014382]\n",
      " [-0.111111   -0.563492    0.57434214 -2.94690728]\n",
      " [ 0.468816    0.163295    0.49644103  1.23562464]\n",
      " [ 0.692849    0.0689021   0.69626664  1.47167474]\n",
      " [ 0.658449   -0.384534    0.76250999  2.0993678 ]\n",
      " [ 0.523809    0.0396825   0.52530997  1.49518318]\n",
      " [-0.396825    0.1443      0.42224705 -1.22202532]\n",
      " [-0.667828    0.464576    0.81352633 -0.96299433]\n",
      " [ 0.650794   -0.452381    0.79257895  2.17824072]\n",
      " [ 0.0547918  -0.0647539   0.08482458  2.43933538]\n",
      " [ 0.821745   -0.0684787   0.82459334  1.6539375 ]\n",
      " [-0.50813    -0.208091    0.5490883  -1.95948527]\n",
      " [-0.404762    0.84127     0.93357779 -0.44843967]\n",
      " [-0.247577   -0.342394    0.42252577 -2.51554651]\n",
      " [-0.539683    0.349206    0.64280835 -0.99649234]\n",
      " [-0.444444   -0.15873     0.47193822 -1.91382027]\n",
      " [ 0.616805   -0.0690131   0.62065386  1.68222093]\n",
      " [ 0.523013    0.23411     0.5730184   1.14992509]\n",
      " [ 0.683291   -0.169062    0.70389527  1.81334824]\n",
      " [ 0.0238095  -0.015873    0.02861546  2.15879893]\n",
      " [-0.590399    0.643631    0.87340245 -0.74228817]\n",
      " [ 0.79849    -0.058072    0.80059892  1.64339578]\n",
      " [-0.928571   -0.126984    0.93721344 -1.70670536]\n",
      " [-0.7259      0.391986    0.82497505 -1.07566306]\n",
      " [ 0.738784    0.0650743   0.74164443  1.48294009]\n",
      " [-0.0483933   0.87108     0.87242322 -0.05549847]\n",
      " [-0.377468    0.721061    0.81388639 -0.48226229]\n",
      " [ 0.280681    0.692025    0.74678004  0.38531924]\n",
      " [ 0.674603    0.047619    0.67628158  1.50032503]\n",
      " [-0.492063   -0.277778    0.56505452 -2.08471678]\n",
      " [ 0.5         0.111111    0.51219689  1.35212759]\n",
      " [ 0.735579    0.0677507   0.73869251  1.4789502 ]\n",
      " [ 0.759775    0.232288    0.79449088  1.27408858]\n",
      " [ 0.507936    0.103175    0.51830885  1.37039683]\n",
      " [-0.168219    0.431332    0.462974   -0.37185511]\n",
      " [-0.047619   -0.0714286   0.08584646 -2.5535907 ]\n",
      " [ 0.78191    -0.18315     0.80307358  1.80088236]\n",
      " [-0.205255    0.589837    0.62452966 -0.33487946]\n",
      " [-0.333732    0.577804    0.66725895 -0.5237762 ]\n",
      " [-0.0952381  -0.0793651   0.12397223 -2.26553471]\n",
      " [ 0.510204    0.162982    0.53560364  1.26159712]\n",
      " [-0.880952   -0.428571    0.97966807 -2.02357458]\n",
      " [ 0.755632   -0.0499002   0.75727785  1.63673828]\n",
      " [ 0.425861    0.0483933   0.4286018   1.45764533]\n",
      " [-0.578013    0.807686    0.99320476 -0.62114615]\n",
      " [ 0.300039   -0.101626    0.31678265  1.89737742]\n",
      " [ 0.515873    0.00793651  0.51593405  1.55541292]\n",
      " [ 0.777047    0.358637    0.85581688  1.13838863]\n",
      " [-0.0677507  -0.043554    0.08054259 -2.14213358]\n",
      " [-0.493612    0.561363    0.74751671 -0.72126575]\n",
      " [ 0.547619    0.          0.547619    1.57079633]\n",
      " [-0.126422    0.758533    0.76899599 -0.16514846]\n",
      " [ 0.150966    0.534852    0.5557494   0.27510087]\n",
      " [-0.34127     0.833333    0.90050491 -0.3886898 ]\n",
      " [ 0.430701    0.0483933   0.43341119  1.45890622]\n",
      " [ 0.0896593   0.114565    0.14547828  0.66404473]\n",
      " [ 0.774293    0.0919473   0.77973326  1.45259983]\n",
      " [ 0.784476   -0.137627    0.79645702  1.74446707]\n",
      " [ 0.785714   -0.0555556   0.78767564  1.641386  ]]\n",
      "[0. 1. 0. 6. 1. 1. 1. 1. 1. 1. 1. 0. 0. 2. 1. 7. 2. 0. 1. 0. 1. 0. 0. 0.\n",
      " 1. 1. 0. 1. 3. 1. 1. 0. 1. 1. 2. 1. 0. 6. 1. 6. 1. 1. 1. 2. 6. 6. 1. 0.\n",
      " 0. 5. 1. 3. 1. 0. 1. 0. 2. 1. 1. 0. 0. 2. 1. 1. 1. 3. 1. 6. 1. 3. 2. 0.\n",
      " 1. 0. 2. 2. 2. 0. 0. 1. 0. 3. 0. 0. 1. 0. 1. 1. 2. 6. 0. 0. 1. 1. 6. 6.\n",
      " 1. 0. 0. 1.]\n"
     ]
    }
   ],
   "source": [
    "df = train_data.basis_to_exp()\n",
    "X = np.array(df.loc[:, ~df.columns.isin(['class'])])\n",
    "y = np.array(df['class'])\n",
    "print(X)\n",
    "print(y)"
   ]
  },
  {
   "cell_type": "code",
   "execution_count": null,
   "id": "c8fda3f3",
   "metadata": {},
   "outputs": [],
   "source": [
    "device = \"cuda\" if torch.cuda.is_available() else \"cpu\"\n",
    "print(f\"Using {device} device\")"
   ]
  },
  {
   "cell_type": "code",
   "execution_count": null,
   "id": "56e6fd34",
   "metadata": {},
   "outputs": [],
   "source": [
    "feature_extractor=vgg_layer_freeze(17)\n",
    "total_trainable_parameters(feature_extractor)"
   ]
  },
  {
   "cell_type": "code",
   "execution_count": null,
   "id": "aef3825e",
   "metadata": {},
   "outputs": [],
   "source": [
    "\n",
    "#input_features_for_denselayer=get_output_features_of_model(model=feature_extractor,batch_size=32,dataloader=train_loader)\n",
    "input_features_for_denselayer=25088\n"
   ]
  },
  {
   "cell_type": "code",
   "execution_count": null,
   "id": "4fe2d4d5",
   "metadata": {},
   "outputs": [],
   "source": [
    "modelReg=new_Regressor(feature_extractor,input_features_for_denselayer).to(device)\n",
    "total_trainable_parameters(modelReg)"
   ]
  },
  {
   "cell_type": "code",
   "execution_count": null,
   "id": "b39aeeb4",
   "metadata": {},
   "outputs": [],
   "source": [
    "loss_plain=nn.L1Loss()\n",
    "optimizer=optim.NAdam(modelReg.parameters(),lr=0.0001)\n",
    "classes = ['Valance', 'Arousal']\n",
    "classes_exp=['Neutral','Happy','Sad','Surprise','Fear','Disgust','Anger','Contempt']"
   ]
  },
  {
   "cell_type": "code",
   "execution_count": null,
   "id": "eb69489e",
   "metadata": {},
   "outputs": [],
   "source": [
    "epochs = 5\n",
    "for epoch in range(epochs):\n",
    "    print(f'Epoch-{epoch}')\n",
    "    train_batch(train_loader,modelReg,loss_plain,optimizer)\n",
    "    validation(val_loader,modelReg,loss_plain)"
   ]
  },
  {
   "cell_type": "code",
   "execution_count": null,
   "id": "d626cefa",
   "metadata": {},
   "outputs": [],
   "source": [
    "from tqdm import tqdm\n",
    "def train12(dataloader,model,loss_fn,optimizer):\n",
    "    device = \"cuda\" if torch.cuda.is_available() else \"cpu\"\n",
    "    model.train()\n",
    "    for batch,(X,y_exp,y_val,y_aro) in enumerate(tqdm(dataloader)):\n",
    "        y_val = y_val.type(torch.LongTensor).view(-1,1)\n",
    "        y_aro = y_aro.type(torch.LongTensor).view(-1,1)\n",
    "        X,y_val,y_aro=X.to(device),y_val.to(device),y_aro.to(device)\n",
    "\n",
    "        predVal, predAro = model(X)\n",
    "        print(predVal.shape)\n",
    "        print(predAro.shape)\n",
    "        print(y_val.shape)\n",
    "        print(y_aro.shape)\n",
    "        break\n",
    "        \"\"\"loss1=loss_fn(pred,predVal)\n",
    "        loss2=loss_fn(pred,predAro)\n",
    "\n",
    "        optimizer.zero_grad()\n",
    "        loss1.backward()\n",
    "        loss2.backward()\n",
    "        optimizer.step()\n",
    "        \"\"\"\n",
    "train12(train_loader,modelReg,loss_plain,optimizer)"
   ]
  },
  {
   "cell_type": "code",
   "execution_count": 10,
   "id": "91467957",
   "metadata": {},
   "outputs": [
    {
     "name": "stdout",
     "output_type": "stream",
     "text": [
      "[20:29:45] WARNING: C:/Users/Administrator/workspace/xgboost-win64_release_1.5.1/src/learner.cc:1115: Starting in XGBoost 1.3.0, the default evaluation metric used with the objective 'multi:softprob' was changed from 'merror' to 'mlogloss'. Explicitly set eval_metric if you'd like to restore the old behavior.\n",
      "{'colsample_bynode': 0.8, 'learning_rate': 1.0, 'reg_lambda': 1e-05, 'subsample': 0.8, 'use_label_encoder': True, 'objective': 'multi:softprob', 'base_score': 0.5, 'booster': 'gbtree', 'colsample_bylevel': 1, 'colsample_bytree': 1, 'enable_categorical': False, 'gamma': 0, 'gpu_id': -1, 'importance_type': None, 'interaction_constraints': '', 'max_delta_step': 0, 'max_depth': 6, 'min_child_weight': 1, 'missing': nan, 'monotone_constraints': '()', 'n_estimators': 100, 'n_jobs': 16, 'num_parallel_tree': 100, 'predictor': 'auto', 'random_state': 0, 'reg_alpha': 0, 'scale_pos_weight': None, 'tree_method': 'exact', 'validate_parameters': 1, 'verbosity': None}\n"
     ]
    }
   ],
   "source": [
    "\"\"\"\n",
    "Trains the val and arousal to give the emotion class\n",
    "The depth is limited to 6 to prevent overfitting and on recognizing complexity from human perspective\n",
    "The training is independant of the NN but will take the output of the NN to get the emotion class\n",
    "The dataset X, y will take a lot of time due to the \n",
    "\"\"\"\n",
    "\n",
    "from xgboost import XGBRFClassifier\n",
    "\n",
    "# using random forest due to visible relation\n",
    "clf = XGBRFClassifier(objective='multi:softmax')\n",
    "\n",
    "n_estimators = [10,100, 200]\n",
    "learning_rate = [0.1, 1]\n",
    "booster = ['dart']\n",
    "tree_method = ['hist']\n",
    "eval_metric = ['auc']\n",
    "\n",
    "gamma = [0.1, 1, 5]\n",
    "#l1\n",
    "reg_alpha = [0.1,1,10]\n",
    "#l2 lambda required\n",
    "reg_lambda = [0.1,1,10]\n",
    "n_jobs = [-1]\n",
    "subsample = [0.33]\n",
    "max_depth = [6]\n",
    "\n",
    "\n",
    "grid_state = {'n_estimators':n_estimators,\n",
    "              'learning_rate':learning_rate,\n",
    "              'booster':booster , \n",
    "              'tree_method':tree_method,\n",
    "              'n_jobs':n_jobs,\n",
    "              'eval_metric':eval_metric,\n",
    "              'reg_alpha':reg_alpha,\n",
    "              'reg_lambda':reg_lambda,\n",
    "              'gamma': gamma,\n",
    "              'subsample':subsample,\n",
    "              'max_depth':max_depth\n",
    "             }\n",
    "\n",
    "xgb_grid = GridSearchCV(estimator = clf,\n",
    "                        param_grid = grid_state,\n",
    "                        scoring = \"roc_auc\",\n",
    "                        cv=5,\n",
    "                        verbose=0,\n",
    "                    )\n",
    "xgb_grid.fit(X,y)"
   ]
  },
  {
   "cell_type": "code",
   "execution_count": null,
   "id": "083b3a6d",
   "metadata": {},
   "outputs": [],
   "source": [
    "def predict(clf, reg):\n",
    "    # to write once someone has the NN model\n",
    "    "
   ]
  }
 ],
 "metadata": {
  "kernelspec": {
   "display_name": "Python 3 (ipykernel)",
   "language": "python",
   "name": "python3"
  },
  "language_info": {
   "codemirror_mode": {
    "name": "ipython",
    "version": 3
   },
   "file_extension": ".py",
   "mimetype": "text/x-python",
   "name": "python",
   "nbconvert_exporter": "python",
   "pygments_lexer": "ipython3",
   "version": "3.9.7"
  }
 },
 "nbformat": 4,
 "nbformat_minor": 5
}
