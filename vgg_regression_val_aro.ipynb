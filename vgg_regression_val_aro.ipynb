{
 "cells": [
  {
   "cell_type": "code",
   "execution_count": 1,
   "id": "da4c92c1",
   "metadata": {},
   "outputs": [],
   "source": [
    "import torch\n",
    "from time import time\n",
    "import torch.nn as nn\n",
    "from torch.utils.data import Dataset, DataLoader\n",
    "import torch.optim as optim\n",
    "from zipfile import ZipFile\n",
    "import numpy as np\n",
    "import pandas as pd\n",
    "from time import time\n",
    "import zipfile\n",
    "import re\n",
    "import os\n",
    "import torchvision\n",
    "from torchvision import datasets\n",
    "from torchvision import transforms\n",
    "import matplotlib.pyplot as plt\n",
    "from PIL import Image\n",
    "from torchvision.io import read_image\n",
    "from matplotlib import image"
   ]
  },
  {
   "cell_type": "code",
   "execution_count": 2,
   "id": "a4852f9e",
   "metadata": {},
   "outputs": [],
   "source": [
    "from vgg_pretrained import vgg_all_freezed,total_trainable_parameters,full_vgg,vgg_layer_freeze\n",
    "from prepare_dataset import MyDataset,subset_generator\n",
    "from vgg_pretrained import vgg_all_freezed,total_trainable_parameters,full_vgg,vgg_layer_freeze\n",
    "from Model import Network,new_model,new_Regressor"
   ]
  },
  {
   "cell_type": "code",
   "execution_count": 3,
   "id": "147b036b",
   "metadata": {},
   "outputs": [],
   "source": [
    "fullvgg=full_vgg()\n",
    "\n",
    "normalize = transforms.Normalize(mean=[0.485, 0.456, 0.406],\n",
    "                                 std=[0.229, 0.224, 0.225])\n",
    "transform = transforms.Compose([transforms.ToTensor(),normalize])\n",
    "target_transform=transforms.Compose([transforms.ToTensor()])\n",
    "\n",
    "anno_dir=r\"C:\\Users\\Engineer Protobetz\\Documents\\Programs Directory\\data\\AffectNet\\train_set\\annotations\"\n",
    "image_dir=r\"C:\\Users\\Engineer Protobetz\\Documents\\Programs Directory\\data\\AffectNet\\train_set\\images\"\n",
    "train_data=MyDataset(anno_dir,image_dir,transform=transform, target_transform=None)\n",
    "\n",
    "val_anno_dir=r\"C:\\Users\\Engineer Protobetz\\Documents\\Programs Directory\\data\\AffectNet\\val_set\\annotations\"\n",
    "val_image_dir=r\"C:\\Users\\Engineer Protobetz\\Documents\\Programs Directory\\data\\AffectNet\\val_set\\images\"\n",
    "val_data=MyDataset(val_anno_dir,val_image_dir,transform=transform, target_transform=None)"
   ]
  },
  {
   "cell_type": "code",
   "execution_count": 4,
   "id": "b7346c9e",
   "metadata": {},
   "outputs": [],
   "source": [
    "batch = 512\n",
    "train_loader=torch.utils.data.DataLoader(train_data,\n",
    "                                         batch_size=batch,\n",
    "                                         shuffle=True,\n",
    "                                         num_workers=4,\n",
    "                                         pin_memory=True,\n",
    "                                         sampler=None)\n",
    "val_loader=torch.utils.data.DataLoader(val_data,\n",
    "                                       batch_size=batch,\n",
    "                                       shuffle=False,\n",
    "                                       num_workers=4,\n",
    "                                       pin_memory=True,\n",
    "                                      sampler=None)\n",
    "val_class_loader=torch.utils.data.DataLoader(val_data,\n",
    "                                       batch_size=1,\n",
    "                                       shuffle=False,\n",
    "                                       num_workers=4,\n",
    "                                       pin_memory=True,\n",
    "                                      sampler=None)"
   ]
  },
  {
   "cell_type": "code",
   "execution_count": 5,
   "id": "78a05f5e",
   "metadata": {},
   "outputs": [
    {
     "name": "stdout",
     "output_type": "stream",
     "text": [
      "(tensor([[[ 1.1015,  1.1872,  1.0673,  ...,  0.4166,  0.4679,  0.5364],\n",
      "         [ 1.1700,  1.2043,  0.9988,  ...,  0.4679,  0.4679,  0.5022],\n",
      "         [ 1.2043,  1.2214,  0.9474,  ...,  0.4337,  0.3994,  0.3994],\n",
      "         ...,\n",
      "         [-0.1486,  0.0569,  0.2796,  ..., -1.1760, -1.1589, -1.1760],\n",
      "         [-0.2342, -0.0458,  0.1768,  ..., -1.1760, -1.1932, -1.2274],\n",
      "         [-0.2684, -0.0972,  0.1083,  ..., -1.1760, -1.2274, -1.2788]],\n",
      "\n",
      "        [[ 1.2206,  1.2731,  1.1681,  ...,  0.4503,  0.4853,  0.5728],\n",
      "         [ 1.2556,  1.2906,  1.0980,  ...,  0.5028,  0.4853,  0.5378],\n",
      "         [ 1.2906,  1.3256,  1.0455,  ...,  0.4678,  0.4153,  0.4328],\n",
      "         ...,\n",
      "         [-0.6001, -0.3901, -0.1625,  ..., -1.0028, -0.9853, -1.0028],\n",
      "         [-0.6877, -0.4951, -0.2675,  ..., -1.0028, -1.0203, -1.0553],\n",
      "         [-0.7227, -0.5476, -0.3375,  ..., -1.0028, -1.0553, -1.1078]],\n",
      "\n",
      "        [[ 1.2108,  1.2805,  1.1237,  ...,  0.2173,  0.1999,  0.2348],\n",
      "         [ 1.2631,  1.2980,  1.0539,  ...,  0.2696,  0.1999,  0.1999],\n",
      "         [ 1.2980,  1.2805,  1.0017,  ...,  0.2348,  0.1302,  0.0953],\n",
      "         ...,\n",
      "         [-0.7064, -0.4973, -0.2707,  ..., -0.3055, -0.2881, -0.3055],\n",
      "         [-0.7587, -0.6018, -0.3753,  ..., -0.3055, -0.3230, -0.3578],\n",
      "         [-0.7936, -0.6541, -0.4450,  ..., -0.3055, -0.3578, -0.4101]]]), tensor(0.), tensor(-0.4936), tensor(0.5614))\n"
     ]
    }
   ],
   "source": [
    "print(train_data.__getitem__(9))"
   ]
  },
  {
   "cell_type": "code",
   "execution_count": 6,
   "id": "c8fda3f3",
   "metadata": {},
   "outputs": [
    {
     "name": "stdout",
     "output_type": "stream",
     "text": [
      "Using cpu device\n"
     ]
    }
   ],
   "source": [
    "device = \"cuda\" if torch.cuda.is_available() else \"cpu\"\n",
    "print(f\"Using {device} device\")"
   ]
  },
  {
   "cell_type": "code",
   "execution_count": 7,
   "id": "56e6fd34",
   "metadata": {},
   "outputs": [
    {
     "name": "stdout",
     "output_type": "stream",
     "text": [
      "\n",
      "Total trainable parameters of Sequential is \t 12979200\n"
     ]
    }
   ],
   "source": [
    "feature_extractor=vgg_layer_freeze(17)\n",
    "total_trainable_parameters(feature_extractor)"
   ]
  },
  {
   "cell_type": "code",
   "execution_count": 8,
   "id": "aef3825e",
   "metadata": {},
   "outputs": [],
   "source": [
    "\n",
    "#input_features_for_denselayer=get_output_features_of_model(model=feature_extractor,batch_size=32,dataloader=train_loader)\n",
    "input_features_for_denselayer=25088\n"
   ]
  },
  {
   "cell_type": "code",
   "execution_count": 9,
   "id": "4fe2d4d5",
   "metadata": {},
   "outputs": [
    {
     "name": "stdout",
     "output_type": "stream",
     "text": [
      "\n",
      "Total trainable parameters of new_Regressor is \t 117842434\n"
     ]
    }
   ],
   "source": [
    "modelReg=new_Regressor(feature_extractor,input_features_for_denselayer).to(device)\n",
    "total_trainable_parameters(modelReg)"
   ]
  },
  {
   "cell_type": "code",
   "execution_count": 11,
   "id": "b39aeeb4",
   "metadata": {},
   "outputs": [],
   "source": [
    "loss_plain=nn.L1Loss()\n",
    "optimizer=optim.NAdam(modelReg.parameters(),lr=0.0001)\n",
    "classes = ['Valance', 'Arousal']\n",
    "classes_exp=['Neutral','Happy','Sad','Surprise','Fear','Disgust','Anger','Contempt']"
   ]
  },
  {
   "cell_type": "code",
   "execution_count": null,
   "id": "eb69489e",
   "metadata": {},
   "outputs": [],
   "source": [
    "# NO OF EPOCHS IS 5\n",
    "\n",
    "epochs=5\n",
    "for epoch in range(epochs):\n",
    "    print(f'Epoch-{epoch}')\n",
    "    train_batch(train_loader,modelReg,loss_plain,optimizer)\n",
    "    validation(val_loader,modelReg,loss_plain)\n"
   ]
  },
  {
   "cell_type": "code",
   "execution_count": null,
   "id": "e6bd6b79",
   "metadata": {},
   "outputs": [],
   "source": []
  }
 ],
 "metadata": {
  "kernelspec": {
   "display_name": "Python 3 (ipykernel)",
   "language": "python",
   "name": "python3"
  },
  "language_info": {
   "codemirror_mode": {
    "name": "ipython",
    "version": 3
   },
   "file_extension": ".py",
   "mimetype": "text/x-python",
   "name": "python",
   "nbconvert_exporter": "python",
   "pygments_lexer": "ipython3",
   "version": "3.9.7"
  }
 },
 "nbformat": 4,
 "nbformat_minor": 5
}
