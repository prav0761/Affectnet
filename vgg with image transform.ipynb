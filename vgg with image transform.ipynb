{
 "cells": [
  {
   "cell_type": "code",
   "execution_count": 1,
   "id": "d9fa488f",
   "metadata": {},
   "outputs": [
    {
     "name": "stderr",
     "output_type": "stream",
     "text": [
      "D:\\anaconda\\envs\\affectnet\\lib\\site-packages\\tqdm\\auto.py:22: TqdmWarning: IProgress not found. Please update jupyter and ipywidgets. See https://ipywidgets.readthedocs.io/en/stable/user_install.html\n",
      "  from .autonotebook import tqdm as notebook_tqdm\n"
     ]
    }
   ],
   "source": [
    "import torch\n",
    "from time import time\n",
    "import torch.nn as nn\n",
    "from torch.utils.data import Dataset, DataLoader\n",
    "import torch.optim as optim\n",
    "import torchvision\n",
    "import matplotlib.pyplot as plt\n",
    "from zipfile import ZipFile\n",
    "import numpy as np\n",
    "from time import time\n",
    "from torchvision import datasets\n",
    "from torchvision import transforms\n",
    "import pandas as pd\n",
    "import numpy as np\n",
    "import zipfile\n",
    "import re\n",
    "import os\n",
    "from PIL import Image\n",
    "from torchvision.io import read_image\n",
    "from matplotlib import image\n",
    "from prepare_dataset import MyDataset,subset_generator\n",
    "from utils import display_some_images,stats_of_image_and_label,MyCuda_Stats,get_output_features_of_model\n",
    "from vgg_pretrained import vgg_all_freezed,total_trainable_parameters,full_vgg,vgg_layer_freeze\n",
    "from Model import Network,new_model\n",
    "from Transform import Transform\n",
    "from train_fn import train,validation,image_validation,validation_classes,train_w_transform\n",
    "from tqdm import tqdm\n",
    "from sklearn.metrics import classification_report\n"
   ]
  },
  {
   "cell_type": "code",
   "execution_count": 2,
   "id": "9bae95ae",
   "metadata": {},
   "outputs": [
    {
     "name": "stderr",
     "output_type": "stream",
     "text": [
      "Downloading: \"https://download.pytorch.org/models/vgg16-397923af.pth\" to C:\\Users\\Nathan Paull/.cache\\torch\\hub\\checkpoints\\vgg16-397923af.pth\n",
      "100%|██████████| 528M/528M [00:24<00:00, 22.9MB/s] \n"
     ]
    },
    {
     "name": "stdout",
     "output_type": "stream",
     "text": [
      "\n",
      "Total trainable parameters of VGG is \t 138357544\n",
      "\n",
      "Total trainable parameters of Sequential is \t 14714688\n",
      "\n",
      "Total trainable parameters of Sequential is \t 0\n",
      "\n",
      "Total trainable parameters of Sequential is \t 7079424\n"
     ]
    }
   ],
   "source": [
    "fullvgg=full_vgg()\n",
    "total_trainable_parameters(fullvgg)\n",
    "total_trainable_parameters(fullvgg.features)\n",
    "total_trainable_parameters(vgg_all_freezed())\n",
    "total_trainable_parameters(vgg_layer_freeze(24))"
   ]
  },
  {
   "cell_type": "code",
   "execution_count": 3,
   "id": "2d8c33b9",
   "metadata": {},
   "outputs": [],
   "source": [
    "# DATA LOADER PARAMETERS\n",
    "batch=16\n",
    "CUDA_LAUNCH_BLOCKING=1 "
   ]
  },
  {
   "cell_type": "code",
   "execution_count": 4,
   "id": "941f48fd",
   "metadata": {},
   "outputs": [
    {
     "name": "stdout",
     "output_type": "stream",
     "text": [
      "No of GPUs i have is 0\n"
     ]
    },
    {
     "ename": "AssertionError",
     "evalue": "Torch not compiled with CUDA enabled",
     "output_type": "error",
     "traceback": [
      "\u001b[1;31m---------------------------------------------------------------------------\u001b[0m",
      "\u001b[1;31mAssertionError\u001b[0m                            Traceback (most recent call last)",
      "\u001b[1;32m~\\AppData\\Local\\Temp\\ipykernel_22816\\2471018381.py\u001b[0m in \u001b[0;36m<module>\u001b[1;34m\u001b[0m\n\u001b[1;32m----> 1\u001b[1;33m \u001b[0mMyCuda_Stats\u001b[0m\u001b[1;33m(\u001b[0m\u001b[1;33m)\u001b[0m\u001b[1;33m\u001b[0m\u001b[1;33m\u001b[0m\u001b[0m\n\u001b[0m",
      "\u001b[1;32m~\\github\\UT\\DSLab\\Affectnet\\utils.py\u001b[0m in \u001b[0;36mMyCuda_Stats\u001b[1;34m()\u001b[0m\n\u001b[0;32m     51\u001b[0m \u001b[1;32mdef\u001b[0m \u001b[0mMyCuda_Stats\u001b[0m\u001b[1;33m(\u001b[0m\u001b[1;33m)\u001b[0m\u001b[1;33m:\u001b[0m\u001b[1;33m\u001b[0m\u001b[1;33m\u001b[0m\u001b[0m\n\u001b[0;32m     52\u001b[0m     \u001b[0mprint\u001b[0m\u001b[1;33m(\u001b[0m\u001b[1;34m'No of GPUs i have is'\u001b[0m\u001b[1;33m,\u001b[0m\u001b[0mtorch\u001b[0m\u001b[1;33m.\u001b[0m\u001b[0mcuda\u001b[0m\u001b[1;33m.\u001b[0m\u001b[0mdevice_count\u001b[0m\u001b[1;33m(\u001b[0m\u001b[1;33m)\u001b[0m\u001b[1;33m)\u001b[0m\u001b[1;33m\u001b[0m\u001b[1;33m\u001b[0m\u001b[0m\n\u001b[1;32m---> 53\u001b[1;33m     \u001b[0mprint\u001b[0m\u001b[1;33m(\u001b[0m\u001b[0mtorch\u001b[0m\u001b[1;33m.\u001b[0m\u001b[0mcuda\u001b[0m\u001b[1;33m.\u001b[0m\u001b[0mcurrent_device\u001b[0m\u001b[1;33m(\u001b[0m\u001b[1;33m)\u001b[0m\u001b[1;33m)\u001b[0m\u001b[1;33m\u001b[0m\u001b[1;33m\u001b[0m\u001b[0m\n\u001b[0m\u001b[0;32m     54\u001b[0m     \u001b[0mprint\u001b[0m\u001b[1;33m(\u001b[0m\u001b[1;34m'My Graphic Card is'\u001b[0m\u001b[1;33m,\u001b[0m\u001b[0mtorch\u001b[0m\u001b[1;33m.\u001b[0m\u001b[0mcuda\u001b[0m\u001b[1;33m.\u001b[0m\u001b[0mget_device_name\u001b[0m\u001b[1;33m(\u001b[0m\u001b[0mtorch\u001b[0m\u001b[1;33m.\u001b[0m\u001b[0mcuda\u001b[0m\u001b[1;33m.\u001b[0m\u001b[0mcurrent_device\u001b[0m\u001b[1;33m(\u001b[0m\u001b[1;33m)\u001b[0m\u001b[1;33m)\u001b[0m\u001b[1;33m)\u001b[0m\u001b[1;33m\u001b[0m\u001b[1;33m\u001b[0m\u001b[0m\n\u001b[0;32m     55\u001b[0m     \u001b[0mprint\u001b[0m\u001b[1;33m(\u001b[0m\u001b[1;34m'Is Cuda Available'\u001b[0m\u001b[1;33m,\u001b[0m\u001b[0mtorch\u001b[0m\u001b[1;33m.\u001b[0m\u001b[0mcuda\u001b[0m\u001b[1;33m.\u001b[0m\u001b[0mis_available\u001b[0m\u001b[1;33m(\u001b[0m\u001b[1;33m)\u001b[0m\u001b[1;33m)\u001b[0m\u001b[1;33m\u001b[0m\u001b[1;33m\u001b[0m\u001b[0m\n",
      "\u001b[1;32mD:\\anaconda\\envs\\affectnet\\lib\\site-packages\\torch\\cuda\\__init__.py\u001b[0m in \u001b[0;36mcurrent_device\u001b[1;34m()\u001b[0m\n\u001b[0;32m    479\u001b[0m \u001b[1;32mdef\u001b[0m \u001b[0mcurrent_device\u001b[0m\u001b[1;33m(\u001b[0m\u001b[1;33m)\u001b[0m \u001b[1;33m->\u001b[0m \u001b[0mint\u001b[0m\u001b[1;33m:\u001b[0m\u001b[1;33m\u001b[0m\u001b[1;33m\u001b[0m\u001b[0m\n\u001b[0;32m    480\u001b[0m     \u001b[1;34mr\"\"\"Returns the index of a currently selected device.\"\"\"\u001b[0m\u001b[1;33m\u001b[0m\u001b[1;33m\u001b[0m\u001b[0m\n\u001b[1;32m--> 481\u001b[1;33m     \u001b[0m_lazy_init\u001b[0m\u001b[1;33m(\u001b[0m\u001b[1;33m)\u001b[0m\u001b[1;33m\u001b[0m\u001b[1;33m\u001b[0m\u001b[0m\n\u001b[0m\u001b[0;32m    482\u001b[0m     \u001b[1;32mreturn\u001b[0m \u001b[0mtorch\u001b[0m\u001b[1;33m.\u001b[0m\u001b[0m_C\u001b[0m\u001b[1;33m.\u001b[0m\u001b[0m_cuda_getDevice\u001b[0m\u001b[1;33m(\u001b[0m\u001b[1;33m)\u001b[0m\u001b[1;33m\u001b[0m\u001b[1;33m\u001b[0m\u001b[0m\n\u001b[0;32m    483\u001b[0m \u001b[1;33m\u001b[0m\u001b[0m\n",
      "\u001b[1;32mD:\\anaconda\\envs\\affectnet\\lib\\site-packages\\torch\\cuda\\__init__.py\u001b[0m in \u001b[0;36m_lazy_init\u001b[1;34m()\u001b[0m\n\u001b[0;32m    208\u001b[0m                 \"multiprocessing, you must use the 'spawn' start method\")\n\u001b[0;32m    209\u001b[0m         \u001b[1;32mif\u001b[0m \u001b[1;32mnot\u001b[0m \u001b[0mhasattr\u001b[0m\u001b[1;33m(\u001b[0m\u001b[0mtorch\u001b[0m\u001b[1;33m.\u001b[0m\u001b[0m_C\u001b[0m\u001b[1;33m,\u001b[0m \u001b[1;34m'_cuda_getDeviceCount'\u001b[0m\u001b[1;33m)\u001b[0m\u001b[1;33m:\u001b[0m\u001b[1;33m\u001b[0m\u001b[1;33m\u001b[0m\u001b[0m\n\u001b[1;32m--> 210\u001b[1;33m             \u001b[1;32mraise\u001b[0m \u001b[0mAssertionError\u001b[0m\u001b[1;33m(\u001b[0m\u001b[1;34m\"Torch not compiled with CUDA enabled\"\u001b[0m\u001b[1;33m)\u001b[0m\u001b[1;33m\u001b[0m\u001b[1;33m\u001b[0m\u001b[0m\n\u001b[0m\u001b[0;32m    211\u001b[0m         \u001b[1;32mif\u001b[0m \u001b[0m_cudart\u001b[0m \u001b[1;32mis\u001b[0m \u001b[1;32mNone\u001b[0m\u001b[1;33m:\u001b[0m\u001b[1;33m\u001b[0m\u001b[1;33m\u001b[0m\u001b[0m\n\u001b[0;32m    212\u001b[0m             raise AssertionError(\n",
      "\u001b[1;31mAssertionError\u001b[0m: Torch not compiled with CUDA enabled"
     ]
    }
   ],
   "source": [
    "MyCuda_Stats()"
   ]
  },
  {
   "cell_type": "code",
   "execution_count": 4,
   "id": "c42e16c6",
   "metadata": {},
   "outputs": [],
   "source": [
    "normalize = transforms.Normalize(mean=[0.485, 0.456, 0.406],\n",
    "                                 std=[0.229, 0.224, 0.225])\n",
    "transform = transforms.Compose([transforms.ToTensor(),normalize])\n",
    "target_transform=transforms.Compose([transforms.ToTensor()])"
   ]
  },
  {
   "cell_type": "code",
   "execution_count": 5,
   "id": "67bf5895",
   "metadata": {},
   "outputs": [],
   "source": [
    "anno_dir=r\"F:\\Affectnet\\annotations\"\n",
    "image_dir=r\"F:\\Affectnet\\train_set\\train_set\\images\"\n",
    "train_data=MyDataset(anno_dir,image_dir,transform=transform, target_transform=None)"
   ]
  },
  {
   "cell_type": "code",
   "execution_count": 6,
   "id": "8e22b3d7",
   "metadata": {},
   "outputs": [],
   "source": [
    "val_anno_dir=r\"F:\\Affectnet\\val_set\\val_set\\annotations\"\n",
    "val_image_dir=r\"F:\\Affectnet\\val_set\\val_set\\images\"\n",
    "val_data=MyDataset(val_anno_dir,val_image_dir,transform=transform, target_transform=None)"
   ]
  },
  {
   "cell_type": "code",
   "execution_count": null,
   "id": "505e5f7b",
   "metadata": {},
   "outputs": [],
   "source": [
    "num_classes = 7    \n",
    "dataset = MyDataset1(num_classes)\n",
    "labels = torch.zeros(num_classes, dtype=torch.long)\n",
    "\n",
    "for _, target in dataset:\n",
    "    labels += target"
   ]
  },
  {
   "cell_type": "code",
   "execution_count": null,
   "id": "618e1f3c",
   "metadata": {},
   "outputs": [],
   "source": [
    "Subset_train_sampler=subset_generator(train_data,5000)"
   ]
  },
  {
   "cell_type": "code",
   "execution_count": 30,
   "id": "62f823ec",
   "metadata": {},
   "outputs": [],
   "source": [
    "train_loader=torch.utils.data.DataLoader(train_data,\n",
    "                                         batch_size=batch,\n",
    "                                         shuffle=False,\n",
    "                                         num_workers=4,\n",
    "                                         pin_memory=True,\n",
    "                                         sampler=None)\n",
    "val_loader=torch.utils.data.DataLoader(val_data,\n",
    "                                       batch_size=batch,\n",
    "                                       shuffle=False,\n",
    "                                       num_workers=4,\n",
    "                                       pin_memory=True,\n",
    "                                      sampler=None)\n",
    "val_loader_class=torch.utils.data.DataLoader(val_data,\n",
    "                                       batch_size=1,\n",
    "                                       shuffle=False,\n",
    "                                       num_workers=4,\n",
    "                                       pin_memory=True,\n",
    "                                      sampler=None)"
   ]
  },
  {
   "cell_type": "code",
   "execution_count": 9,
   "id": "d405e4e4",
   "metadata": {},
   "outputs": [
    {
     "name": "stdout",
     "output_type": "stream",
     "text": [
      "17979\n",
      "250\n"
     ]
    }
   ],
   "source": [
    "print(len(train_loader))\n",
    "print(len(val_loader))\n"
   ]
  },
  {
   "cell_type": "code",
   "execution_count": 10,
   "id": "29f029a1",
   "metadata": {},
   "outputs": [
    {
     "name": "stdout",
     "output_type": "stream",
     "text": [
      "Using cuda device\n"
     ]
    }
   ],
   "source": [
    "device = \"cuda\" if torch.cuda.is_available() else \"cpu\"\n",
    "print(f\"Using {device} device\")"
   ]
  },
  {
   "cell_type": "code",
   "execution_count": 13,
   "id": "1df35074",
   "metadata": {},
   "outputs": [
    {
     "name": "stdout",
     "output_type": "stream",
     "text": [
      "\n",
      "Total trainable parameters of Sequential is \t 12979200\n"
     ]
    }
   ],
   "source": [
    "feature_extractor=vgg_layer_freeze(17)\n",
    "total_trainable_parameters(feature_extractor)\n"
   ]
  },
  {
   "cell_type": "code",
   "execution_count": 14,
   "id": "2e5323a3",
   "metadata": {},
   "outputs": [],
   "source": [
    "\n",
    "#input_features_for_denselayer=get_output_features_of_model(model=feature_extractor,batch_size=32,dataloader=train_loader)\n",
    "input_features_for_denselayer=25088\n"
   ]
  },
  {
   "cell_type": "code",
   "execution_count": 15,
   "id": "4ad49748",
   "metadata": {},
   "outputs": [
    {
     "data": {
      "text/plain": [
       "new_model(\n",
       "  (extractor): Sequential(\n",
       "    (0): Conv2d(3, 64, kernel_size=(3, 3), stride=(1, 1), padding=(1, 1))\n",
       "    (1): ReLU(inplace=True)\n",
       "    (2): Conv2d(64, 64, kernel_size=(3, 3), stride=(1, 1), padding=(1, 1))\n",
       "    (3): ReLU(inplace=True)\n",
       "    (4): MaxPool2d(kernel_size=2, stride=2, padding=0, dilation=1, ceil_mode=False)\n",
       "    (5): Conv2d(64, 128, kernel_size=(3, 3), stride=(1, 1), padding=(1, 1))\n",
       "    (6): ReLU(inplace=True)\n",
       "    (7): Conv2d(128, 128, kernel_size=(3, 3), stride=(1, 1), padding=(1, 1))\n",
       "    (8): ReLU(inplace=True)\n",
       "    (9): MaxPool2d(kernel_size=2, stride=2, padding=0, dilation=1, ceil_mode=False)\n",
       "    (10): Conv2d(128, 256, kernel_size=(3, 3), stride=(1, 1), padding=(1, 1))\n",
       "    (11): ReLU(inplace=True)\n",
       "    (12): Conv2d(256, 256, kernel_size=(3, 3), stride=(1, 1), padding=(1, 1))\n",
       "    (13): ReLU(inplace=True)\n",
       "    (14): Conv2d(256, 256, kernel_size=(3, 3), stride=(1, 1), padding=(1, 1))\n",
       "    (15): ReLU(inplace=True)\n",
       "    (16): MaxPool2d(kernel_size=2, stride=2, padding=0, dilation=1, ceil_mode=False)\n",
       "    (17): Conv2d(256, 512, kernel_size=(3, 3), stride=(1, 1), padding=(1, 1))\n",
       "    (18): ReLU(inplace=True)\n",
       "    (19): Conv2d(512, 512, kernel_size=(3, 3), stride=(1, 1), padding=(1, 1))\n",
       "    (20): ReLU(inplace=True)\n",
       "    (21): Conv2d(512, 512, kernel_size=(3, 3), stride=(1, 1), padding=(1, 1))\n",
       "    (22): ReLU(inplace=True)\n",
       "    (23): MaxPool2d(kernel_size=2, stride=2, padding=0, dilation=1, ceil_mode=False)\n",
       "    (24): Conv2d(512, 512, kernel_size=(3, 3), stride=(1, 1), padding=(1, 1))\n",
       "    (25): ReLU(inplace=True)\n",
       "    (26): Conv2d(512, 512, kernel_size=(3, 3), stride=(1, 1), padding=(1, 1))\n",
       "    (27): ReLU(inplace=True)\n",
       "    (28): Conv2d(512, 512, kernel_size=(3, 3), stride=(1, 1), padding=(1, 1))\n",
       "    (29): ReLU(inplace=True)\n",
       "    (30): MaxPool2d(kernel_size=2, stride=2, padding=0, dilation=1, ceil_mode=False)\n",
       "    (31): AdaptiveAvgPool2d(output_size=(7, 7))\n",
       "  )\n",
       "  (RHC): Sequential(\n",
       "    (0): Linear(in_features=25088, out_features=4096, bias=True)\n",
       "    (1): ReLU(inplace=True)\n",
       "    (2): Linear(in_features=4096, out_features=8, bias=True)\n",
       "  )\n",
       ")"
      ]
     },
     "execution_count": 15,
     "metadata": {},
     "output_type": "execute_result"
    }
   ],
   "source": [
    "transform=Transform(input_features_for_denselayer)\n",
    "model1=new_model(feature_extractor,input_features_for_denselayer).to(device)\n",
    "model1"
   ]
  },
  {
   "cell_type": "code",
   "execution_count": 16,
   "id": "c999156b",
   "metadata": {},
   "outputs": [
    {
     "name": "stdout",
     "output_type": "stream",
     "text": [
      "\n",
      "Total trainable parameters of new_model is \t 115776520\n"
     ]
    }
   ],
   "source": [
    "total_trainable_parameters(model1)"
   ]
  },
  {
   "cell_type": "code",
   "execution_count": 17,
   "id": "49e30a76",
   "metadata": {},
   "outputs": [],
   "source": [
    "lr=0.0001\n",
    "loss1=nn.CrossEntropyLoss()\n",
    "optimizer=optim.Adam(model1.parameters(),lr)"
   ]
  },
  {
   "cell_type": "code",
   "execution_count": 18,
   "id": "324a0421",
   "metadata": {},
   "outputs": [
    {
     "data": {
      "text/plain": [
       "<All keys matched successfully>"
      ]
     },
     "execution_count": 18,
     "metadata": {},
     "output_type": "execute_result"
    }
   ],
   "source": [
    "model1.load_state_dict(torch.load(r\"C:\\Users\\DELL\\Desktop\\Python\\Affect_Net\\Affectnet\\models\\modelrecent.pth\"))"
   ]
  },
  {
   "cell_type": "code",
   "execution_count": null,
   "id": "ddda440b",
   "metadata": {},
   "outputs": [],
   "source": [
    "#optimizer.load_state_dict(torch.load(r\"C:\\Users\\DELL\\Desktop\\Python\\Affect_Net\\Affectnet\\models\\optimizer1.pth\"))"
   ]
  },
  {
   "cell_type": "code",
   "execution_count": 19,
   "id": "19d775d7",
   "metadata": {},
   "outputs": [
    {
     "name": "stderr",
     "output_type": "stream",
     "text": [
      "100%|████████████████████████████████████████████████████████████████████████████████| 250/250 [01:11<00:00,  3.48it/s]"
     ]
    },
    {
     "name": "stdout",
     "output_type": "stream",
     "text": [
      "test error-4.361423 \n",
      " Accuracy-47.961990%\n"
     ]
    },
    {
     "name": "stderr",
     "output_type": "stream",
     "text": [
      "\n"
     ]
    }
   ],
   "source": [
    "validation(val_loader,model1,loss1)\n"
   ]
  },
  {
   "cell_type": "code",
   "execution_count": null,
   "id": "e30a72cb",
   "metadata": {},
   "outputs": [],
   "source": [
    "val_data[1]"
   ]
  },
  {
   "cell_type": "code",
   "execution_count": 20,
   "id": "d455017b",
   "metadata": {},
   "outputs": [],
   "source": [
    "val_loader_class=torch.utils.data.DataLoader(val_data,\n",
    "                                       batch_size=1,\n",
    "                                       shuffle=False,\n",
    "                                       num_workers=4,\n",
    "                                       pin_memory=True,\n",
    "                                      sampler=None)"
   ]
  },
  {
   "cell_type": "code",
   "execution_count": null,
   "id": "4446f6d3",
   "metadata": {},
   "outputs": [],
   "source": [
    "classes=['Neutral','Happy','Sad','Surprise','Fear','Disgust','Anger','Contempt']\n"
   ]
  },
  {
   "cell_type": "code",
   "execution_count": 22,
   "id": "ff76aaf1",
   "metadata": {},
   "outputs": [
    {
     "name": "stderr",
     "output_type": "stream",
     "text": [
      "100%|█████████████████████████████████████████████████████████████████████████████| 3999/3999 [00:38<00:00, 104.14it/s]"
     ]
    },
    {
     "name": "stdout",
     "output_type": "stream",
     "text": [
      "test error-1.056268 \n",
      " Accuracy-76.800000%\n"
     ]
    },
    {
     "name": "stderr",
     "output_type": "stream",
     "text": [
      "\n"
     ]
    }
   ],
   "source": [
    "validation_classes(val_loader_class,model1,loss1,0)"
   ]
  },
  {
   "cell_type": "code",
   "execution_count": 23,
   "id": "d1612532",
   "metadata": {},
   "outputs": [
    {
     "name": "stderr",
     "output_type": "stream",
     "text": [
      "100%|█████████████████████████████████████████████████████████████████████████████| 3999/3999 [00:38<00:00, 104.90it/s]"
     ]
    },
    {
     "name": "stdout",
     "output_type": "stream",
     "text": [
      "test error-0.638078 \n",
      " Accuracy-89.600000%\n"
     ]
    },
    {
     "name": "stderr",
     "output_type": "stream",
     "text": [
      "\n"
     ]
    }
   ],
   "source": [
    "validation_classes(val_loader_class,model1,loss1,1)"
   ]
  },
  {
   "cell_type": "code",
   "execution_count": 24,
   "id": "5b69ab61",
   "metadata": {},
   "outputs": [
    {
     "name": "stderr",
     "output_type": "stream",
     "text": [
      "100%|█████████████████████████████████████████████████████████████████████████████| 3999/3999 [00:39<00:00, 102.45it/s]"
     ]
    },
    {
     "name": "stdout",
     "output_type": "stream",
     "text": [
      "test error-2.460785 \n",
      " Accuracy-55.000000%\n"
     ]
    },
    {
     "name": "stderr",
     "output_type": "stream",
     "text": [
      "\n"
     ]
    }
   ],
   "source": [
    "validation_classes(val_loader_class,model1,loss1,2)"
   ]
  },
  {
   "cell_type": "code",
   "execution_count": 25,
   "id": "c99d7544",
   "metadata": {},
   "outputs": [
    {
     "name": "stderr",
     "output_type": "stream",
     "text": [
      "100%|█████████████████████████████████████████████████████████████████████████████| 3999/3999 [00:36<00:00, 109.07it/s]"
     ]
    },
    {
     "name": "stdout",
     "output_type": "stream",
     "text": [
      "test error-4.931574 \n",
      " Accuracy-39.200000%\n"
     ]
    },
    {
     "name": "stderr",
     "output_type": "stream",
     "text": [
      "\n"
     ]
    }
   ],
   "source": [
    "validation_classes(val_loader_class,model1,loss1,3)"
   ]
  },
  {
   "cell_type": "code",
   "execution_count": 26,
   "id": "47a2bb14",
   "metadata": {},
   "outputs": [
    {
     "name": "stderr",
     "output_type": "stream",
     "text": [
      "100%|█████████████████████████████████████████████████████████████████████████████| 3999/3999 [00:37<00:00, 106.23it/s]"
     ]
    },
    {
     "name": "stdout",
     "output_type": "stream",
     "text": [
      "test error-4.854892 \n",
      " Accuracy-38.600000%\n"
     ]
    },
    {
     "name": "stderr",
     "output_type": "stream",
     "text": [
      "\n"
     ]
    }
   ],
   "source": [
    "validation_classes(val_loader_class,model1,loss1,4)"
   ]
  },
  {
   "cell_type": "code",
   "execution_count": 27,
   "id": "2a27104f",
   "metadata": {},
   "outputs": [
    {
     "name": "stderr",
     "output_type": "stream",
     "text": [
      "100%|█████████████████████████████████████████████████████████████████████████████| 3999/3999 [00:36<00:00, 108.95it/s]"
     ]
    },
    {
     "name": "stdout",
     "output_type": "stream",
     "text": [
      "test error-8.768421 \n",
      " Accuracy-24.800000%\n"
     ]
    },
    {
     "name": "stderr",
     "output_type": "stream",
     "text": [
      "\n"
     ]
    }
   ],
   "source": [
    "validation_classes(val_loader_class,model1,loss1,5)"
   ]
  },
  {
   "cell_type": "code",
   "execution_count": 28,
   "id": "e0542303",
   "metadata": {},
   "outputs": [
    {
     "name": "stderr",
     "output_type": "stream",
     "text": [
      "100%|█████████████████████████████████████████████████████████████████████████████| 3999/3999 [00:37<00:00, 108.00it/s]"
     ]
    },
    {
     "name": "stdout",
     "output_type": "stream",
     "text": [
      "test error-3.339099 \n",
      " Accuracy-52.800000%\n"
     ]
    },
    {
     "name": "stderr",
     "output_type": "stream",
     "text": [
      "\n"
     ]
    }
   ],
   "source": [
    "validation_classes(val_loader_class,model1,loss1,6)"
   ]
  },
  {
   "cell_type": "code",
   "execution_count": 29,
   "id": "b2942616",
   "metadata": {},
   "outputs": [
    {
     "name": "stderr",
     "output_type": "stream",
     "text": [
      "100%|██████████████████████████████████████████████████████████████████████████████| 3999/3999 [00:41<00:00, 96.65it/s]"
     ]
    },
    {
     "name": "stdout",
     "output_type": "stream",
     "text": [
      "test error-8.844050 \n",
      " Accuracy-6.813627%\n"
     ]
    },
    {
     "name": "stderr",
     "output_type": "stream",
     "text": [
      "\n"
     ]
    }
   ],
   "source": [
    "validation_classes(val_loader_class,model1,loss1,7)"
   ]
  },
  {
   "cell_type": "code",
   "execution_count": null,
   "id": "613378d2",
   "metadata": {},
   "outputs": [],
   "source": [
    "# NO OF EPOCHS IS 5\n",
    "epochs=50\n",
    "for epoch in range(epochs):\n",
    "    print(f'Epoch-{epoch}')\n",
    "    train_w_transform(train_loader,model1,loss1,optimizer,transform)\n",
    "    validation(val_loader,model1,loss1)\n"
   ]
  },
  {
   "cell_type": "code",
   "execution_count": null,
   "id": "f2bfc8c1",
   "metadata": {
    "scrolled": true
   },
   "outputs": [],
   "source": [
    "torch.save(model1.state_dict(), r\"C:\\Users\\DELL\\Desktop\\Python\\Affect_Net\\Affectnet\\models\\modelrecent.pth\")"
   ]
  },
  {
   "cell_type": "code",
   "execution_count": null,
   "id": "07082264",
   "metadata": {},
   "outputs": [],
   "source": [
    "torch.save(optimizer.state_dict(), r\"C:\\Users\\DELL\\Desktop\\Python\\Affect_Net\\Affectnet\\models\\optimizerrecent.pth\")"
   ]
  },
  {
   "cell_type": "code",
   "execution_count": null,
   "id": "e568ec1c",
   "metadata": {},
   "outputs": [],
   "source": [
    "torch.cuda.empty_cache()"
   ]
  },
  {
   "cell_type": "code",
   "execution_count": null,
   "id": "8010a532",
   "metadata": {},
   "outputs": [],
   "source": [
    "torch.cuda.memory_summary(device='cuda', abbreviated=True)"
   ]
  }
 ],
 "metadata": {
  "kernelspec": {
   "display_name": "Python 3 (ipykernel)",
   "language": "python",
   "name": "python3"
  },
  "language_info": {
   "codemirror_mode": {
    "name": "ipython",
    "version": 3
   },
   "file_extension": ".py",
   "mimetype": "text/x-python",
   "name": "python",
   "nbconvert_exporter": "python",
   "pygments_lexer": "ipython3",
   "version": "3.7.13"
  }
 },
 "nbformat": 4,
 "nbformat_minor": 5
}
